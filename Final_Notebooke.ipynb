{
 "cells": [
  {
   "cell_type": "markdown",
   "id": "d4868efb",
   "metadata": {},
   "source": [
    "# Predicting Log Error in Zillow\n",
    "By Qinzhi Chen and Rajesh Lamichhane\n",
    "<hr style=\"border-bottom: 10px groove brown; margin-top: 10px; margin-bottom: 10px\"></hr>"
   ]
  },
  {
   "cell_type": "code",
   "execution_count": 1,
   "id": "814e99b7",
   "metadata": {},
   "outputs": [],
   "source": [
    "# team-made modules\n",
    "import wrangle_final\n",
    "import model_final\n",
    "import explore_final\n",
    "# libraries \n",
    "import pandas as pd\n",
    "from sklearn.preprocessing import MinMaxScaler, StandardScaler, RobustScaler, QuantileTransformer, PolynomialFeatures\n",
    "from sklearn.linear_model import LinearRegression, TweedieRegressor, LassoLars\n",
    "from sklearn.feature_selection import SelectKBest, f_regression\n",
    "from sklearn.cluster import KMeans\n",
    "import seaborn as sns\n",
    "from scipy import stats\n",
    "import matplotlib.pyplot as plt"
   ]
  },
  {
   "cell_type": "markdown",
   "id": "4a223c0b",
   "metadata": {},
   "source": [
    "# Project Overview and Goals\n",
    "- The project uses the Zillow provided dataset and incorporate the clustering methodologies to find out the which feature best predict the logerror\n",
    "- The project also going to use the regression methodologies to predict the logerror\n",
    "- The Goal of this project is to identify factors affecting deviation of the logerror in the Zillow dataset\n",
    "- The project will also utilize the machine learning algorithms to create a model \n",
    "- The project will also going to to utilize the statistic, hypothesis, and visualization to provide a easy to interpret result"
   ]
  },
  {
   "cell_type": "markdown",
   "id": "fb8c23b5",
   "metadata": {},
   "source": [
    "# Wrangle Data (Acquire and Prepare)"
   ]
  },
  {
   "cell_type": "code",
   "execution_count": 2,
   "id": "fdaa9bdf",
   "metadata": {},
   "outputs": [],
   "source": [
    "# The acquisition came from a already built module from the team\n",
    "zillow_train, zillow_validate, zillow_test=wrangle_final.wrangled_file()"
   ]
  },
  {
   "cell_type": "code",
   "execution_count": 3,
   "id": "d793d440",
   "metadata": {},
   "outputs": [
    {
     "name": "stdout",
     "output_type": "stream",
     "text": [
      "The basic stats about zillow dataframe is:  \n",
      "                  id      parcelid  airconditioningtypeid  \\\n",
      "count  7.738000e+04  7.738000e+04           24953.000000   \n",
      "mean   1.495126e+06  1.300715e+07               1.813289   \n",
      "std    8.609057e+05  3.481368e+06               2.967894   \n",
      "min    3.490000e+02  1.071186e+07               1.000000   \n",
      "25%    7.520500e+05  1.153830e+07               1.000000   \n",
      "50%    1.497870e+06  1.253155e+07               1.000000   \n",
      "75%    2.240480e+06  1.421184e+07               1.000000   \n",
      "max    2.982274e+06  1.676893e+08              13.000000   \n",
      "\n",
      "       architecturalstyletypeid  basementsqft   bathroomcnt    bedroomcnt  \\\n",
      "count                206.000000     50.000000  77380.000000  77380.000000   \n",
      "mean                   7.388350    679.720000      2.299134      3.053489   \n",
      "std                    2.734542    689.703546      0.996657      1.139103   \n",
      "min                    2.000000     38.000000      0.000000      0.000000   \n",
      "25%                    7.000000    273.000000      2.000000      2.000000   \n",
      "50%                    7.000000    515.000000      2.000000      3.000000   \n",
      "75%                    7.000000    796.500000      3.000000      4.000000   \n",
      "max                   21.000000   3560.000000     18.000000     16.000000   \n",
      "\n",
      "       buildingclasstypeid  buildingqualitytypeid  calculatedbathnbr  ...  \\\n",
      "count            15.000000           49671.000000       76771.000000  ...   \n",
      "mean              3.933333               6.534638           2.316871  ...   \n",
      "std               0.258199               1.721933           0.979761  ...   \n",
      "min               3.000000               1.000000           1.000000  ...   \n",
      "25%               4.000000               6.000000           2.000000  ...   \n",
      "50%               4.000000               6.000000           2.000000  ...   \n",
      "75%               4.000000               8.000000           3.000000  ...   \n",
      "max               4.000000              12.000000          18.000000  ...   \n",
      "\n",
      "       numberofstories  fireplaceflag  structuretaxvaluedollarcnt  \\\n",
      "count     17560.000000          172.0                7.726800e+04   \n",
      "mean          1.434738            1.0                1.893160e+05   \n",
      "std           0.544569            0.0                2.300886e+05   \n",
      "min           1.000000            1.0                4.400000e+01   \n",
      "25%           1.000000            1.0                8.426500e+04   \n",
      "50%           1.000000            1.0                1.364995e+05   \n",
      "75%           2.000000            1.0                2.187875e+05   \n",
      "max           6.000000            1.0                1.142179e+07   \n",
      "\n",
      "       taxvaluedollarcnt  assessmentyear  landtaxvaluedollarcnt  \\\n",
      "count       7.737900e+04         77380.0           7.737800e+04   \n",
      "mean        4.901375e+05          2016.0           3.010969e+05   \n",
      "std         6.534477e+05             0.0           4.925990e+05   \n",
      "min         1.000000e+03          2016.0           1.610000e+02   \n",
      "25%         2.070000e+05          2016.0           8.550400e+04   \n",
      "50%         3.589760e+05          2016.0           2.033835e+05   \n",
      "75%         5.690030e+05          2016.0           3.668022e+05   \n",
      "max         4.906124e+07          2016.0           4.895220e+07   \n",
      "\n",
      "           taxamount  taxdelinquencyyear  censustractandblock      logerror  \n",
      "count   77375.000000         2886.000000         7.713600e+04  77380.000000  \n",
      "mean     5995.566592           14.087318         6.049674e+13      0.016628  \n",
      "std      7622.887460            2.185663         1.535252e+12      0.170190  \n",
      "min        19.920000            3.000000         6.037101e+13     -4.655420  \n",
      "25%      2715.585000           14.000000         6.037311e+13     -0.024377  \n",
      "50%      4450.720000           15.000000         6.037603e+13      0.006627  \n",
      "75%      6927.800000           15.000000         6.059042e+13      0.039204  \n",
      "max    586639.300000           99.000000         4.830301e+14      5.262999  \n",
      "\n",
      "[8 rows x 57 columns]\n",
      "<class 'pandas.core.frame.DataFrame'>\n",
      "RangeIndex: 77380 entries, 0 to 77379\n",
      "Data columns (total 68 columns):\n",
      " #   Column                        Non-Null Count  Dtype  \n",
      "---  ------                        --------------  -----  \n",
      " 0   id                            77380 non-null  int64  \n",
      " 1   parcelid                      77380 non-null  int64  \n",
      " 2   airconditioningtypeid         24953 non-null  float64\n",
      " 3   architecturalstyletypeid      206 non-null    float64\n",
      " 4   basementsqft                  50 non-null     float64\n",
      " 5   bathroomcnt                   77380 non-null  float64\n",
      " 6   bedroomcnt                    77380 non-null  float64\n",
      " 7   buildingclasstypeid           15 non-null     float64\n",
      " 8   buildingqualitytypeid         49671 non-null  float64\n",
      " 9   calculatedbathnbr             76771 non-null  float64\n",
      " 10  decktypeid                    614 non-null    float64\n",
      " 11  finishedfloor1squarefeet      6023 non-null   float64\n",
      " 12  calculatedfinishedsquarefeet  77184 non-null  float64\n",
      " 13  finishedsquarefeet12          73748 non-null  float64\n",
      " 14  finishedsquarefeet13          41 non-null     float64\n",
      " 15  finishedsquarefeet15          3009 non-null   float64\n",
      " 16  finishedsquarefeet50          6023 non-null   float64\n",
      " 17  finishedsquarefeet6           386 non-null    float64\n",
      " 18  fips                          77380 non-null  float64\n",
      " 19  fireplacecnt                  8276 non-null   float64\n",
      " 20  fullbathcnt                   76771 non-null  float64\n",
      " 21  garagecarcnt                  25474 non-null  float64\n",
      " 22  garagetotalsqft               25474 non-null  float64\n",
      " 23  hashottuborspa                1538 non-null   float64\n",
      " 24  heatingorsystemtypeid         49439 non-null  float64\n",
      " 25  latitude                      77380 non-null  float64\n",
      " 26  longitude                     77380 non-null  float64\n",
      " 27  lotsizesquarefeet             69141 non-null  float64\n",
      " 28  poolcnt                       16137 non-null  float64\n",
      " 29  poolsizesum                   867 non-null    float64\n",
      " 30  pooltypeid10                  464 non-null    float64\n",
      " 31  pooltypeid2                   1074 non-null   float64\n",
      " 32  pooltypeid7                   15042 non-null  float64\n",
      " 33  propertycountylandusecode     77380 non-null  object \n",
      " 34  propertylandusetypeid         77380 non-null  float64\n",
      " 35  propertyzoningdesc            50330 non-null  object \n",
      " 36  rawcensustractandblock        77380 non-null  float64\n",
      " 37  regionidcity                  75909 non-null  float64\n",
      " 38  regionidcounty                77380 non-null  float64\n",
      " 39  regionidneighborhood          30890 non-null  float64\n",
      " 40  regionidzip                   77330 non-null  float64\n",
      " 41  roomcnt                       77380 non-null  float64\n",
      " 42  storytypeid                   50 non-null     float64\n",
      " 43  threequarterbathnbr           10096 non-null  float64\n",
      " 44  typeconstructiontypeid        222 non-null    float64\n",
      " 45  unitcnt                       50562 non-null  float64\n",
      " 46  yardbuildingsqft17            2388 non-null   float64\n",
      " 47  yardbuildingsqft26            70 non-null     float64\n",
      " 48  yearbuilt                     77117 non-null  float64\n",
      " 49  numberofstories               17560 non-null  float64\n",
      " 50  fireplaceflag                 172 non-null    float64\n",
      " 51  structuretaxvaluedollarcnt    77268 non-null  float64\n",
      " 52  taxvaluedollarcnt             77379 non-null  float64\n",
      " 53  assessmentyear                77380 non-null  float64\n",
      " 54  landtaxvaluedollarcnt         77378 non-null  float64\n",
      " 55  taxamount                     77375 non-null  float64\n",
      " 56  taxdelinquencyflag            2886 non-null   object \n",
      " 57  taxdelinquencyyear            2886 non-null   float64\n",
      " 58  censustractandblock           77136 non-null  float64\n",
      " 59  logerror                      77380 non-null  float64\n",
      " 60  transactiondate               77380 non-null  object \n",
      " 61  airconditioningdesc           24953 non-null  object \n",
      " 62  architecturalstyledesc        206 non-null    object \n",
      " 63  buildingclassdesc             15 non-null     object \n",
      " 64  heatingorsystemdesc           49439 non-null  object \n",
      " 65  propertylandusedesc           77380 non-null  object \n",
      " 66  storydesc                     50 non-null     object \n",
      " 67  typeconstructiondesc          222 non-null    object \n",
      "dtypes: float64(55), int64(2), object(11)\n",
      "memory usage: 40.1+ MB\n",
      "The shape of the zillow dataframe is:  \n",
      " None\n"
     ]
    }
   ],
   "source": [
    "# retireve basic information about the data\n",
    "wrangle_final.zillow_info()"
   ]
  },
  {
   "cell_type": "code",
   "execution_count": 4,
   "id": "e42414de",
   "metadata": {},
   "outputs": [
    {
     "data": {
      "text/plain": [
       "bathroom                      0\n",
       "bedroom                       0\n",
       "calculatedbathnbr             0\n",
       "sqtft                         0\n",
       "finishedsquarefeet12          0\n",
       "fips                          0\n",
       "fullbathcnt                   0\n",
       "latitude                      0\n",
       "longitude                     0\n",
       "propertycountylandusecode     0\n",
       "rawcensustractandblock        0\n",
       "zipcode                       0\n",
       "roomcnt                       0\n",
       "yearbuilt                     0\n",
       "structuretaxvaluedollarcnt    0\n",
       "taxvalue                      0\n",
       "assessmentyear                0\n",
       "landtaxvaluedollarcnt         0\n",
       "taxamount                     0\n",
       "censustractandblock           0\n",
       "logerror                      0\n",
       "propertylandusedesc           0\n",
       "county                        0\n",
       "taxrate                       0\n",
       "month                         0\n",
       "age                           0\n",
       "dtype: int64"
      ]
     },
     "execution_count": 4,
     "metadata": {},
     "output_type": "execute_result"
    }
   ],
   "source": [
    "# check if the module successfully handled null values\n",
    "zillow_train.isnull().sum()"
   ]
  },
  {
   "cell_type": "markdown",
   "id": "01a1c23b",
   "metadata": {},
   "source": [
    "## Key Takeway\n",
    "- The module acquire all required data from the SQL database\n",
    "- The module created a local file after acquired the data\n",
    "- The module delete any columns that have over 40% nulls or more than 50% nulls\n",
    "- The module fianlized with 70898 rows.\n",
    "- The module also removed the outlier and drop null values to finalize the acquisition process\n",
    "- The module split the data to train, validate, and test\n",
    "- The module created a scale function for later use\n",
    "- The module ended up with 26 coloumns, with 20 of them are float, 1 int, and 5 ojects\n",
    "- The module also created four new columns in prepare for the exploration"
   ]
  },
  {
   "cell_type": "markdown",
   "id": "a5aa9938",
   "metadata": {},
   "source": [
    "# Exploration & Clustering"
   ]
  },
  {
   "cell_type": "code",
   "execution_count": 5,
   "id": "67576b74",
   "metadata": {},
   "outputs": [],
   "source": [
    "# use module in wrangle final to scale the columns in prepare for clustering and explore\n",
    "scaled_train,scaled_validate,scaled_test=wrangle_final.scale_data(zillow_train,zillow_validate,zillow_test,cols=['bathroom','bedroom','taxrate','month','age','sqtft'])"
   ]
  },
  {
   "cell_type": "code",
   "execution_count": 6,
   "id": "db2291d0",
   "metadata": {},
   "outputs": [
    {
     "data": {
      "text/html": [
       "<div>\n",
       "<style scoped>\n",
       "    .dataframe tbody tr th:only-of-type {\n",
       "        vertical-align: middle;\n",
       "    }\n",
       "\n",
       "    .dataframe tbody tr th {\n",
       "        vertical-align: top;\n",
       "    }\n",
       "\n",
       "    .dataframe thead th {\n",
       "        text-align: right;\n",
       "    }\n",
       "</style>\n",
       "<table border=\"1\" class=\"dataframe\">\n",
       "  <thead>\n",
       "    <tr style=\"text-align: right;\">\n",
       "      <th></th>\n",
       "      <th>bathroom</th>\n",
       "      <th>bedroom</th>\n",
       "      <th>calculatedbathnbr</th>\n",
       "      <th>sqtft</th>\n",
       "      <th>finishedsquarefeet12</th>\n",
       "      <th>fips</th>\n",
       "      <th>fullbathcnt</th>\n",
       "      <th>latitude</th>\n",
       "      <th>longitude</th>\n",
       "      <th>propertycountylandusecode</th>\n",
       "      <th>...</th>\n",
       "      <th>county</th>\n",
       "      <th>taxrate</th>\n",
       "      <th>month</th>\n",
       "      <th>age</th>\n",
       "      <th>bathroom_scaled</th>\n",
       "      <th>bedroom_scaled</th>\n",
       "      <th>taxrate_scaled</th>\n",
       "      <th>month_scaled</th>\n",
       "      <th>age_scaled</th>\n",
       "      <th>sqtft_scaled</th>\n",
       "    </tr>\n",
       "  </thead>\n",
       "  <tbody>\n",
       "    <tr>\n",
       "      <th>0</th>\n",
       "      <td>1.0</td>\n",
       "      <td>2.0</td>\n",
       "      <td>1.0</td>\n",
       "      <td>1128.0</td>\n",
       "      <td>1128.0</td>\n",
       "      <td>6037.0</td>\n",
       "      <td>1.0</td>\n",
       "      <td>33947371.0</td>\n",
       "      <td>-118157346.0</td>\n",
       "      <td>0100</td>\n",
       "      <td>...</td>\n",
       "      <td>Los Angeles County, CA</td>\n",
       "      <td>0.012420</td>\n",
       "      <td>7</td>\n",
       "      <td>73.0</td>\n",
       "      <td>0.000000</td>\n",
       "      <td>0.250</td>\n",
       "      <td>0.066853</td>\n",
       "      <td>0.750</td>\n",
       "      <td>0.507692</td>\n",
       "      <td>0.253704</td>\n",
       "    </tr>\n",
       "    <tr>\n",
       "      <th>1</th>\n",
       "      <td>1.0</td>\n",
       "      <td>3.0</td>\n",
       "      <td>1.0</td>\n",
       "      <td>1252.0</td>\n",
       "      <td>1252.0</td>\n",
       "      <td>6037.0</td>\n",
       "      <td>1.0</td>\n",
       "      <td>34141060.0</td>\n",
       "      <td>-118115780.0</td>\n",
       "      <td>0100</td>\n",
       "      <td>...</td>\n",
       "      <td>Los Angeles County, CA</td>\n",
       "      <td>0.012178</td>\n",
       "      <td>6</td>\n",
       "      <td>100.0</td>\n",
       "      <td>0.000000</td>\n",
       "      <td>0.375</td>\n",
       "      <td>0.065527</td>\n",
       "      <td>0.625</td>\n",
       "      <td>0.715385</td>\n",
       "      <td>0.285937</td>\n",
       "    </tr>\n",
       "    <tr>\n",
       "      <th>2</th>\n",
       "      <td>1.0</td>\n",
       "      <td>3.0</td>\n",
       "      <td>1.0</td>\n",
       "      <td>2093.0</td>\n",
       "      <td>2093.0</td>\n",
       "      <td>6037.0</td>\n",
       "      <td>1.0</td>\n",
       "      <td>34055226.0</td>\n",
       "      <td>-118314194.0</td>\n",
       "      <td>0100</td>\n",
       "      <td>...</td>\n",
       "      <td>Los Angeles County, CA</td>\n",
       "      <td>0.012079</td>\n",
       "      <td>8</td>\n",
       "      <td>99.0</td>\n",
       "      <td>0.000000</td>\n",
       "      <td>0.375</td>\n",
       "      <td>0.064986</td>\n",
       "      <td>0.875</td>\n",
       "      <td>0.707692</td>\n",
       "      <td>0.504549</td>\n",
       "    </tr>\n",
       "    <tr>\n",
       "      <th>3</th>\n",
       "      <td>2.5</td>\n",
       "      <td>4.0</td>\n",
       "      <td>2.5</td>\n",
       "      <td>2200.0</td>\n",
       "      <td>2200.0</td>\n",
       "      <td>6059.0</td>\n",
       "      <td>2.0</td>\n",
       "      <td>33642576.0</td>\n",
       "      <td>-117689783.0</td>\n",
       "      <td>122</td>\n",
       "      <td>...</td>\n",
       "      <td>Orange County, CA</td>\n",
       "      <td>0.010447</td>\n",
       "      <td>8</td>\n",
       "      <td>48.0</td>\n",
       "      <td>0.272727</td>\n",
       "      <td>0.500</td>\n",
       "      <td>0.056036</td>\n",
       "      <td>0.875</td>\n",
       "      <td>0.315385</td>\n",
       "      <td>0.532363</td>\n",
       "    </tr>\n",
       "    <tr>\n",
       "      <th>4</th>\n",
       "      <td>1.0</td>\n",
       "      <td>3.0</td>\n",
       "      <td>1.0</td>\n",
       "      <td>1389.0</td>\n",
       "      <td>1389.0</td>\n",
       "      <td>6059.0</td>\n",
       "      <td>1.0</td>\n",
       "      <td>33866740.0</td>\n",
       "      <td>-117961748.0</td>\n",
       "      <td>122</td>\n",
       "      <td>...</td>\n",
       "      <td>Orange County, CA</td>\n",
       "      <td>0.012560</td>\n",
       "      <td>6</td>\n",
       "      <td>69.0</td>\n",
       "      <td>0.000000</td>\n",
       "      <td>0.375</td>\n",
       "      <td>0.067625</td>\n",
       "      <td>0.625</td>\n",
       "      <td>0.476923</td>\n",
       "      <td>0.321549</td>\n",
       "    </tr>\n",
       "    <tr>\n",
       "      <th>...</th>\n",
       "      <td>...</td>\n",
       "      <td>...</td>\n",
       "      <td>...</td>\n",
       "      <td>...</td>\n",
       "      <td>...</td>\n",
       "      <td>...</td>\n",
       "      <td>...</td>\n",
       "      <td>...</td>\n",
       "      <td>...</td>\n",
       "      <td>...</td>\n",
       "      <td>...</td>\n",
       "      <td>...</td>\n",
       "      <td>...</td>\n",
       "      <td>...</td>\n",
       "      <td>...</td>\n",
       "      <td>...</td>\n",
       "      <td>...</td>\n",
       "      <td>...</td>\n",
       "      <td>...</td>\n",
       "      <td>...</td>\n",
       "      <td>...</td>\n",
       "    </tr>\n",
       "    <tr>\n",
       "      <th>39718</th>\n",
       "      <td>2.5</td>\n",
       "      <td>3.0</td>\n",
       "      <td>2.5</td>\n",
       "      <td>2254.0</td>\n",
       "      <td>2254.0</td>\n",
       "      <td>6059.0</td>\n",
       "      <td>2.0</td>\n",
       "      <td>33755262.0</td>\n",
       "      <td>-118017324.0</td>\n",
       "      <td>122</td>\n",
       "      <td>...</td>\n",
       "      <td>Orange County, CA</td>\n",
       "      <td>0.011705</td>\n",
       "      <td>8</td>\n",
       "      <td>23.0</td>\n",
       "      <td>0.272727</td>\n",
       "      <td>0.375</td>\n",
       "      <td>0.062937</td>\n",
       "      <td>0.875</td>\n",
       "      <td>0.123077</td>\n",
       "      <td>0.546400</td>\n",
       "    </tr>\n",
       "    <tr>\n",
       "      <th>39719</th>\n",
       "      <td>1.0</td>\n",
       "      <td>2.0</td>\n",
       "      <td>1.0</td>\n",
       "      <td>945.0</td>\n",
       "      <td>945.0</td>\n",
       "      <td>6037.0</td>\n",
       "      <td>1.0</td>\n",
       "      <td>34166305.0</td>\n",
       "      <td>-118112897.0</td>\n",
       "      <td>0100</td>\n",
       "      <td>...</td>\n",
       "      <td>Los Angeles County, CA</td>\n",
       "      <td>0.011720</td>\n",
       "      <td>1</td>\n",
       "      <td>99.0</td>\n",
       "      <td>0.000000</td>\n",
       "      <td>0.250</td>\n",
       "      <td>0.063019</td>\n",
       "      <td>0.000</td>\n",
       "      <td>0.707692</td>\n",
       "      <td>0.206135</td>\n",
       "    </tr>\n",
       "    <tr>\n",
       "      <th>39720</th>\n",
       "      <td>1.0</td>\n",
       "      <td>2.0</td>\n",
       "      <td>1.0</td>\n",
       "      <td>834.0</td>\n",
       "      <td>834.0</td>\n",
       "      <td>6037.0</td>\n",
       "      <td>1.0</td>\n",
       "      <td>33997098.0</td>\n",
       "      <td>-118087683.0</td>\n",
       "      <td>0101</td>\n",
       "      <td>...</td>\n",
       "      <td>Los Angeles County, CA</td>\n",
       "      <td>0.012740</td>\n",
       "      <td>7</td>\n",
       "      <td>72.0</td>\n",
       "      <td>0.000000</td>\n",
       "      <td>0.250</td>\n",
       "      <td>0.068609</td>\n",
       "      <td>0.750</td>\n",
       "      <td>0.500000</td>\n",
       "      <td>0.177281</td>\n",
       "    </tr>\n",
       "    <tr>\n",
       "      <th>39721</th>\n",
       "      <td>1.0</td>\n",
       "      <td>2.0</td>\n",
       "      <td>1.0</td>\n",
       "      <td>884.0</td>\n",
       "      <td>884.0</td>\n",
       "      <td>6037.0</td>\n",
       "      <td>1.0</td>\n",
       "      <td>33967821.0</td>\n",
       "      <td>-118304074.0</td>\n",
       "      <td>0100</td>\n",
       "      <td>...</td>\n",
       "      <td>Los Angeles County, CA</td>\n",
       "      <td>0.012392</td>\n",
       "      <td>8</td>\n",
       "      <td>74.0</td>\n",
       "      <td>0.000000</td>\n",
       "      <td>0.250</td>\n",
       "      <td>0.066704</td>\n",
       "      <td>0.875</td>\n",
       "      <td>0.515385</td>\n",
       "      <td>0.190278</td>\n",
       "    </tr>\n",
       "    <tr>\n",
       "      <th>39722</th>\n",
       "      <td>1.0</td>\n",
       "      <td>3.0</td>\n",
       "      <td>1.0</td>\n",
       "      <td>842.0</td>\n",
       "      <td>842.0</td>\n",
       "      <td>6037.0</td>\n",
       "      <td>1.0</td>\n",
       "      <td>34653422.0</td>\n",
       "      <td>-118204089.0</td>\n",
       "      <td>0100</td>\n",
       "      <td>...</td>\n",
       "      <td>Los Angeles County, CA</td>\n",
       "      <td>0.016992</td>\n",
       "      <td>4</td>\n",
       "      <td>70.0</td>\n",
       "      <td>0.000000</td>\n",
       "      <td>0.375</td>\n",
       "      <td>0.091930</td>\n",
       "      <td>0.375</td>\n",
       "      <td>0.484615</td>\n",
       "      <td>0.179361</td>\n",
       "    </tr>\n",
       "  </tbody>\n",
       "</table>\n",
       "<p>39723 rows × 32 columns</p>\n",
       "</div>"
      ],
      "text/plain": [
       "       bathroom  bedroom  calculatedbathnbr   sqtft  finishedsquarefeet12  \\\n",
       "0           1.0      2.0                1.0  1128.0                1128.0   \n",
       "1           1.0      3.0                1.0  1252.0                1252.0   \n",
       "2           1.0      3.0                1.0  2093.0                2093.0   \n",
       "3           2.5      4.0                2.5  2200.0                2200.0   \n",
       "4           1.0      3.0                1.0  1389.0                1389.0   \n",
       "...         ...      ...                ...     ...                   ...   \n",
       "39718       2.5      3.0                2.5  2254.0                2254.0   \n",
       "39719       1.0      2.0                1.0   945.0                 945.0   \n",
       "39720       1.0      2.0                1.0   834.0                 834.0   \n",
       "39721       1.0      2.0                1.0   884.0                 884.0   \n",
       "39722       1.0      3.0                1.0   842.0                 842.0   \n",
       "\n",
       "         fips  fullbathcnt    latitude    longitude propertycountylandusecode  \\\n",
       "0      6037.0          1.0  33947371.0 -118157346.0                      0100   \n",
       "1      6037.0          1.0  34141060.0 -118115780.0                      0100   \n",
       "2      6037.0          1.0  34055226.0 -118314194.0                      0100   \n",
       "3      6059.0          2.0  33642576.0 -117689783.0                       122   \n",
       "4      6059.0          1.0  33866740.0 -117961748.0                       122   \n",
       "...       ...          ...         ...          ...                       ...   \n",
       "39718  6059.0          2.0  33755262.0 -118017324.0                       122   \n",
       "39719  6037.0          1.0  34166305.0 -118112897.0                      0100   \n",
       "39720  6037.0          1.0  33997098.0 -118087683.0                      0101   \n",
       "39721  6037.0          1.0  33967821.0 -118304074.0                      0100   \n",
       "39722  6037.0          1.0  34653422.0 -118204089.0                      0100   \n",
       "\n",
       "       ...                  county   taxrate  month    age  bathroom_scaled  \\\n",
       "0      ...  Los Angeles County, CA  0.012420      7   73.0         0.000000   \n",
       "1      ...  Los Angeles County, CA  0.012178      6  100.0         0.000000   \n",
       "2      ...  Los Angeles County, CA  0.012079      8   99.0         0.000000   \n",
       "3      ...       Orange County, CA  0.010447      8   48.0         0.272727   \n",
       "4      ...       Orange County, CA  0.012560      6   69.0         0.000000   \n",
       "...    ...                     ...       ...    ...    ...              ...   \n",
       "39718  ...       Orange County, CA  0.011705      8   23.0         0.272727   \n",
       "39719  ...  Los Angeles County, CA  0.011720      1   99.0         0.000000   \n",
       "39720  ...  Los Angeles County, CA  0.012740      7   72.0         0.000000   \n",
       "39721  ...  Los Angeles County, CA  0.012392      8   74.0         0.000000   \n",
       "39722  ...  Los Angeles County, CA  0.016992      4   70.0         0.000000   \n",
       "\n",
       "       bedroom_scaled  taxrate_scaled  month_scaled  age_scaled  sqtft_scaled  \n",
       "0               0.250        0.066853         0.750    0.507692      0.253704  \n",
       "1               0.375        0.065527         0.625    0.715385      0.285937  \n",
       "2               0.375        0.064986         0.875    0.707692      0.504549  \n",
       "3               0.500        0.056036         0.875    0.315385      0.532363  \n",
       "4               0.375        0.067625         0.625    0.476923      0.321549  \n",
       "...               ...             ...           ...         ...           ...  \n",
       "39718           0.375        0.062937         0.875    0.123077      0.546400  \n",
       "39719           0.250        0.063019         0.000    0.707692      0.206135  \n",
       "39720           0.250        0.068609         0.750    0.500000      0.177281  \n",
       "39721           0.250        0.066704         0.875    0.515385      0.190278  \n",
       "39722           0.375        0.091930         0.375    0.484615      0.179361  \n",
       "\n",
       "[39723 rows x 32 columns]"
      ]
     },
     "execution_count": 6,
     "metadata": {},
     "output_type": "execute_result"
    }
   ],
   "source": [
    "# after scaled bathroom, bedroom, taxrate\n",
    "scaled_train"
   ]
  },
  {
   "cell_type": "code",
   "execution_count": 7,
   "id": "6d8cf2ad",
   "metadata": {},
   "outputs": [
    {
     "data": {
      "image/png": "[encoded data removed]",
      "text/plain": [
       "<Figure size 648x432 with 1 Axes>"
      ]
     },
     "metadata": {},
     "output_type": "display_data"
    }
   ],
   "source": [
    "# Find out the best clusters\n",
    "explore_final.cluster(scaled_train)"
   ]
  },
  {
   "cell_type": "code",
   "execution_count": 8,
   "id": "2ac6575e",
   "metadata": {},
   "outputs": [
    {
     "data": {
      "text/html": [
       "<div>\n",
       "<style scoped>\n",
       "    .dataframe tbody tr th:only-of-type {\n",
       "        vertical-align: middle;\n",
       "    }\n",
       "\n",
       "    .dataframe tbody tr th {\n",
       "        vertical-align: top;\n",
       "    }\n",
       "\n",
       "    .dataframe thead th {\n",
       "        text-align: right;\n",
       "    }\n",
       "</style>\n",
       "<table border=\"1\" class=\"dataframe\">\n",
       "  <thead>\n",
       "    <tr style=\"text-align: right;\">\n",
       "      <th></th>\n",
       "      <th>bathroom</th>\n",
       "      <th>bedroom</th>\n",
       "      <th>calculatedbathnbr</th>\n",
       "      <th>sqtft</th>\n",
       "      <th>finishedsquarefeet12</th>\n",
       "      <th>fips</th>\n",
       "      <th>fullbathcnt</th>\n",
       "      <th>latitude</th>\n",
       "      <th>longitude</th>\n",
       "      <th>propertycountylandusecode</th>\n",
       "      <th>...</th>\n",
       "      <th>taxrate</th>\n",
       "      <th>month</th>\n",
       "      <th>age</th>\n",
       "      <th>bathroom_scaled</th>\n",
       "      <th>bedroom_scaled</th>\n",
       "      <th>taxrate_scaled</th>\n",
       "      <th>month_scaled</th>\n",
       "      <th>age_scaled</th>\n",
       "      <th>sqtft_scaled</th>\n",
       "      <th>cluster</th>\n",
       "    </tr>\n",
       "  </thead>\n",
       "  <tbody>\n",
       "    <tr>\n",
       "      <th>0</th>\n",
       "      <td>1.0</td>\n",
       "      <td>2.0</td>\n",
       "      <td>1.0</td>\n",
       "      <td>1128.0</td>\n",
       "      <td>1128.0</td>\n",
       "      <td>6037.0</td>\n",
       "      <td>1.0</td>\n",
       "      <td>33947371.0</td>\n",
       "      <td>-118157346.0</td>\n",
       "      <td>0100</td>\n",
       "      <td>...</td>\n",
       "      <td>0.012420</td>\n",
       "      <td>7</td>\n",
       "      <td>73.0</td>\n",
       "      <td>0.000000</td>\n",
       "      <td>0.250</td>\n",
       "      <td>0.066853</td>\n",
       "      <td>0.750</td>\n",
       "      <td>0.507692</td>\n",
       "      <td>0.253704</td>\n",
       "      <td>0</td>\n",
       "    </tr>\n",
       "    <tr>\n",
       "      <th>1</th>\n",
       "      <td>1.0</td>\n",
       "      <td>3.0</td>\n",
       "      <td>1.0</td>\n",
       "      <td>1252.0</td>\n",
       "      <td>1252.0</td>\n",
       "      <td>6037.0</td>\n",
       "      <td>1.0</td>\n",
       "      <td>34141060.0</td>\n",
       "      <td>-118115780.0</td>\n",
       "      <td>0100</td>\n",
       "      <td>...</td>\n",
       "      <td>0.012178</td>\n",
       "      <td>6</td>\n",
       "      <td>100.0</td>\n",
       "      <td>0.000000</td>\n",
       "      <td>0.375</td>\n",
       "      <td>0.065527</td>\n",
       "      <td>0.625</td>\n",
       "      <td>0.715385</td>\n",
       "      <td>0.285937</td>\n",
       "      <td>0</td>\n",
       "    </tr>\n",
       "    <tr>\n",
       "      <th>2</th>\n",
       "      <td>1.0</td>\n",
       "      <td>3.0</td>\n",
       "      <td>1.0</td>\n",
       "      <td>2093.0</td>\n",
       "      <td>2093.0</td>\n",
       "      <td>6037.0</td>\n",
       "      <td>1.0</td>\n",
       "      <td>34055226.0</td>\n",
       "      <td>-118314194.0</td>\n",
       "      <td>0100</td>\n",
       "      <td>...</td>\n",
       "      <td>0.012079</td>\n",
       "      <td>8</td>\n",
       "      <td>99.0</td>\n",
       "      <td>0.000000</td>\n",
       "      <td>0.375</td>\n",
       "      <td>0.064986</td>\n",
       "      <td>0.875</td>\n",
       "      <td>0.707692</td>\n",
       "      <td>0.504549</td>\n",
       "      <td>1</td>\n",
       "    </tr>\n",
       "    <tr>\n",
       "      <th>3</th>\n",
       "      <td>2.5</td>\n",
       "      <td>4.0</td>\n",
       "      <td>2.5</td>\n",
       "      <td>2200.0</td>\n",
       "      <td>2200.0</td>\n",
       "      <td>6059.0</td>\n",
       "      <td>2.0</td>\n",
       "      <td>33642576.0</td>\n",
       "      <td>-117689783.0</td>\n",
       "      <td>122</td>\n",
       "      <td>...</td>\n",
       "      <td>0.010447</td>\n",
       "      <td>8</td>\n",
       "      <td>48.0</td>\n",
       "      <td>0.272727</td>\n",
       "      <td>0.500</td>\n",
       "      <td>0.056036</td>\n",
       "      <td>0.875</td>\n",
       "      <td>0.315385</td>\n",
       "      <td>0.532363</td>\n",
       "      <td>1</td>\n",
       "    </tr>\n",
       "    <tr>\n",
       "      <th>4</th>\n",
       "      <td>1.0</td>\n",
       "      <td>3.0</td>\n",
       "      <td>1.0</td>\n",
       "      <td>1389.0</td>\n",
       "      <td>1389.0</td>\n",
       "      <td>6059.0</td>\n",
       "      <td>1.0</td>\n",
       "      <td>33866740.0</td>\n",
       "      <td>-117961748.0</td>\n",
       "      <td>122</td>\n",
       "      <td>...</td>\n",
       "      <td>0.012560</td>\n",
       "      <td>6</td>\n",
       "      <td>69.0</td>\n",
       "      <td>0.000000</td>\n",
       "      <td>0.375</td>\n",
       "      <td>0.067625</td>\n",
       "      <td>0.625</td>\n",
       "      <td>0.476923</td>\n",
       "      <td>0.321549</td>\n",
       "      <td>0</td>\n",
       "    </tr>\n",
       "    <tr>\n",
       "      <th>...</th>\n",
       "      <td>...</td>\n",
       "      <td>...</td>\n",
       "      <td>...</td>\n",
       "      <td>...</td>\n",
       "      <td>...</td>\n",
       "      <td>...</td>\n",
       "      <td>...</td>\n",
       "      <td>...</td>\n",
       "      <td>...</td>\n",
       "      <td>...</td>\n",
       "      <td>...</td>\n",
       "      <td>...</td>\n",
       "      <td>...</td>\n",
       "      <td>...</td>\n",
       "      <td>...</td>\n",
       "      <td>...</td>\n",
       "      <td>...</td>\n",
       "      <td>...</td>\n",
       "      <td>...</td>\n",
       "      <td>...</td>\n",
       "      <td>...</td>\n",
       "    </tr>\n",
       "    <tr>\n",
       "      <th>39718</th>\n",
       "      <td>2.5</td>\n",
       "      <td>3.0</td>\n",
       "      <td>2.5</td>\n",
       "      <td>2254.0</td>\n",
       "      <td>2254.0</td>\n",
       "      <td>6059.0</td>\n",
       "      <td>2.0</td>\n",
       "      <td>33755262.0</td>\n",
       "      <td>-118017324.0</td>\n",
       "      <td>122</td>\n",
       "      <td>...</td>\n",
       "      <td>0.011705</td>\n",
       "      <td>8</td>\n",
       "      <td>23.0</td>\n",
       "      <td>0.272727</td>\n",
       "      <td>0.375</td>\n",
       "      <td>0.062937</td>\n",
       "      <td>0.875</td>\n",
       "      <td>0.123077</td>\n",
       "      <td>0.546400</td>\n",
       "      <td>1</td>\n",
       "    </tr>\n",
       "    <tr>\n",
       "      <th>39719</th>\n",
       "      <td>1.0</td>\n",
       "      <td>2.0</td>\n",
       "      <td>1.0</td>\n",
       "      <td>945.0</td>\n",
       "      <td>945.0</td>\n",
       "      <td>6037.0</td>\n",
       "      <td>1.0</td>\n",
       "      <td>34166305.0</td>\n",
       "      <td>-118112897.0</td>\n",
       "      <td>0100</td>\n",
       "      <td>...</td>\n",
       "      <td>0.011720</td>\n",
       "      <td>1</td>\n",
       "      <td>99.0</td>\n",
       "      <td>0.000000</td>\n",
       "      <td>0.250</td>\n",
       "      <td>0.063019</td>\n",
       "      <td>0.000</td>\n",
       "      <td>0.707692</td>\n",
       "      <td>0.206135</td>\n",
       "      <td>0</td>\n",
       "    </tr>\n",
       "    <tr>\n",
       "      <th>39720</th>\n",
       "      <td>1.0</td>\n",
       "      <td>2.0</td>\n",
       "      <td>1.0</td>\n",
       "      <td>834.0</td>\n",
       "      <td>834.0</td>\n",
       "      <td>6037.0</td>\n",
       "      <td>1.0</td>\n",
       "      <td>33997098.0</td>\n",
       "      <td>-118087683.0</td>\n",
       "      <td>0101</td>\n",
       "      <td>...</td>\n",
       "      <td>0.012740</td>\n",
       "      <td>7</td>\n",
       "      <td>72.0</td>\n",
       "      <td>0.000000</td>\n",
       "      <td>0.250</td>\n",
       "      <td>0.068609</td>\n",
       "      <td>0.750</td>\n",
       "      <td>0.500000</td>\n",
       "      <td>0.177281</td>\n",
       "      <td>0</td>\n",
       "    </tr>\n",
       "    <tr>\n",
       "      <th>39721</th>\n",
       "      <td>1.0</td>\n",
       "      <td>2.0</td>\n",
       "      <td>1.0</td>\n",
       "      <td>884.0</td>\n",
       "      <td>884.0</td>\n",
       "      <td>6037.0</td>\n",
       "      <td>1.0</td>\n",
       "      <td>33967821.0</td>\n",
       "      <td>-118304074.0</td>\n",
       "      <td>0100</td>\n",
       "      <td>...</td>\n",
       "      <td>0.012392</td>\n",
       "      <td>8</td>\n",
       "      <td>74.0</td>\n",
       "      <td>0.000000</td>\n",
       "      <td>0.250</td>\n",
       "      <td>0.066704</td>\n",
       "      <td>0.875</td>\n",
       "      <td>0.515385</td>\n",
       "      <td>0.190278</td>\n",
       "      <td>0</td>\n",
       "    </tr>\n",
       "    <tr>\n",
       "      <th>39722</th>\n",
       "      <td>1.0</td>\n",
       "      <td>3.0</td>\n",
       "      <td>1.0</td>\n",
       "      <td>842.0</td>\n",
       "      <td>842.0</td>\n",
       "      <td>6037.0</td>\n",
       "      <td>1.0</td>\n",
       "      <td>34653422.0</td>\n",
       "      <td>-118204089.0</td>\n",
       "      <td>0100</td>\n",
       "      <td>...</td>\n",
       "      <td>0.016992</td>\n",
       "      <td>4</td>\n",
       "      <td>70.0</td>\n",
       "      <td>0.000000</td>\n",
       "      <td>0.375</td>\n",
       "      <td>0.091930</td>\n",
       "      <td>0.375</td>\n",
       "      <td>0.484615</td>\n",
       "      <td>0.179361</td>\n",
       "      <td>0</td>\n",
       "    </tr>\n",
       "  </tbody>\n",
       "</table>\n",
       "<p>39723 rows × 33 columns</p>\n",
       "</div>"
      ],
      "text/plain": [
       "       bathroom  bedroom  calculatedbathnbr   sqtft  finishedsquarefeet12  \\\n",
       "0           1.0      2.0                1.0  1128.0                1128.0   \n",
       "1           1.0      3.0                1.0  1252.0                1252.0   \n",
       "2           1.0      3.0                1.0  2093.0                2093.0   \n",
       "3           2.5      4.0                2.5  2200.0                2200.0   \n",
       "4           1.0      3.0                1.0  1389.0                1389.0   \n",
       "...         ...      ...                ...     ...                   ...   \n",
       "39718       2.5      3.0                2.5  2254.0                2254.0   \n",
       "39719       1.0      2.0                1.0   945.0                 945.0   \n",
       "39720       1.0      2.0                1.0   834.0                 834.0   \n",
       "39721       1.0      2.0                1.0   884.0                 884.0   \n",
       "39722       1.0      3.0                1.0   842.0                 842.0   \n",
       "\n",
       "         fips  fullbathcnt    latitude    longitude propertycountylandusecode  \\\n",
       "0      6037.0          1.0  33947371.0 -118157346.0                      0100   \n",
       "1      6037.0          1.0  34141060.0 -118115780.0                      0100   \n",
       "2      6037.0          1.0  34055226.0 -118314194.0                      0100   \n",
       "3      6059.0          2.0  33642576.0 -117689783.0                       122   \n",
       "4      6059.0          1.0  33866740.0 -117961748.0                       122   \n",
       "...       ...          ...         ...          ...                       ...   \n",
       "39718  6059.0          2.0  33755262.0 -118017324.0                       122   \n",
       "39719  6037.0          1.0  34166305.0 -118112897.0                      0100   \n",
       "39720  6037.0          1.0  33997098.0 -118087683.0                      0101   \n",
       "39721  6037.0          1.0  33967821.0 -118304074.0                      0100   \n",
       "39722  6037.0          1.0  34653422.0 -118204089.0                      0100   \n",
       "\n",
       "       ...   taxrate month    age  bathroom_scaled  bedroom_scaled  \\\n",
       "0      ...  0.012420     7   73.0         0.000000           0.250   \n",
       "1      ...  0.012178     6  100.0         0.000000           0.375   \n",
       "2      ...  0.012079     8   99.0         0.000000           0.375   \n",
       "3      ...  0.010447     8   48.0         0.272727           0.500   \n",
       "4      ...  0.012560     6   69.0         0.000000           0.375   \n",
       "...    ...       ...   ...    ...              ...             ...   \n",
       "39718  ...  0.011705     8   23.0         0.272727           0.375   \n",
       "39719  ...  0.011720     1   99.0         0.000000           0.250   \n",
       "39720  ...  0.012740     7   72.0         0.000000           0.250   \n",
       "39721  ...  0.012392     8   74.0         0.000000           0.250   \n",
       "39722  ...  0.016992     4   70.0         0.000000           0.375   \n",
       "\n",
       "       taxrate_scaled  month_scaled  age_scaled  sqtft_scaled  cluster  \n",
       "0            0.066853         0.750    0.507692      0.253704        0  \n",
       "1            0.065527         0.625    0.715385      0.285937        0  \n",
       "2            0.064986         0.875    0.707692      0.504549        1  \n",
       "3            0.056036         0.875    0.315385      0.532363        1  \n",
       "4            0.067625         0.625    0.476923      0.321549        0  \n",
       "...               ...           ...         ...           ...      ...  \n",
       "39718        0.062937         0.875    0.123077      0.546400        1  \n",
       "39719        0.063019         0.000    0.707692      0.206135        0  \n",
       "39720        0.068609         0.750    0.500000      0.177281        0  \n",
       "39721        0.066704         0.875    0.515385      0.190278        0  \n",
       "39722        0.091930         0.375    0.484615      0.179361        0  \n",
       "\n",
       "[39723 rows x 33 columns]"
      ]
     },
     "execution_count": 8,
     "metadata": {},
     "output_type": "execute_result"
    }
   ],
   "source": [
    "# the scaled version will be added as new columns\n",
    "scaled_train"
   ]
  },
  {
   "cell_type": "markdown",
   "id": "8eec80b4",
   "metadata": {},
   "source": [
    "## Key Takeaway so far\n",
    "- The best cluster is three, a new column call cluster created to reflect the finding\n",
    "- The columns we scaled is bathroom, bedroom, sqtft, taxrate, month and age, new scaled columns added"
   ]
  },
  {
   "cell_type": "markdown",
   "id": "58056e7a",
   "metadata": {},
   "source": [
    "## Question 1\n",
    "- Whether there are correlation between sqtft and logerror"
   ]
  },
  {
   "cell_type": "code",
   "execution_count": 9,
   "id": "e4d24b20",
   "metadata": {},
   "outputs": [
    {
     "data": {
      "text/plain": [
       "<seaborn.axisgrid.FacetGrid at 0x17dc4fa00>"
      ]
     },
     "execution_count": 9,
     "metadata": {},
     "output_type": "execute_result"
    },
    {
     "data": {
      "image/png": "[encoded data removed]",
      "text/plain": [
       "<Figure size 402.375x360 with 1 Axes>"
      ]
     },
     "metadata": {
      "needs_background": "light"
     },
     "output_type": "display_data"
    }
   ],
   "source": [
    "# check the cluster, if we can locate them\n",
    "sns.relplot(data=scaled_train, \n",
    "            x='logerror', \n",
    "            y='sqtft_scaled',\n",
    "           hue='cluster')"
   ]
  },
  {
   "cell_type": "markdown",
   "id": "cfb490d4",
   "metadata": {},
   "source": [
    "## Takeaway from the cluster \n",
    "It looks like they could have a cluster labeled, but it doesn't help to answer the question we have here: whether there are correlation between logerror and sqtft"
   ]
  },
  {
   "cell_type": "code",
   "execution_count": 10,
   "id": "27de37cb",
   "metadata": {},
   "outputs": [
    {
     "data": {
      "text/plain": [
       "(0.02073824307949492, 3.5716077888022605e-05)"
      ]
     },
     "execution_count": 10,
     "metadata": {},
     "output_type": "execute_result"
    }
   ],
   "source": [
    "corr, p = stats.pearsonr(scaled_train.sqtft_scaled, scaled_train.logerror)\n",
    "corr, p"
   ]
  },
  {
   "cell_type": "code",
   "execution_count": 11,
   "id": "d09ddfa2",
   "metadata": {},
   "outputs": [
    {
     "data": {
      "text/plain": [
       "<matplotlib.collections.PathCollection at 0x1697a12b0>"
      ]
     },
     "execution_count": 11,
     "metadata": {},
     "output_type": "execute_result"
    },
    {
     "data": {
      "image/png": "[encoded data removed]",
      "text/plain": [
       "<Figure size 432x288 with 1 Axes>"
      ]
     },
     "metadata": {
      "needs_background": "light"
     },
     "output_type": "display_data"
    }
   ],
   "source": [
    "plt.scatter(scaled_train.sqtft_scaled, scaled_train.logerror, s=10, c='blue', alpha=.8)"
   ]
  },
  {
   "cell_type": "markdown",
   "id": "b394fc73",
   "metadata": {},
   "source": [
    "## Takeaway from stat correlation test\n",
    "- The correlation between the sqtft and logerror are very minimal.\n",
    "- The sqtft probably doesn't play significant role in this situation\n",
    "- Further investigation needed."
   ]
  },
  {
   "cell_type": "markdown",
   "id": "6177812c",
   "metadata": {},
   "source": [
    "## Question 1 Takeaway\n",
    "- The sqtft doesn't play high correlation role with logerror, but the cluster showed similar object in dataset, vertically.\n",
    "- The next question show focus on whether the bedroom and bathroom have significant role with logerror"
   ]
  },
  {
   "cell_type": "markdown",
   "id": "f227932d",
   "metadata": {},
   "source": [
    "# Question 2\n",
    "- Whether the bedroom, bathroom, and logerror have significant relationship"
   ]
  },
  {
   "cell_type": "code",
   "execution_count": 12,
   "id": "1bc27e81",
   "metadata": {},
   "outputs": [
    {
     "data": {
      "image/png": "[encoded data removed]",
      "text/plain": [
       "<Figure size 648x432 with 1 Axes>"
      ]
     },
     "metadata": {},
     "output_type": "display_data"
    }
   ],
   "source": [
    "# put them into test.\n",
    "explore_final.cluster2(scaled_train)"
   ]
  },
  {
   "cell_type": "code",
   "execution_count": 13,
   "id": "b65b7b42",
   "metadata": {},
   "outputs": [
    {
     "data": {
      "image/png": "[encoded data removed]",
      "text/plain": [
       "<Figure size 864x432 with 1 Axes>"
      ]
     },
     "metadata": {
      "needs_background": "light"
     },
     "output_type": "display_data"
    }
   ],
   "source": [
    "scaled_train['rooms']=scaled_train.bathroom+scaled_train.bedroom\n",
    "plt.figure(figsize=(12,6))\n",
    "sns.scatterplot(y=scaled_train.rooms,x=scaled_train.logerror, hue=scaled_train.cluster2)\n",
    "plt.xlabel(\"Logerror\")\n",
    "plt.ylabel(\"Bedroom and Bathroom\")\n",
    "plt.ylim(0, 15)\n",
    "plt.xlim(0, 5)\n",
    "plt.show()"
   ]
  },
  {
   "cell_type": "markdown",
   "id": "b90fb7ef",
   "metadata": {},
   "source": [
    "## Cluster takeaway\n",
    "- The grouping in this cluster is not obvious in the center, but we can identify that as the room increase the cluster grouping is obvious"
   ]
  },
  {
   "cell_type": "code",
   "execution_count": 14,
   "id": "219bad6d",
   "metadata": {},
   "outputs": [],
   "source": [
    "# H0= There is no signficant difference between the logerror means of bedroom and bathroom cluster group.\n",
    "# Ha= There is a signficant difference between the logerror means of at least two cluster groups."
   ]
  },
  {
   "cell_type": "code",
   "execution_count": 15,
   "id": "d0a13995",
   "metadata": {},
   "outputs": [
    {
     "name": "stdout",
     "output_type": "stream",
     "text": [
      "Anova Test Results on Room Cluster\n",
      "F-value:  62540.246274163714\n",
      "p-value:  0.0\n",
      "We reject null hypothesis\n",
      "\n",
      "\n"
     ]
    }
   ],
   "source": [
    "alpha = 0.05\n",
    "\n",
    "F, p = stats.f_oneway(scaled_train.bathroom_scaled, scaled_train.bedroom_scaled, scaled_train.logerror)\n",
    "\n",
    "print('Anova Test Results on Room Cluster')\n",
    "print('F-value: ',F)\n",
    "print('p-value: ',p)\n",
    "if p > alpha:\n",
    "    print(\"\\nWe fail to reject null hypothesis.\")\n",
    "\n",
    "else:\n",
    "    print(\"We reject null hypothesis\\n\\n\")"
   ]
  },
  {
   "cell_type": "code",
   "execution_count": 16,
   "id": "ff7313f5",
   "metadata": {},
   "outputs": [
    {
     "data": {
      "text/plain": [
       "<AxesSubplot:xlabel='rooms', ylabel='logerror'>"
      ]
     },
     "execution_count": 16,
     "metadata": {},
     "output_type": "execute_result"
    },
    {
     "data": {
      "image/png": "[encoded data removed]",
      "text/plain": [
       "<Figure size 432x288 with 1 Axes>"
      ]
     },
     "metadata": {
      "needs_background": "light"
     },
     "output_type": "display_data"
    }
   ],
   "source": [
    "sns.lineplot(data=scaled_train, x = 'rooms' ,y= 'logerror')"
   ]
  },
  {
   "cell_type": "markdown",
   "id": "e41e0bf1",
   "metadata": {},
   "source": [
    "## Question 2 Key takeway\n",
    "- The result is that the bedroom and bathroom doesn't have significant role in logerror\n",
    "- the cluster also didn't show any significant grouping \n",
    "- we believe there should be some relationship between bedroom, bathroom, and logerror, but it is not significant enough to identify it \n",
    "- There will be high logerror when the room are increasing from 10 to 12"
   ]
  },
  {
   "cell_type": "markdown",
   "id": "5894ecf2",
   "metadata": {},
   "source": [
    "# Question 3\n",
    "- whether the county has similar logerror"
   ]
  },
  {
   "cell_type": "code",
   "execution_count": 17,
   "id": "167c4fd3",
   "metadata": {},
   "outputs": [],
   "source": [
    "# setting up the environment for the test\n",
    "orange = scaled_train[scaled_train.county == 'Orange County, CA'].logerror\n",
    "ventura = scaled_train[scaled_train.county == 'Ventura County, CA'].logerror\n",
    "LA = scaled_train[scaled_train.county == 'Los Angeles County, CA'].logerror"
   ]
  },
  {
   "cell_type": "code",
   "execution_count": 18,
   "id": "e644c240",
   "metadata": {},
   "outputs": [
    {
     "data": {
      "text/plain": [
       "(<AxesSubplot:>, <AxesSubplot:>, <AxesSubplot:>)"
      ]
     },
     "execution_count": 18,
     "metadata": {},
     "output_type": "execute_result"
    },
    {
     "data": {
      "image/png": "[encoded data removed]",
      "text/plain": [
       "<Figure size 432x288 with 1 Axes>"
      ]
     },
     "metadata": {
      "needs_background": "light"
     },
     "output_type": "display_data"
    }
   ],
   "source": [
    "LA.hist(),orange.hist(legend=True),ventura.hist()\n"
   ]
  },
  {
   "cell_type": "code",
   "execution_count": 19,
   "id": "e66dad08",
   "metadata": {},
   "outputs": [
    {
     "data": {
      "text/plain": [
       "(0.02231601276647476, 0.03099152903434467, 0.023677004668660125)"
      ]
     },
     "execution_count": 19,
     "metadata": {},
     "output_type": "execute_result"
    }
   ],
   "source": [
    "LA.var(),orange.var(),ventura.var()"
   ]
  },
  {
   "cell_type": "code",
   "execution_count": 20,
   "id": "aa6679a5",
   "metadata": {},
   "outputs": [
    {
     "name": "stdout",
     "output_type": "stream",
     "text": [
      "Anova Test Results on county\n",
      "F-value:  4.498773211057824\n",
      "p-value:  0.011128301318917455\n",
      "We reject null hypothesis\n",
      "\n",
      "\n"
     ]
    }
   ],
   "source": [
    "alpha = 0.05\n",
    "\n",
    "F, p = stats.f_oneway(orange, ventura, LA)\n",
    "\n",
    "print('Anova Test Results on county')\n",
    "print('F-value: ',F)\n",
    "print('p-value: ',p)\n",
    "if p > alpha:\n",
    "    print(\"\\nWe fail to reject null hypothesis.\")\n",
    "\n",
    "else:\n",
    "    print(\"We reject null hypothesis\\n\\n\")"
   ]
  },
  {
   "cell_type": "markdown",
   "id": "b1254b27",
   "metadata": {},
   "source": [
    "## Question 3 Key Takeaway\n",
    "- The logerrors are different in different county\n",
    "- The hist shows that the ventura has more likely to have negative logerror while the orange and LA are more central\n",
    "- The hypothesis with ANOVA variable analysis revealed that the orange county has higher variable than other two counties\n"
   ]
  },
  {
   "cell_type": "markdown",
   "id": "133d2807",
   "metadata": {},
   "source": [
    "# Question 4\n",
    "- Whether the logerror and age could have significant group"
   ]
  },
  {
   "cell_type": "code",
   "execution_count": 21,
   "id": "a999e068",
   "metadata": {},
   "outputs": [
    {
     "data": {
      "image/png": "[encoded data removed]",
      "text/plain": [
       "<Figure size 648x432 with 1 Axes>"
      ]
     },
     "metadata": {},
     "output_type": "display_data"
    }
   ],
   "source": [
    "explore_final.cluster3(scaled_train)"
   ]
  },
  {
   "cell_type": "code",
   "execution_count": 22,
   "id": "a8f4116d",
   "metadata": {},
   "outputs": [
    {
     "data": {
      "image/png": "[encoded data removed]",
      "text/plain": [
       "<Figure size 432x288 with 1 Axes>"
      ]
     },
     "metadata": {
      "needs_background": "light"
     },
     "output_type": "display_data"
    }
   ],
   "source": [
    "sns.scatterplot(y = 'logerror', x= 'age', data = scaled_train, hue = 'cluster3')\n",
    "plt.show()"
   ]
  },
  {
   "cell_type": "markdown",
   "id": "f97c6e29",
   "metadata": {},
   "source": [
    "## Cluster Takeaway\n",
    "- The grouping is identical like sqtft clustering\n",
    "- It is seems that the older the hour the more likely it will have positive log"
   ]
  },
  {
   "cell_type": "code",
   "execution_count": 23,
   "id": "c47a07bd",
   "metadata": {},
   "outputs": [
    {
     "data": {
      "text/plain": [
       "<AxesSubplot:xlabel='age', ylabel='logerror'>"
      ]
     },
     "execution_count": 23,
     "metadata": {},
     "output_type": "execute_result"
    },
    {
     "data": {
      "image/png": "[encoded data removed]",
      "text/plain": [
       "<Figure size 432x288 with 1 Axes>"
      ]
     },
     "metadata": {
      "needs_background": "light"
     },
     "output_type": "display_data"
    }
   ],
   "source": [
    "sns.lineplot(data=scaled_train, x = 'age' ,y= 'logerror', hue='cluster3')"
   ]
  },
  {
   "cell_type": "markdown",
   "id": "a702d447",
   "metadata": {},
   "source": [
    "## Question 4 Key takeaway\n",
    "- The age illustrated a similar trend with the sqtft (ref. question 1).\n",
    "- However, the logerror are more likely to show positive trend when it is older than 80 years old .\n",
    "- After 120 years old, the house will show significant negative logerror and positive logerror\n",
    "- The likelyhood for the logerror to show positive is higher than likelyhood to show negative when the age is under 80"
   ]
  },
  {
   "cell_type": "markdown",
   "id": "1b84f464",
   "metadata": {},
   "source": [
    "# Exploration Summary\n",
    "- The exploration took place with 3 hypothesis tests, and three clustering, and more than 9 visualizations\n",
    "- The exploration revealed that the house age has played significant role in logerror after 80 years.\n",
    "- The exploration also revealed that the house in Orange County has significant variance compare to the other counties\n",
    "- The exploration revealed that the Ventura county is more likely to have negative log error compare to the other two counties\n",
    "- The exploration found that the logerror will increase when the room numbers increase to 9\n",
    "- The grouping in this cluster is not obvious in the center, but we can identify that as the room increase the cluster grouping is obvious"
   ]
  },
  {
   "cell_type": "markdown",
   "id": "844e1ef4",
   "metadata": {},
   "source": [
    "# Modeling"
   ]
  },
  {
   "cell_type": "code",
   "execution_count": 24,
   "id": "d99f4c92",
   "metadata": {},
   "outputs": [],
   "source": [
    "x_train, y_train,x_validate,y_validate,x_test,y_test=model_final.x_y_split(zillow_train,zillow_validate,zillow_test)\n",
    "y_train = pd.DataFrame(y_train)\n",
    "y_validate = pd.DataFrame(y_validate)\n",
    "y_test=pd.DataFrame(y_test)\n",
    "y_train['baseline'] = y_train['logerror'].mean()\n",
    "y_validate['baseline'] = y_validate['logerror'].mean()\n",
    "y_test['baseline']=y_test['logerror'].mean()"
   ]
  },
  {
   "cell_type": "code",
   "execution_count": 25,
   "id": "34f46e37",
   "metadata": {},
   "outputs": [
    {
     "data": {
      "text/html": [
       "<div>\n",
       "<style scoped>\n",
       "    .dataframe tbody tr th:only-of-type {\n",
       "        vertical-align: middle;\n",
       "    }\n",
       "\n",
       "    .dataframe tbody tr th {\n",
       "        vertical-align: top;\n",
       "    }\n",
       "\n",
       "    .dataframe thead th {\n",
       "        text-align: right;\n",
       "    }\n",
       "</style>\n",
       "<table border=\"1\" class=\"dataframe\">\n",
       "  <thead>\n",
       "    <tr style=\"text-align: right;\">\n",
       "      <th></th>\n",
       "      <th>model</th>\n",
       "      <th>rmse</th>\n",
       "      <th>r^2</th>\n",
       "    </tr>\n",
       "  </thead>\n",
       "  <tbody>\n",
       "    <tr>\n",
       "      <th>0</th>\n",
       "      <td>baseline</td>\n",
       "      <td>0.15743</td>\n",
       "      <td>0.0</td>\n",
       "    </tr>\n",
       "  </tbody>\n",
       "</table>\n",
       "</div>"
      ],
      "text/plain": [
       "      model     rmse  r^2\n",
       "0  baseline  0.15743  0.0"
      ]
     },
     "execution_count": 25,
     "metadata": {},
     "output_type": "execute_result"
    }
   ],
   "source": [
    "models=model_final.models(y_train)\n",
    "models"
   ]
  },
  {
   "cell_type": "code",
   "execution_count": 26,
   "id": "4d1440c0",
   "metadata": {},
   "outputs": [
    {
     "name": "stdout",
     "output_type": "stream",
     "text": [
      "model name?LAR\n"
     ]
    }
   ],
   "source": [
    "models=models.append(model_final.modeling_train(LassoLars(alpha=1.0), \n",
    "                  x_train, \n",
    "                  y_train, \n",
    "                  x_validate, \n",
    "                  y_validate, \n",
    "                  scores=models), ignore_index=True)"
   ]
  },
  {
   "cell_type": "code",
   "execution_count": 27,
   "id": "6755238a",
   "metadata": {},
   "outputs": [
    {
     "name": "stdout",
     "output_type": "stream",
     "text": [
      "model name?LinearRegression\n"
     ]
    }
   ],
   "source": [
    "models=models.append(model_final.modeling_train(LinearRegression(normalize=True), \n",
    "                  x_train, \n",
    "                  y_train, \n",
    "                  x_validate, \n",
    "                  y_validate, \n",
    "                  scores=models), ignore_index=True)"
   ]
  },
  {
   "cell_type": "code",
   "execution_count": 28,
   "id": "d1b64f4e",
   "metadata": {},
   "outputs": [
    {
     "name": "stdout",
     "output_type": "stream",
     "text": [
      "model name?KBest\n"
     ]
    }
   ],
   "source": [
    "kbest = SelectKBest(f_regression, k=3)\n",
    "kbest.fit(x_train, y_train.logerror)\n",
    "mask = x_train.columns[kbest.get_support()].to_list()\n",
    "models=models.append(model_final.modeling_train(LinearRegression(), \n",
    "                  x_train[mask], \n",
    "                  y_train, \n",
    "                  x_validate[mask], \n",
    "                  y_validate, \n",
    "                  scores=models), ignore_index=True)"
   ]
  },
  {
   "cell_type": "code",
   "execution_count": 29,
   "id": "6995bb3b",
   "metadata": {},
   "outputs": [
    {
     "name": "stdout",
     "output_type": "stream",
     "text": [
      "model name?Poly\n"
     ]
    }
   ],
   "source": [
    "scaler=MinMaxScaler()\n",
    "x_train_scaled = pd.DataFrame(scaler.fit_transform(x_train), index=x_train.index, columns=x_train.columns)\n",
    "x_validate_scaled = pd.DataFrame(scaler.fit_transform(x_validate), index=x_validate.index, columns=x_validate.columns)\n",
    "x_test_scaled = pd.DataFrame(scaler.fit_transform(x_test), index=x_test.index, columns=x_test.columns)\n",
    "polyfeats = PolynomialFeatures(degree=2)\n",
    "x_train_quad = polyfeats.fit_transform(x_train_scaled)\n",
    "x_val_quad = polyfeats.transform(x_validate_scaled)\n",
    "models = models.append(model_final.modeling_train(LinearRegression(), \n",
    "                  x_train_quad, \n",
    "                  y_train, \n",
    "                  x_val_quad, \n",
    "                  y_validate, \n",
    "                  scores=models), ignore_index=True)"
   ]
  },
  {
   "cell_type": "code",
   "execution_count": 30,
   "id": "63d7f432",
   "metadata": {},
   "outputs": [
    {
     "data": {
      "text/html": [
       "<div>\n",
       "<style scoped>\n",
       "    .dataframe tbody tr th:only-of-type {\n",
       "        vertical-align: middle;\n",
       "    }\n",
       "\n",
       "    .dataframe tbody tr th {\n",
       "        vertical-align: top;\n",
       "    }\n",
       "\n",
       "    .dataframe thead th {\n",
       "        text-align: right;\n",
       "    }\n",
       "</style>\n",
       "<table border=\"1\" class=\"dataframe\">\n",
       "  <thead>\n",
       "    <tr style=\"text-align: right;\">\n",
       "      <th></th>\n",
       "      <th>model</th>\n",
       "      <th>rmse</th>\n",
       "      <th>r^2</th>\n",
       "    </tr>\n",
       "  </thead>\n",
       "  <tbody>\n",
       "    <tr>\n",
       "      <th>0</th>\n",
       "      <td>baseline</td>\n",
       "      <td>0.157430</td>\n",
       "      <td>0.000000</td>\n",
       "    </tr>\n",
       "    <tr>\n",
       "      <th>1</th>\n",
       "      <td>LAR</td>\n",
       "      <td>0.157430</td>\n",
       "      <td>0.000000</td>\n",
       "    </tr>\n",
       "    <tr>\n",
       "      <th>2</th>\n",
       "      <td>LinearRegression</td>\n",
       "      <td>0.157252</td>\n",
       "      <td>0.002636</td>\n",
       "    </tr>\n",
       "    <tr>\n",
       "      <th>3</th>\n",
       "      <td>KBest</td>\n",
       "      <td>0.157273</td>\n",
       "      <td>0.001998</td>\n",
       "    </tr>\n",
       "    <tr>\n",
       "      <th>4</th>\n",
       "      <td>Poly</td>\n",
       "      <td>0.156910</td>\n",
       "      <td>0.006599</td>\n",
       "    </tr>\n",
       "  </tbody>\n",
       "</table>\n",
       "</div>"
      ],
      "text/plain": [
       "              model      rmse       r^2\n",
       "0          baseline  0.157430  0.000000\n",
       "1               LAR  0.157430  0.000000\n",
       "2  LinearRegression  0.157252  0.002636\n",
       "3             KBest  0.157273  0.001998\n",
       "4              Poly  0.156910  0.006599"
      ]
     },
     "execution_count": 30,
     "metadata": {},
     "output_type": "execute_result"
    }
   ],
   "source": [
    "models"
   ]
  },
  {
   "cell_type": "code",
   "execution_count": 31,
   "id": "12c716f7",
   "metadata": {},
   "outputs": [
    {
     "name": "stdout",
     "output_type": "stream",
     "text": [
      "model name?Poly_val\n"
     ]
    }
   ],
   "source": [
    "# use in validate \n",
    "# the Polinominal regression model\n",
    "scaler=MinMaxScaler()\n",
    "x__train_scaled = pd.DataFrame(scaler.fit_transform(x_train), index=x_train.index, columns=x_train.columns)\n",
    "x_validate_scaled = pd.DataFrame(scaler.fit_transform(x_validate), index=x_validate.index, columns=x_validate.columns)\n",
    "x_test_scaled = pd.DataFrame(scaler.fit_transform(x_test), index=x_test.index, columns=x_test.columns)\n",
    "polyfeats = PolynomialFeatures(degree=2)\n",
    "x_train_quad = polyfeats.fit_transform(x_train_scaled)\n",
    "x_val_quad = polyfeats.transform(x_validate_scaled)\n",
    "models = models.append(model_final.modeling_validate(LinearRegression(), \n",
    "                  x_train_quad, \n",
    "                  y_train, \n",
    "                  x_val_quad, \n",
    "                  y_validate, \n",
    "                  scores=models), ignore_index=True)"
   ]
  },
  {
   "cell_type": "code",
   "execution_count": 32,
   "id": "7aa9e251",
   "metadata": {},
   "outputs": [
    {
     "data": {
      "text/html": [
       "<div>\n",
       "<style scoped>\n",
       "    .dataframe tbody tr th:only-of-type {\n",
       "        vertical-align: middle;\n",
       "    }\n",
       "\n",
       "    .dataframe tbody tr th {\n",
       "        vertical-align: top;\n",
       "    }\n",
       "\n",
       "    .dataframe thead th {\n",
       "        text-align: right;\n",
       "    }\n",
       "</style>\n",
       "<table border=\"1\" class=\"dataframe\">\n",
       "  <thead>\n",
       "    <tr style=\"text-align: right;\">\n",
       "      <th></th>\n",
       "      <th>model</th>\n",
       "      <th>rmse</th>\n",
       "      <th>r^2</th>\n",
       "    </tr>\n",
       "  </thead>\n",
       "  <tbody>\n",
       "    <tr>\n",
       "      <th>0</th>\n",
       "      <td>baseline</td>\n",
       "      <td>1.574302e-01</td>\n",
       "      <td>0.000000e+00</td>\n",
       "    </tr>\n",
       "    <tr>\n",
       "      <th>1</th>\n",
       "      <td>LAR</td>\n",
       "      <td>1.574302e-01</td>\n",
       "      <td>0.000000e+00</td>\n",
       "    </tr>\n",
       "    <tr>\n",
       "      <th>2</th>\n",
       "      <td>LinearRegression</td>\n",
       "      <td>1.572518e-01</td>\n",
       "      <td>2.635940e-03</td>\n",
       "    </tr>\n",
       "    <tr>\n",
       "      <th>3</th>\n",
       "      <td>KBest</td>\n",
       "      <td>1.572729e-01</td>\n",
       "      <td>1.998107e-03</td>\n",
       "    </tr>\n",
       "    <tr>\n",
       "      <th>4</th>\n",
       "      <td>Poly</td>\n",
       "      <td>1.569100e-01</td>\n",
       "      <td>6.598942e-03</td>\n",
       "    </tr>\n",
       "    <tr>\n",
       "      <th>5</th>\n",
       "      <td>Poly_val</td>\n",
       "      <td>1.520949e+09</td>\n",
       "      <td>-4.418156e+19</td>\n",
       "    </tr>\n",
       "  </tbody>\n",
       "</table>\n",
       "</div>"
      ],
      "text/plain": [
       "              model          rmse           r^2\n",
       "0          baseline  1.574302e-01  0.000000e+00\n",
       "1               LAR  1.574302e-01  0.000000e+00\n",
       "2  LinearRegression  1.572518e-01  2.635940e-03\n",
       "3             KBest  1.572729e-01  1.998107e-03\n",
       "4              Poly  1.569100e-01  6.598942e-03\n",
       "5          Poly_val  1.520949e+09 -4.418156e+19"
      ]
     },
     "execution_count": 32,
     "metadata": {},
     "output_type": "execute_result"
    }
   ],
   "source": [
    "models"
   ]
  },
  {
   "cell_type": "code",
   "execution_count": 33,
   "id": "f10c9e8c",
   "metadata": {},
   "outputs": [
    {
     "name": "stdout",
     "output_type": "stream",
     "text": [
      "model name?Poly_Test\n"
     ]
    }
   ],
   "source": [
    "x_test_quad = polyfeats.transform(x_test_scaled)\n",
    "models = models.append(model_final.modeling_test(LinearRegression(), \n",
    "                  x_test_quad, \n",
    "                  y_test,  \n",
    "                  scores=models), ignore_index=True)"
   ]
  },
  {
   "cell_type": "code",
   "execution_count": 38,
   "id": "fc62a3a5",
   "metadata": {},
   "outputs": [
    {
     "data": {
      "text/html": [
       "<div>\n",
       "<style scoped>\n",
       "    .dataframe tbody tr th:only-of-type {\n",
       "        vertical-align: middle;\n",
       "    }\n",
       "\n",
       "    .dataframe tbody tr th {\n",
       "        vertical-align: top;\n",
       "    }\n",
       "\n",
       "    .dataframe thead th {\n",
       "        text-align: right;\n",
       "    }\n",
       "</style>\n",
       "<table border=\"1\" class=\"dataframe\">\n",
       "  <thead>\n",
       "    <tr style=\"text-align: right;\">\n",
       "      <th></th>\n",
       "      <th>model</th>\n",
       "      <th>rmse</th>\n",
       "      <th>r^2</th>\n",
       "    </tr>\n",
       "  </thead>\n",
       "  <tbody>\n",
       "    <tr>\n",
       "      <th>6</th>\n",
       "      <td>Poly_Test</td>\n",
       "      <td>0.157669</td>\n",
       "      <td>0.018554</td>\n",
       "    </tr>\n",
       "  </tbody>\n",
       "</table>\n",
       "</div>"
      ],
      "text/plain": [
       "       model      rmse       r^2\n",
       "6  Poly_Test  0.157669  0.018554"
      ]
     },
     "execution_count": 38,
     "metadata": {},
     "output_type": "execute_result"
    }
   ],
   "source": [
    "# Polynominal has the .018 r squre result\n",
    "models[models.model=='Poly_Test']"
   ]
  },
  {
   "cell_type": "code",
   "execution_count": null,
   "id": "b4fe7c7d",
   "metadata": {},
   "outputs": [],
   "source": []
  }
 ],
 "metadata": {
  "kernelspec": {
   "display_name": "Python 3 (ipykernel)",
   "language": "python",
   "name": "python3"
  },
  "language_info": {
   "codemirror_mode": {
    "name": "ipython",
    "version": 3
   },
   "file_extension": ".py",
   "mimetype": "text/x-python",
   "name": "python",
   "nbconvert_exporter": "python",
   "pygments_lexer": "ipython3",
   "version": "3.9.12"
  },
  "vscode": {
   "interpreter": {
    "hash": "31f2aee4e71d21fbe5cf8b01ff0e069b9275f58929596ceb00d14d90e3e16cd6"
   }
  }
 },
 "nbformat": 4,
 "nbformat_minor": 5
}
