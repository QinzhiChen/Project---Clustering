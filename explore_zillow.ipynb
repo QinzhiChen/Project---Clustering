{
 "cells": [
  {
   "cell_type": "code",
   "execution_count": 2,
   "id": "8e12ec8a",
   "metadata": {},
   "outputs": [],
   "source": [
    "import wrangle_final\n",
    "\n",
    "import warnings\n",
    "warnings.filterwarnings(\"ignore\")\n",
    "from sklearn.model_selection import train_test_split\n",
    "from sklearn.impute import SimpleImputer\n",
    "from sklearn.preprocessing import MinMaxScaler, StandardScaler, RobustScaler, QuantileTransformer\n",
    "from env import user, password, host\n",
    "import env\n",
    "from sklearn.feature_selection import SelectKBest, f_regression, RFE\n",
    "from sklearn.linear_model import LinearRegression\n",
    "import pandas as pd\n",
    "import matplotlib.pyplot as plt\n",
    "import seaborn as sns\n",
    "import numpy as np\n",
    "import os\n",
    "import csv\n",
    "from sklearn.metrics import mean_squared_error\n",
    "from sklearn.metrics import r2_score"
   ]
  },
  {
   "cell_type": "code",
   "execution_count": null,
   "id": "724a1835",
   "metadata": {},
   "outputs": [],
   "source": [
    "zillow_train,zillow_validate,zillow_test=wrangle.wrangled_file()"
   ]
  },
  {
   "cell_type": "code",
   "execution_count": null,
   "id": "295007a4",
   "metadata": {},
   "outputs": [],
   "source": [
    "zillow_train.info()"
   ]
  },
  {
   "cell_type": "code",
   "execution_count": null,
   "id": "aa37d977",
   "metadata": {},
   "outputs": [],
   "source": [
    "zillow_train.describe().T"
   ]
  },
  {
   "cell_type": "code",
   "execution_count": null,
   "id": "0a5a3222",
   "metadata": {},
   "outputs": [],
   "source": [
    "def scale(scaler,zillow_train,cols=['bedroom','bathroom','sqtft','fullbathcnt',],return_scaler=True):\n",
    "    zillow_train=zillow_train\n",
    "    zillow_train_scaled=zillow_train.copy()\n",
    "    scaler=scaler\n",
    "    zillow_train_scaled[cols] = scaler.fit_transform(zillow_train[cols])\n",
    "    return scaler, zillow_train_scaled"
   ]
  },
  {
   "cell_type": "code",
   "execution_count": null,
   "id": "8874c559",
   "metadata": {},
   "outputs": [],
   "source": [
    "scaler,zillow_scaled=scale(MinMaxScaler(),zillow_train)"
   ]
  },
  {
   "cell_type": "code",
   "execution_count": null,
   "id": "73fc8e72",
   "metadata": {},
   "outputs": [],
   "source": [
    "zillow_scaled.info()"
   ]
  },
  {
   "cell_type": "code",
   "execution_count": null,
   "id": "ec8d0eeb",
   "metadata": {},
   "outputs": [],
   "source": [
    "zillow_scaled.describe().T"
   ]
  },
  {
   "cell_type": "markdown",
   "id": "acc7b92d",
   "metadata": {},
   "source": [
    "## Question 1\n",
    "- Whether there has relationship between LogError and Age"
   ]
  },
  {
   "cell_type": "code",
   "execution_count": null,
   "id": "57dd5148",
   "metadata": {},
   "outputs": [],
   "source": [
    "# plot age by logerror\n",
    "sns.scatterplot(x=zillow_train.age, y=zillow_train.logerror,hue=zillow_train.county)\n",
    "plt.xlabel(\"Age\")\n",
    "plt.ylabel(\"LogError\")\n",
    "plt.title(\"LogError and Age\")\n",
    "plt.show()"
   ]
  },
  {
   "cell_type": "markdown",
   "id": "d5726754",
   "metadata": {},
   "source": [
    "## Key Takeaway\n",
    "- The age and log error don't seem to have any significant relationship in county when they pass age 80.\n",
    "- Majority of them within 60 years built has significant log error with orange county\n",
    "- The next step exploration would be whether there are signicant relationship with the taxrate and logerror"
   ]
  },
  {
   "cell_type": "markdown",
   "id": "322d7f4f",
   "metadata": {},
   "source": [
    "## Question 2\n",
    "- Whether there has relationship between taxrate and logerror "
   ]
  },
  {
   "cell_type": "code",
   "execution_count": null,
   "id": "364f48f4",
   "metadata": {},
   "outputs": [],
   "source": [
    "sns.jointplot(y=\"taxrate\", x=\"logerror\", data=zillow_train, hue = 'county')\n",
    "plt.xlabel(\"county\")\n",
    "plt.ylabel(\"Logerror\")\n",
    "plt.show()"
   ]
  },
  {
   "cell_type": "markdown",
   "id": "cf17ee0b",
   "metadata": {},
   "source": [
    "## Key Takeaway\n",
    "- The logerror has showing significant with orange county, which is like what happened to the age\n",
    "- The next step would be focusing on orange county to explore further for the reason of logerror"
   ]
  },
  {
   "cell_type": "raw",
   "id": "77689b7e",
   "metadata": {},
   "source": [
    "## Question 3\n",
    "- Hypothesis Test\n",
    "- H0=The logerror in orange county == logerror of other counties\n",
    "- Ha=The logerror in orange county >logerror of other counties"
   ]
  },
  {
   "cell_type": "code",
   "execution_count": null,
   "id": "c16a3c16",
   "metadata": {},
   "outputs": [],
   "source": [
    "alpha = .05"
   ]
  },
  {
   "cell_type": "code",
   "execution_count": null,
   "id": "9f871e14",
   "metadata": {},
   "outputs": [],
   "source": [
    "zillow_train.county.value_counts()"
   ]
  },
  {
   "cell_type": "code",
   "execution_count": null,
   "id": "dde637c0",
   "metadata": {},
   "outputs": [],
   "source": [
    "import scipy.stats as stats\n",
    "orange = zillow_train[zillow_train.county== 'Orange County, CA'].logerror\n",
    "other = zillow_train[zillow_train.county!='Orange County, CA'].logerror\n",
    "orange.var(), other.var()"
   ]
  },
  {
   "cell_type": "code",
   "execution_count": null,
   "id": "22d86b3d",
   "metadata": {},
   "outputs": [],
   "source": [
    "t, p = stats.ttest_ind(orange, other, equal_var=False)\n",
    "print(t, p/2, alpha)"
   ]
  },
  {
   "cell_type": "code",
   "execution_count": null,
   "id": "fe9322fd",
   "metadata": {},
   "outputs": [],
   "source": [
    "if p/2 > alpha:\n",
    "    print(\"We fail to reject H0\")\n",
    "elif t < 0:\n",
    "    print(\"We fail to reject H0\")\n",
    "else:\n",
    "    print(\"We reject H0 \")"
   ]
  },
  {
   "cell_type": "markdown",
   "id": "3c27d893",
   "metadata": {},
   "source": [
    "## Key Takeaway\n",
    "- The orange county has significant different on the logerror compare to the other counties\n",
    "- The orange county has 59.9% variable higher than other countiers "
   ]
  },
  {
   "cell_type": "markdown",
   "id": "a243c460",
   "metadata": {},
   "source": [
    "## Question 4\n",
    "- Is there a significant different between logerror and the bathroom and bedroom counts "
   ]
  },
  {
   "cell_type": "code",
   "execution_count": null,
   "id": "2eab6969",
   "metadata": {},
   "outputs": [],
   "source": [
    "#creating a joinplot to see if any linear relationship\n",
    "print(\"Is there a relationship\\nbetween room count and logerror?\")\n",
    "room=zillow_train['bathroom']+zillow_train['bedroom']\n",
    "sns.jointplot(x=room, y='logerror', data=zillow_train, hue = 'county')\n",
    "plt.xlabel(\"Room\")\n",
    "plt.ylabel(\"Logerror\")\n",
    "plt.show()"
   ]
  },
  {
   "cell_type": "code",
   "execution_count": null,
   "id": "0682c750",
   "metadata": {},
   "outputs": [],
   "source": [
    "zillow_train[zillow_train.logerror>=1.5].county.value_counts()"
   ]
  },
  {
   "cell_type": "markdown",
   "id": "3430b82d",
   "metadata": {},
   "source": [
    "## Key Takeaway\n",
    "- The orange county has significant higher logerror\n",
    "- The orange county has higher logerror with room count between 3-8\n",
    "- The logerror plays significant role on logerror\n",
    "- Would recommend doing the prediction seperately with orange county to be one and rest of the county to be the other one"
   ]
  },
  {
   "cell_type": "markdown",
   "id": "81acbb04",
   "metadata": {},
   "source": [
    "## Question 5\n",
    "- Can we achieve lower logerror when seperate orange county out of overall "
   ]
  },
  {
   "cell_type": "code",
   "execution_count": null,
   "id": "3fe5444d",
   "metadata": {},
   "outputs": [],
   "source": [
    "zillow_train.groupby('county').logerror.mean().plot.bar()"
   ]
  },
  {
   "cell_type": "code",
   "execution_count": null,
   "id": "3d333775",
   "metadata": {},
   "outputs": [],
   "source": [
    "nroom=zillow_train.bathroom+zillow_train.bedroom\n",
    "zillow_train['county1']=zillow_train['county'].replace(['Los Angeles County, CA', 'Ventura County, CA'], 'Other')"
   ]
  },
  {
   "cell_type": "code",
   "execution_count": null,
   "id": "a47e7a2c",
   "metadata": {},
   "outputs": [],
   "source": [
    "sns.scatterplot(x=nroom, y='logerror', data=zillow_train, hue='county1')\n",
    "plt.xlabel(\"Room\")\n",
    "plt.ylabel(\"Logerror\")\n",
    "plt.show()"
   ]
  },
  {
   "cell_type": "code",
   "execution_count": null,
   "id": "da480f02",
   "metadata": {},
   "outputs": [],
   "source": [
    "zillow_train.logerror.mean()-zillow_train[zillow_train.county1=='Other'].logerror.mean()\n"
   ]
  },
  {
   "cell_type": "code",
   "execution_count": null,
   "id": "5c666ccc",
   "metadata": {},
   "outputs": [],
   "source": []
  },
  {
   "cell_type": "markdown",
   "id": "8aa1ccbe",
   "metadata": {},
   "source": [
    "## Key Takeaway\n",
    "- If we remove the orange county, the logerror doesn't have significant change\n",
    "- The modeling would not remove the orange county"
   ]
  },
  {
   "cell_type": "markdown",
   "id": "7576763c",
   "metadata": {},
   "source": [
    "# Cluster"
   ]
  },
  {
   "cell_type": "code",
   "execution_count": null,
   "id": "85efb557",
   "metadata": {},
   "outputs": [],
   "source": [
    "scaled_train,scaled_validate,scaled_test=wrangle.scale_data(zillow_train,zillow_validate,zillow_test,cols=['bathroom','bedroom','taxrate','month','age','sqtft'])"
   ]
  },
  {
   "cell_type": "code",
   "execution_count": null,
   "id": "bc06ea1f",
   "metadata": {},
   "outputs": [],
   "source": [
    "# building and X to start clustering\n",
    "from sklearn.cluster import KMeans\n",
    "X = scaled_train[['bathroom','bedroom','taxrate','month','age','sqtft']]\n",
    "with plt.style.context('seaborn-whitegrid'):\n",
    "    #graph size\n",
    "    plt.figure(figsize=(9, 6))\n",
    "    pd.Series({k: KMeans(k).fit(X).inertia_ for k in range(2, 12)}).plot(marker='x')\n",
    "    plt.xticks(range(2, 12))\n",
    "    plt.xlabel('k')\n",
    "    plt.ylabel('inertia')\n",
    "    plt.title('Change in inertia as k increases')"
   ]
  },
  {
   "cell_type": "code",
   "execution_count": null,
   "id": "17589857",
   "metadata": {},
   "outputs": [],
   "source": [
    "kmeans = KMeans(n_clusters=3)\n",
    "kmeans.fit(X)\n",
    "\n",
    "kmeans.predict(X)\n",
    "scaled_train['cluster']= kmeans.predict(X)\n"
   ]
  },
  {
   "cell_type": "code",
   "execution_count": null,
   "id": "1e47ff53",
   "metadata": {},
   "outputs": [],
   "source": [
    "zillow_train.T"
   ]
  },
  {
   "cell_type": "code",
   "execution_count": null,
   "id": "510492dd",
   "metadata": {},
   "outputs": [],
   "source": [
    "sns.relplot(data=scaled_train, \n",
    "            x='bathroom', \n",
    "            y='sqtft',\n",
    "           hue='cluster');"
   ]
  },
  {
   "cell_type": "code",
   "execution_count": null,
   "id": "bedd39d9",
   "metadata": {},
   "outputs": [],
   "source": [
    "sns.relplot(data=scaled_train, \n",
    "            x='month', \n",
    "            y='sqtft',\n",
    "           hue='cluster');"
   ]
  },
  {
   "cell_type": "code",
   "execution_count": null,
   "id": "f351f4e1",
   "metadata": {},
   "outputs": [],
   "source": [
    "sns.relplot(data=scaled_train, \n",
    "            x='sqtft', \n",
    "            y='logerror',\n",
    "           hue='cluster');"
   ]
  },
  {
   "cell_type": "code",
   "execution_count": null,
   "id": "ca03bd06",
   "metadata": {},
   "outputs": [],
   "source": [
    "#graph size \n",
    "centroids = pd.DataFrame(kmeans.cluster_centers_, columns=X.columns)\n",
    "plt.figure(figsize=(14, 9))\n",
    "#graphing after weve clustered using a scatter plot\n",
    "for cluster, subset in scaled_train.groupby('cluster'):\n",
    "\n",
    "        plt.scatter(subset.sqtft, subset.taxrate, label='cluster ' + str(cluster), alpha=.6)\n",
    "\n",
    "        plt.legend()\n",
    "        plt.xlabel('price')\n",
    "        plt.ylabel('sq ft')\n",
    "        plt.title('Visualizing Cluster Centers')"
   ]
  },
  {
   "cell_type": "code",
   "execution_count": null,
   "id": "f5b02d95",
   "metadata": {},
   "outputs": [],
   "source": []
  }
 ],
 "metadata": {
  "kernelspec": {
   "display_name": "Python 3 (ipykernel)",
   "language": "python",
   "name": "python3"
  },
  "language_info": {
   "codemirror_mode": {
    "name": "ipython",
    "version": 3
   },
   "file_extension": ".py",
   "mimetype": "text/x-python",
   "name": "python",
   "nbconvert_exporter": "python",
   "pygments_lexer": "ipython3",
   "version": "3.9.12"
  }
 },
 "nbformat": 4,
 "nbformat_minor": 5
}
