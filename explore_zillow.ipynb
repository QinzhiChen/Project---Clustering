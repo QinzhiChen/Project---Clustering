{
 "cells": [
  {
   "cell_type": "code",
   "execution_count": 1,
   "id": "8e12ec8a",
   "metadata": {},
   "outputs": [],
   "source": [
    "import wrangle\n",
    "\n",
    "import warnings\n",
    "warnings.filterwarnings(\"ignore\")\n",
    "from sklearn.model_selection import train_test_split\n",
    "from sklearn.impute import SimpleImputer\n",
    "from sklearn.preprocessing import MinMaxScaler, StandardScaler, RobustScaler, QuantileTransformer\n",
    "from env import user, password, host\n",
    "import env\n",
    "from sklearn.feature_selection import SelectKBest, f_regression, RFE\n",
    "from sklearn.linear_model import LinearRegression\n",
    "import pandas as pd\n",
    "import matplotlib.pyplot as plt\n",
    "import seaborn as sns\n",
    "import numpy as np\n",
    "import os\n",
    "import csv\n",
    "from sklearn.metrics import mean_squared_error\n",
    "from sklearn.metrics import r2_score"
   ]
  },
  {
   "cell_type": "code",
   "execution_count": 2,
   "id": "724a1835",
   "metadata": {},
   "outputs": [],
   "source": [
    "zillow_train,zillow_validate,zillow_test=wrangle.wrangled_file()"
   ]
  },
  {
   "cell_type": "code",
   "execution_count": 3,
   "id": "295007a4",
   "metadata": {},
   "outputs": [
    {
     "name": "stdout",
     "output_type": "stream",
     "text": [
      "<class 'pandas.core.frame.DataFrame'>\n",
      "Int64Index: 40900 entries, 39641 to 7566\n",
      "Data columns (total 26 columns):\n",
      " #   Column                      Non-Null Count  Dtype  \n",
      "---  ------                      --------------  -----  \n",
      " 0   bathroom                    40900 non-null  float64\n",
      " 1   bedroom                     40900 non-null  float64\n",
      " 2   calculatedbathnbr           40900 non-null  float64\n",
      " 3   sqtft                       40900 non-null  float64\n",
      " 4   finishedsquarefeet12        40900 non-null  float64\n",
      " 5   fips                        40900 non-null  object \n",
      " 6   fullbathcnt                 40900 non-null  float64\n",
      " 7   latitude                    40900 non-null  float64\n",
      " 8   longitude                   40900 non-null  float64\n",
      " 9   propertycountylandusecode   40900 non-null  object \n",
      " 10  rawcensustractandblock      40900 non-null  float64\n",
      " 11  zipcode                     40900 non-null  object \n",
      " 12  roomcnt                     40900 non-null  float64\n",
      " 13  yearbuilt                   40900 non-null  float64\n",
      " 14  structuretaxvaluedollarcnt  40900 non-null  float64\n",
      " 15  taxvalue                    40900 non-null  float64\n",
      " 16  assessmentyear              40900 non-null  float64\n",
      " 17  landtaxvaluedollarcnt       40900 non-null  float64\n",
      " 18  taxamount                   40900 non-null  float64\n",
      " 19  censustractandblock         40900 non-null  float64\n",
      " 20  logerror                    40900 non-null  float64\n",
      " 21  propertylandusedesc         40900 non-null  object \n",
      " 22  county                      40900 non-null  object \n",
      " 23  taxrate                     40900 non-null  float64\n",
      " 24  month                       40900 non-null  int64  \n",
      " 25  age                         40900 non-null  float64\n",
      "dtypes: float64(20), int64(1), object(5)\n",
      "memory usage: 8.4+ MB\n"
     ]
    }
   ],
   "source": [
    "zillow_train.info()"
   ]
  },
  {
   "cell_type": "code",
   "execution_count": 4,
   "id": "aa37d977",
   "metadata": {},
   "outputs": [
    {
     "data": {
      "text/html": [
       "<div>\n",
       "<style scoped>\n",
       "    .dataframe tbody tr th:only-of-type {\n",
       "        vertical-align: middle;\n",
       "    }\n",
       "\n",
       "    .dataframe tbody tr th {\n",
       "        vertical-align: top;\n",
       "    }\n",
       "\n",
       "    .dataframe thead th {\n",
       "        text-align: right;\n",
       "    }\n",
       "</style>\n",
       "<table border=\"1\" class=\"dataframe\">\n",
       "  <thead>\n",
       "    <tr style=\"text-align: right;\">\n",
       "      <th></th>\n",
       "      <th>count</th>\n",
       "      <th>mean</th>\n",
       "      <th>std</th>\n",
       "      <th>min</th>\n",
       "      <th>25%</th>\n",
       "      <th>50%</th>\n",
       "      <th>75%</th>\n",
       "      <th>max</th>\n",
       "    </tr>\n",
       "  </thead>\n",
       "  <tbody>\n",
       "    <tr>\n",
       "      <th>bathroom</th>\n",
       "      <td>40900.0</td>\n",
       "      <td>2.290795e+00</td>\n",
       "      <td>9.526837e-01</td>\n",
       "      <td>1.000000e+00</td>\n",
       "      <td>2.000000e+00</td>\n",
       "      <td>2.000000e+00</td>\n",
       "      <td>3.000000e+00</td>\n",
       "      <td>1.800000e+01</td>\n",
       "    </tr>\n",
       "    <tr>\n",
       "      <th>bedroom</th>\n",
       "      <td>40900.0</td>\n",
       "      <td>3.025526e+00</td>\n",
       "      <td>1.016471e+00</td>\n",
       "      <td>0.000000e+00</td>\n",
       "      <td>2.000000e+00</td>\n",
       "      <td>3.000000e+00</td>\n",
       "      <td>4.000000e+00</td>\n",
       "      <td>1.400000e+01</td>\n",
       "    </tr>\n",
       "    <tr>\n",
       "      <th>calculatedbathnbr</th>\n",
       "      <td>40900.0</td>\n",
       "      <td>2.290795e+00</td>\n",
       "      <td>9.526837e-01</td>\n",
       "      <td>1.000000e+00</td>\n",
       "      <td>2.000000e+00</td>\n",
       "      <td>2.000000e+00</td>\n",
       "      <td>3.000000e+00</td>\n",
       "      <td>1.800000e+01</td>\n",
       "    </tr>\n",
       "    <tr>\n",
       "      <th>sqtft</th>\n",
       "      <td>40900.0</td>\n",
       "      <td>1.765063e+03</td>\n",
       "      <td>9.412591e+02</td>\n",
       "      <td>2.420000e+02</td>\n",
       "      <td>1.176000e+03</td>\n",
       "      <td>1.526500e+03</td>\n",
       "      <td>2.075250e+03</td>\n",
       "      <td>2.192900e+04</td>\n",
       "    </tr>\n",
       "    <tr>\n",
       "      <th>finishedsquarefeet12</th>\n",
       "      <td>40900.0</td>\n",
       "      <td>1.765063e+03</td>\n",
       "      <td>9.412591e+02</td>\n",
       "      <td>2.420000e+02</td>\n",
       "      <td>1.176000e+03</td>\n",
       "      <td>1.526500e+03</td>\n",
       "      <td>2.075250e+03</td>\n",
       "      <td>2.192900e+04</td>\n",
       "    </tr>\n",
       "    <tr>\n",
       "      <th>fullbathcnt</th>\n",
       "      <td>40900.0</td>\n",
       "      <td>2.221980e+00</td>\n",
       "      <td>9.365509e-01</td>\n",
       "      <td>1.000000e+00</td>\n",
       "      <td>2.000000e+00</td>\n",
       "      <td>2.000000e+00</td>\n",
       "      <td>3.000000e+00</td>\n",
       "      <td>1.800000e+01</td>\n",
       "    </tr>\n",
       "    <tr>\n",
       "      <th>latitude</th>\n",
       "      <td>40900.0</td>\n",
       "      <td>3.401251e+07</td>\n",
       "      <td>2.692061e+05</td>\n",
       "      <td>3.333953e+07</td>\n",
       "      <td>3.381467e+07</td>\n",
       "      <td>3.402853e+07</td>\n",
       "      <td>3.417910e+07</td>\n",
       "      <td>3.481877e+07</td>\n",
       "    </tr>\n",
       "    <tr>\n",
       "      <th>longitude</th>\n",
       "      <td>40900.0</td>\n",
       "      <td>-1.182042e+08</td>\n",
       "      <td>3.630728e+05</td>\n",
       "      <td>-1.194753e+08</td>\n",
       "      <td>-1.184233e+08</td>\n",
       "      <td>-1.181768e+08</td>\n",
       "      <td>-1.179250e+08</td>\n",
       "      <td>-1.175546e+08</td>\n",
       "    </tr>\n",
       "    <tr>\n",
       "      <th>rawcensustractandblock</th>\n",
       "      <td>40900.0</td>\n",
       "      <td>6.049261e+07</td>\n",
       "      <td>2.070572e+05</td>\n",
       "      <td>6.037101e+07</td>\n",
       "      <td>6.037400e+07</td>\n",
       "      <td>6.037621e+07</td>\n",
       "      <td>6.059042e+07</td>\n",
       "      <td>6.111009e+07</td>\n",
       "    </tr>\n",
       "    <tr>\n",
       "      <th>roomcnt</th>\n",
       "      <td>40900.0</td>\n",
       "      <td>1.534156e+00</td>\n",
       "      <td>2.868868e+00</td>\n",
       "      <td>0.000000e+00</td>\n",
       "      <td>0.000000e+00</td>\n",
       "      <td>0.000000e+00</td>\n",
       "      <td>0.000000e+00</td>\n",
       "      <td>1.500000e+01</td>\n",
       "    </tr>\n",
       "    <tr>\n",
       "      <th>yearbuilt</th>\n",
       "      <td>40900.0</td>\n",
       "      <td>1.969645e+03</td>\n",
       "      <td>2.310063e+01</td>\n",
       "      <td>1.878000e+03</td>\n",
       "      <td>1.954000e+03</td>\n",
       "      <td>1.971000e+03</td>\n",
       "      <td>1.987000e+03</td>\n",
       "      <td>2.016000e+03</td>\n",
       "    </tr>\n",
       "    <tr>\n",
       "      <th>structuretaxvaluedollarcnt</th>\n",
       "      <td>40900.0</td>\n",
       "      <td>1.904469e+05</td>\n",
       "      <td>2.294997e+05</td>\n",
       "      <td>1.480000e+02</td>\n",
       "      <td>8.463725e+04</td>\n",
       "      <td>1.365025e+05</td>\n",
       "      <td>2.192478e+05</td>\n",
       "      <td>7.824604e+06</td>\n",
       "    </tr>\n",
       "    <tr>\n",
       "      <th>taxvalue</th>\n",
       "      <td>40900.0</td>\n",
       "      <td>4.912138e+05</td>\n",
       "      <td>6.758616e+05</td>\n",
       "      <td>1.168300e+04</td>\n",
       "      <td>2.055908e+05</td>\n",
       "      <td>3.577980e+05</td>\n",
       "      <td>5.667512e+05</td>\n",
       "      <td>4.906124e+07</td>\n",
       "    </tr>\n",
       "    <tr>\n",
       "      <th>assessmentyear</th>\n",
       "      <td>40900.0</td>\n",
       "      <td>2.016000e+03</td>\n",
       "      <td>0.000000e+00</td>\n",
       "      <td>2.016000e+03</td>\n",
       "      <td>2.016000e+03</td>\n",
       "      <td>2.016000e+03</td>\n",
       "      <td>2.016000e+03</td>\n",
       "      <td>2.016000e+03</td>\n",
       "    </tr>\n",
       "    <tr>\n",
       "      <th>landtaxvaluedollarcnt</th>\n",
       "      <td>40900.0</td>\n",
       "      <td>3.007668e+05</td>\n",
       "      <td>5.141551e+05</td>\n",
       "      <td>1.610000e+02</td>\n",
       "      <td>8.340950e+04</td>\n",
       "      <td>2.019090e+05</td>\n",
       "      <td>3.644675e+05</td>\n",
       "      <td>4.895220e+07</td>\n",
       "    </tr>\n",
       "    <tr>\n",
       "      <th>taxamount</th>\n",
       "      <td>40900.0</td>\n",
       "      <td>5.996708e+03</td>\n",
       "      <td>7.884389e+03</td>\n",
       "      <td>1.992000e+01</td>\n",
       "      <td>2.699315e+03</td>\n",
       "      <td>4.419235e+03</td>\n",
       "      <td>6.884090e+03</td>\n",
       "      <td>5.866393e+05</td>\n",
       "    </tr>\n",
       "    <tr>\n",
       "      <th>censustractandblock</th>\n",
       "      <td>40900.0</td>\n",
       "      <td>6.050299e+13</td>\n",
       "      <td>2.099548e+12</td>\n",
       "      <td>6.037101e+13</td>\n",
       "      <td>6.037400e+13</td>\n",
       "      <td>6.037621e+13</td>\n",
       "      <td>6.059042e+13</td>\n",
       "      <td>4.830301e+14</td>\n",
       "    </tr>\n",
       "    <tr>\n",
       "      <th>logerror</th>\n",
       "      <td>40900.0</td>\n",
       "      <td>1.568151e-02</td>\n",
       "      <td>1.615316e-01</td>\n",
       "      <td>-4.655420e+00</td>\n",
       "      <td>-2.386621e-02</td>\n",
       "      <td>6.333430e-03</td>\n",
       "      <td>3.769443e-02</td>\n",
       "      <td>3.394544e+00</td>\n",
       "    </tr>\n",
       "    <tr>\n",
       "      <th>taxrate</th>\n",
       "      <td>40900.0</td>\n",
       "      <td>1.311817e-02</td>\n",
       "      <td>5.018955e-03</td>\n",
       "      <td>9.372442e-05</td>\n",
       "      <td>1.163518e-02</td>\n",
       "      <td>1.226517e-02</td>\n",
       "      <td>1.341213e-02</td>\n",
       "      <td>4.936474e-01</td>\n",
       "    </tr>\n",
       "    <tr>\n",
       "      <th>month</th>\n",
       "      <td>40900.0</td>\n",
       "      <td>5.072934e+00</td>\n",
       "      <td>2.349702e+00</td>\n",
       "      <td>1.000000e+00</td>\n",
       "      <td>3.000000e+00</td>\n",
       "      <td>5.000000e+00</td>\n",
       "      <td>7.000000e+00</td>\n",
       "      <td>9.000000e+00</td>\n",
       "    </tr>\n",
       "    <tr>\n",
       "      <th>age</th>\n",
       "      <td>40900.0</td>\n",
       "      <td>5.235533e+01</td>\n",
       "      <td>2.310063e+01</td>\n",
       "      <td>6.000000e+00</td>\n",
       "      <td>3.500000e+01</td>\n",
       "      <td>5.100000e+01</td>\n",
       "      <td>6.800000e+01</td>\n",
       "      <td>1.440000e+02</td>\n",
       "    </tr>\n",
       "  </tbody>\n",
       "</table>\n",
       "</div>"
      ],
      "text/plain": [
       "                              count          mean           std           min  \\\n",
       "bathroom                    40900.0  2.290795e+00  9.526837e-01  1.000000e+00   \n",
       "bedroom                     40900.0  3.025526e+00  1.016471e+00  0.000000e+00   \n",
       "calculatedbathnbr           40900.0  2.290795e+00  9.526837e-01  1.000000e+00   \n",
       "sqtft                       40900.0  1.765063e+03  9.412591e+02  2.420000e+02   \n",
       "finishedsquarefeet12        40900.0  1.765063e+03  9.412591e+02  2.420000e+02   \n",
       "fullbathcnt                 40900.0  2.221980e+00  9.365509e-01  1.000000e+00   \n",
       "latitude                    40900.0  3.401251e+07  2.692061e+05  3.333953e+07   \n",
       "longitude                   40900.0 -1.182042e+08  3.630728e+05 -1.194753e+08   \n",
       "rawcensustractandblock      40900.0  6.049261e+07  2.070572e+05  6.037101e+07   \n",
       "roomcnt                     40900.0  1.534156e+00  2.868868e+00  0.000000e+00   \n",
       "yearbuilt                   40900.0  1.969645e+03  2.310063e+01  1.878000e+03   \n",
       "structuretaxvaluedollarcnt  40900.0  1.904469e+05  2.294997e+05  1.480000e+02   \n",
       "taxvalue                    40900.0  4.912138e+05  6.758616e+05  1.168300e+04   \n",
       "assessmentyear              40900.0  2.016000e+03  0.000000e+00  2.016000e+03   \n",
       "landtaxvaluedollarcnt       40900.0  3.007668e+05  5.141551e+05  1.610000e+02   \n",
       "taxamount                   40900.0  5.996708e+03  7.884389e+03  1.992000e+01   \n",
       "censustractandblock         40900.0  6.050299e+13  2.099548e+12  6.037101e+13   \n",
       "logerror                    40900.0  1.568151e-02  1.615316e-01 -4.655420e+00   \n",
       "taxrate                     40900.0  1.311817e-02  5.018955e-03  9.372442e-05   \n",
       "month                       40900.0  5.072934e+00  2.349702e+00  1.000000e+00   \n",
       "age                         40900.0  5.235533e+01  2.310063e+01  6.000000e+00   \n",
       "\n",
       "                                     25%           50%           75%  \\\n",
       "bathroom                    2.000000e+00  2.000000e+00  3.000000e+00   \n",
       "bedroom                     2.000000e+00  3.000000e+00  4.000000e+00   \n",
       "calculatedbathnbr           2.000000e+00  2.000000e+00  3.000000e+00   \n",
       "sqtft                       1.176000e+03  1.526500e+03  2.075250e+03   \n",
       "finishedsquarefeet12        1.176000e+03  1.526500e+03  2.075250e+03   \n",
       "fullbathcnt                 2.000000e+00  2.000000e+00  3.000000e+00   \n",
       "latitude                    3.381467e+07  3.402853e+07  3.417910e+07   \n",
       "longitude                  -1.184233e+08 -1.181768e+08 -1.179250e+08   \n",
       "rawcensustractandblock      6.037400e+07  6.037621e+07  6.059042e+07   \n",
       "roomcnt                     0.000000e+00  0.000000e+00  0.000000e+00   \n",
       "yearbuilt                   1.954000e+03  1.971000e+03  1.987000e+03   \n",
       "structuretaxvaluedollarcnt  8.463725e+04  1.365025e+05  2.192478e+05   \n",
       "taxvalue                    2.055908e+05  3.577980e+05  5.667512e+05   \n",
       "assessmentyear              2.016000e+03  2.016000e+03  2.016000e+03   \n",
       "landtaxvaluedollarcnt       8.340950e+04  2.019090e+05  3.644675e+05   \n",
       "taxamount                   2.699315e+03  4.419235e+03  6.884090e+03   \n",
       "censustractandblock         6.037400e+13  6.037621e+13  6.059042e+13   \n",
       "logerror                   -2.386621e-02  6.333430e-03  3.769443e-02   \n",
       "taxrate                     1.163518e-02  1.226517e-02  1.341213e-02   \n",
       "month                       3.000000e+00  5.000000e+00  7.000000e+00   \n",
       "age                         3.500000e+01  5.100000e+01  6.800000e+01   \n",
       "\n",
       "                                     max  \n",
       "bathroom                    1.800000e+01  \n",
       "bedroom                     1.400000e+01  \n",
       "calculatedbathnbr           1.800000e+01  \n",
       "sqtft                       2.192900e+04  \n",
       "finishedsquarefeet12        2.192900e+04  \n",
       "fullbathcnt                 1.800000e+01  \n",
       "latitude                    3.481877e+07  \n",
       "longitude                  -1.175546e+08  \n",
       "rawcensustractandblock      6.111009e+07  \n",
       "roomcnt                     1.500000e+01  \n",
       "yearbuilt                   2.016000e+03  \n",
       "structuretaxvaluedollarcnt  7.824604e+06  \n",
       "taxvalue                    4.906124e+07  \n",
       "assessmentyear              2.016000e+03  \n",
       "landtaxvaluedollarcnt       4.895220e+07  \n",
       "taxamount                   5.866393e+05  \n",
       "censustractandblock         4.830301e+14  \n",
       "logerror                    3.394544e+00  \n",
       "taxrate                     4.936474e-01  \n",
       "month                       9.000000e+00  \n",
       "age                         1.440000e+02  "
      ]
     },
     "execution_count": 4,
     "metadata": {},
     "output_type": "execute_result"
    }
   ],
   "source": [
    "zillow_train.describe().T"
   ]
  },
  {
   "cell_type": "code",
   "execution_count": 7,
   "id": "0a5a3222",
   "metadata": {},
   "outputs": [],
   "source": [
    "def scale(scaler,zillow_train,cols=['bedroom','bathroom','sqtft','fullbathcnt',],return_scaler=True):\n",
    "    zillow_train=zillow_train\n",
    "    zillow_train_scaled=zillow_train.copy()\n",
    "    scaler=scaler\n",
    "    zillow_train_scaled[cols] = scaler.fit_transform(zillow_train[cols])\n",
    "    return scaler, zillow_train_scaled"
   ]
  },
  {
   "cell_type": "code",
   "execution_count": 8,
   "id": "8874c559",
   "metadata": {},
   "outputs": [],
   "source": [
    "scaler,zillow_scaled=scale(MinMaxScaler(),zillow_train)"
   ]
  },
  {
   "cell_type": "code",
   "execution_count": 9,
   "id": "73fc8e72",
   "metadata": {},
   "outputs": [
    {
     "name": "stdout",
     "output_type": "stream",
     "text": [
      "<class 'pandas.core.frame.DataFrame'>\n",
      "Int64Index: 40900 entries, 39641 to 7566\n",
      "Data columns (total 26 columns):\n",
      " #   Column                      Non-Null Count  Dtype  \n",
      "---  ------                      --------------  -----  \n",
      " 0   bathroom                    40900 non-null  float64\n",
      " 1   bedroom                     40900 non-null  float64\n",
      " 2   calculatedbathnbr           40900 non-null  float64\n",
      " 3   sqtft                       40900 non-null  float64\n",
      " 4   finishedsquarefeet12        40900 non-null  float64\n",
      " 5   fips                        40900 non-null  object \n",
      " 6   fullbathcnt                 40900 non-null  float64\n",
      " 7   latitude                    40900 non-null  float64\n",
      " 8   longitude                   40900 non-null  float64\n",
      " 9   propertycountylandusecode   40900 non-null  object \n",
      " 10  rawcensustractandblock      40900 non-null  float64\n",
      " 11  zipcode                     40900 non-null  object \n",
      " 12  roomcnt                     40900 non-null  float64\n",
      " 13  yearbuilt                   40900 non-null  float64\n",
      " 14  structuretaxvaluedollarcnt  40900 non-null  float64\n",
      " 15  taxvalue                    40900 non-null  float64\n",
      " 16  assessmentyear              40900 non-null  float64\n",
      " 17  landtaxvaluedollarcnt       40900 non-null  float64\n",
      " 18  taxamount                   40900 non-null  float64\n",
      " 19  censustractandblock         40900 non-null  float64\n",
      " 20  logerror                    40900 non-null  float64\n",
      " 21  propertylandusedesc         40900 non-null  object \n",
      " 22  county                      40900 non-null  object \n",
      " 23  taxrate                     40900 non-null  float64\n",
      " 24  month                       40900 non-null  int64  \n",
      " 25  age                         40900 non-null  float64\n",
      "dtypes: float64(20), int64(1), object(5)\n",
      "memory usage: 8.4+ MB\n"
     ]
    }
   ],
   "source": [
    "zillow_scaled.info()"
   ]
  },
  {
   "cell_type": "code",
   "execution_count": 10,
   "id": "ec8d0eeb",
   "metadata": {},
   "outputs": [
    {
     "data": {
      "text/html": [
       "<div>\n",
       "<style scoped>\n",
       "    .dataframe tbody tr th:only-of-type {\n",
       "        vertical-align: middle;\n",
       "    }\n",
       "\n",
       "    .dataframe tbody tr th {\n",
       "        vertical-align: top;\n",
       "    }\n",
       "\n",
       "    .dataframe thead th {\n",
       "        text-align: right;\n",
       "    }\n",
       "</style>\n",
       "<table border=\"1\" class=\"dataframe\">\n",
       "  <thead>\n",
       "    <tr style=\"text-align: right;\">\n",
       "      <th></th>\n",
       "      <th>bathroom</th>\n",
       "      <th>bedroom</th>\n",
       "      <th>calculatedbathnbr</th>\n",
       "      <th>sqtft</th>\n",
       "      <th>finishedsquarefeet12</th>\n",
       "      <th>fullbathcnt</th>\n",
       "      <th>latitude</th>\n",
       "      <th>longitude</th>\n",
       "      <th>rawcensustractandblock</th>\n",
       "      <th>roomcnt</th>\n",
       "      <th>...</th>\n",
       "      <th>structuretaxvaluedollarcnt</th>\n",
       "      <th>taxvalue</th>\n",
       "      <th>assessmentyear</th>\n",
       "      <th>landtaxvaluedollarcnt</th>\n",
       "      <th>taxamount</th>\n",
       "      <th>censustractandblock</th>\n",
       "      <th>logerror</th>\n",
       "      <th>taxrate</th>\n",
       "      <th>month</th>\n",
       "      <th>age</th>\n",
       "    </tr>\n",
       "  </thead>\n",
       "  <tbody>\n",
       "    <tr>\n",
       "      <th>count</th>\n",
       "      <td>40900.000000</td>\n",
       "      <td>40900.000000</td>\n",
       "      <td>40900.000000</td>\n",
       "      <td>40900.000000</td>\n",
       "      <td>40900.000000</td>\n",
       "      <td>40900.000000</td>\n",
       "      <td>4.090000e+04</td>\n",
       "      <td>4.090000e+04</td>\n",
       "      <td>4.090000e+04</td>\n",
       "      <td>40900.000000</td>\n",
       "      <td>...</td>\n",
       "      <td>4.090000e+04</td>\n",
       "      <td>4.090000e+04</td>\n",
       "      <td>40900.0</td>\n",
       "      <td>4.090000e+04</td>\n",
       "      <td>40900.000000</td>\n",
       "      <td>4.090000e+04</td>\n",
       "      <td>40900.000000</td>\n",
       "      <td>40900.000000</td>\n",
       "      <td>40900.000000</td>\n",
       "      <td>40900.000000</td>\n",
       "    </tr>\n",
       "    <tr>\n",
       "      <th>mean</th>\n",
       "      <td>0.075929</td>\n",
       "      <td>0.216109</td>\n",
       "      <td>2.290795</td>\n",
       "      <td>0.070229</td>\n",
       "      <td>1765.062518</td>\n",
       "      <td>0.071881</td>\n",
       "      <td>3.401251e+07</td>\n",
       "      <td>-1.182042e+08</td>\n",
       "      <td>6.049261e+07</td>\n",
       "      <td>1.534156</td>\n",
       "      <td>...</td>\n",
       "      <td>1.904469e+05</td>\n",
       "      <td>4.912138e+05</td>\n",
       "      <td>2016.0</td>\n",
       "      <td>3.007668e+05</td>\n",
       "      <td>5996.708300</td>\n",
       "      <td>6.050299e+13</td>\n",
       "      <td>0.015682</td>\n",
       "      <td>0.013118</td>\n",
       "      <td>5.072934</td>\n",
       "      <td>52.355330</td>\n",
       "    </tr>\n",
       "    <tr>\n",
       "      <th>std</th>\n",
       "      <td>0.056040</td>\n",
       "      <td>0.072605</td>\n",
       "      <td>0.952684</td>\n",
       "      <td>0.043402</td>\n",
       "      <td>941.259103</td>\n",
       "      <td>0.055091</td>\n",
       "      <td>2.692061e+05</td>\n",
       "      <td>3.630728e+05</td>\n",
       "      <td>2.070572e+05</td>\n",
       "      <td>2.868868</td>\n",
       "      <td>...</td>\n",
       "      <td>2.294997e+05</td>\n",
       "      <td>6.758616e+05</td>\n",
       "      <td>0.0</td>\n",
       "      <td>5.141551e+05</td>\n",
       "      <td>7884.388826</td>\n",
       "      <td>2.099548e+12</td>\n",
       "      <td>0.161532</td>\n",
       "      <td>0.005019</td>\n",
       "      <td>2.349702</td>\n",
       "      <td>23.100631</td>\n",
       "    </tr>\n",
       "    <tr>\n",
       "      <th>min</th>\n",
       "      <td>0.000000</td>\n",
       "      <td>0.000000</td>\n",
       "      <td>1.000000</td>\n",
       "      <td>0.000000</td>\n",
       "      <td>242.000000</td>\n",
       "      <td>0.000000</td>\n",
       "      <td>3.333953e+07</td>\n",
       "      <td>-1.194753e+08</td>\n",
       "      <td>6.037101e+07</td>\n",
       "      <td>0.000000</td>\n",
       "      <td>...</td>\n",
       "      <td>1.480000e+02</td>\n",
       "      <td>1.168300e+04</td>\n",
       "      <td>2016.0</td>\n",
       "      <td>1.610000e+02</td>\n",
       "      <td>19.920000</td>\n",
       "      <td>6.037101e+13</td>\n",
       "      <td>-4.655420</td>\n",
       "      <td>0.000094</td>\n",
       "      <td>1.000000</td>\n",
       "      <td>6.000000</td>\n",
       "    </tr>\n",
       "    <tr>\n",
       "      <th>25%</th>\n",
       "      <td>0.058824</td>\n",
       "      <td>0.142857</td>\n",
       "      <td>2.000000</td>\n",
       "      <td>0.043067</td>\n",
       "      <td>1176.000000</td>\n",
       "      <td>0.058824</td>\n",
       "      <td>3.381467e+07</td>\n",
       "      <td>-1.184233e+08</td>\n",
       "      <td>6.037400e+07</td>\n",
       "      <td>0.000000</td>\n",
       "      <td>...</td>\n",
       "      <td>8.463725e+04</td>\n",
       "      <td>2.055908e+05</td>\n",
       "      <td>2016.0</td>\n",
       "      <td>8.340950e+04</td>\n",
       "      <td>2699.315000</td>\n",
       "      <td>6.037400e+13</td>\n",
       "      <td>-0.023866</td>\n",
       "      <td>0.011635</td>\n",
       "      <td>3.000000</td>\n",
       "      <td>35.000000</td>\n",
       "    </tr>\n",
       "    <tr>\n",
       "      <th>50%</th>\n",
       "      <td>0.058824</td>\n",
       "      <td>0.214286</td>\n",
       "      <td>2.000000</td>\n",
       "      <td>0.059229</td>\n",
       "      <td>1526.500000</td>\n",
       "      <td>0.058824</td>\n",
       "      <td>3.402853e+07</td>\n",
       "      <td>-1.181768e+08</td>\n",
       "      <td>6.037621e+07</td>\n",
       "      <td>0.000000</td>\n",
       "      <td>...</td>\n",
       "      <td>1.365025e+05</td>\n",
       "      <td>3.577980e+05</td>\n",
       "      <td>2016.0</td>\n",
       "      <td>2.019090e+05</td>\n",
       "      <td>4419.235000</td>\n",
       "      <td>6.037621e+13</td>\n",
       "      <td>0.006333</td>\n",
       "      <td>0.012265</td>\n",
       "      <td>5.000000</td>\n",
       "      <td>51.000000</td>\n",
       "    </tr>\n",
       "    <tr>\n",
       "      <th>75%</th>\n",
       "      <td>0.117647</td>\n",
       "      <td>0.285714</td>\n",
       "      <td>3.000000</td>\n",
       "      <td>0.084532</td>\n",
       "      <td>2075.250000</td>\n",
       "      <td>0.117647</td>\n",
       "      <td>3.417910e+07</td>\n",
       "      <td>-1.179250e+08</td>\n",
       "      <td>6.059042e+07</td>\n",
       "      <td>0.000000</td>\n",
       "      <td>...</td>\n",
       "      <td>2.192478e+05</td>\n",
       "      <td>5.667512e+05</td>\n",
       "      <td>2016.0</td>\n",
       "      <td>3.644675e+05</td>\n",
       "      <td>6884.090000</td>\n",
       "      <td>6.059042e+13</td>\n",
       "      <td>0.037694</td>\n",
       "      <td>0.013412</td>\n",
       "      <td>7.000000</td>\n",
       "      <td>68.000000</td>\n",
       "    </tr>\n",
       "    <tr>\n",
       "      <th>max</th>\n",
       "      <td>1.000000</td>\n",
       "      <td>1.000000</td>\n",
       "      <td>18.000000</td>\n",
       "      <td>1.000000</td>\n",
       "      <td>21929.000000</td>\n",
       "      <td>1.000000</td>\n",
       "      <td>3.481877e+07</td>\n",
       "      <td>-1.175546e+08</td>\n",
       "      <td>6.111009e+07</td>\n",
       "      <td>15.000000</td>\n",
       "      <td>...</td>\n",
       "      <td>7.824604e+06</td>\n",
       "      <td>4.906124e+07</td>\n",
       "      <td>2016.0</td>\n",
       "      <td>4.895220e+07</td>\n",
       "      <td>586639.300000</td>\n",
       "      <td>4.830301e+14</td>\n",
       "      <td>3.394544</td>\n",
       "      <td>0.493647</td>\n",
       "      <td>9.000000</td>\n",
       "      <td>144.000000</td>\n",
       "    </tr>\n",
       "  </tbody>\n",
       "</table>\n",
       "<p>8 rows × 21 columns</p>\n",
       "</div>"
      ],
      "text/plain": [
       "           bathroom       bedroom  calculatedbathnbr         sqtft  \\\n",
       "count  40900.000000  40900.000000       40900.000000  40900.000000   \n",
       "mean       0.075929      0.216109           2.290795      0.070229   \n",
       "std        0.056040      0.072605           0.952684      0.043402   \n",
       "min        0.000000      0.000000           1.000000      0.000000   \n",
       "25%        0.058824      0.142857           2.000000      0.043067   \n",
       "50%        0.058824      0.214286           2.000000      0.059229   \n",
       "75%        0.117647      0.285714           3.000000      0.084532   \n",
       "max        1.000000      1.000000          18.000000      1.000000   \n",
       "\n",
       "       finishedsquarefeet12   fullbathcnt      latitude     longitude  \\\n",
       "count          40900.000000  40900.000000  4.090000e+04  4.090000e+04   \n",
       "mean            1765.062518      0.071881  3.401251e+07 -1.182042e+08   \n",
       "std              941.259103      0.055091  2.692061e+05  3.630728e+05   \n",
       "min              242.000000      0.000000  3.333953e+07 -1.194753e+08   \n",
       "25%             1176.000000      0.058824  3.381467e+07 -1.184233e+08   \n",
       "50%             1526.500000      0.058824  3.402853e+07 -1.181768e+08   \n",
       "75%             2075.250000      0.117647  3.417910e+07 -1.179250e+08   \n",
       "max            21929.000000      1.000000  3.481877e+07 -1.175546e+08   \n",
       "\n",
       "       rawcensustractandblock       roomcnt  ...  structuretaxvaluedollarcnt  \\\n",
       "count            4.090000e+04  40900.000000  ...                4.090000e+04   \n",
       "mean             6.049261e+07      1.534156  ...                1.904469e+05   \n",
       "std              2.070572e+05      2.868868  ...                2.294997e+05   \n",
       "min              6.037101e+07      0.000000  ...                1.480000e+02   \n",
       "25%              6.037400e+07      0.000000  ...                8.463725e+04   \n",
       "50%              6.037621e+07      0.000000  ...                1.365025e+05   \n",
       "75%              6.059042e+07      0.000000  ...                2.192478e+05   \n",
       "max              6.111009e+07     15.000000  ...                7.824604e+06   \n",
       "\n",
       "           taxvalue  assessmentyear  landtaxvaluedollarcnt      taxamount  \\\n",
       "count  4.090000e+04         40900.0           4.090000e+04   40900.000000   \n",
       "mean   4.912138e+05          2016.0           3.007668e+05    5996.708300   \n",
       "std    6.758616e+05             0.0           5.141551e+05    7884.388826   \n",
       "min    1.168300e+04          2016.0           1.610000e+02      19.920000   \n",
       "25%    2.055908e+05          2016.0           8.340950e+04    2699.315000   \n",
       "50%    3.577980e+05          2016.0           2.019090e+05    4419.235000   \n",
       "75%    5.667512e+05          2016.0           3.644675e+05    6884.090000   \n",
       "max    4.906124e+07          2016.0           4.895220e+07  586639.300000   \n",
       "\n",
       "       censustractandblock      logerror       taxrate         month  \\\n",
       "count         4.090000e+04  40900.000000  40900.000000  40900.000000   \n",
       "mean          6.050299e+13      0.015682      0.013118      5.072934   \n",
       "std           2.099548e+12      0.161532      0.005019      2.349702   \n",
       "min           6.037101e+13     -4.655420      0.000094      1.000000   \n",
       "25%           6.037400e+13     -0.023866      0.011635      3.000000   \n",
       "50%           6.037621e+13      0.006333      0.012265      5.000000   \n",
       "75%           6.059042e+13      0.037694      0.013412      7.000000   \n",
       "max           4.830301e+14      3.394544      0.493647      9.000000   \n",
       "\n",
       "                age  \n",
       "count  40900.000000  \n",
       "mean      52.355330  \n",
       "std       23.100631  \n",
       "min        6.000000  \n",
       "25%       35.000000  \n",
       "50%       51.000000  \n",
       "75%       68.000000  \n",
       "max      144.000000  \n",
       "\n",
       "[8 rows x 21 columns]"
      ]
     },
     "execution_count": 10,
     "metadata": {},
     "output_type": "execute_result"
    }
   ],
   "source": [
    "zillow_scaled.describe()"
   ]
  },
  {
   "cell_type": "markdown",
   "id": "acc7b92d",
   "metadata": {},
   "source": [
    "## Question 1\n",
    "- Whether there has relationship between LogError and Age"
   ]
  },
  {
   "cell_type": "code",
   "execution_count": 11,
   "id": "57dd5148",
   "metadata": {},
   "outputs": [
    {
     "data": {
      "image/png": "[encoded data removed]",
      "text/plain": [
       "<Figure size 432x288 with 1 Axes>"
      ]
     },
     "metadata": {
      "needs_background": "light"
     },
     "output_type": "display_data"
    }
   ],
   "source": [
    "# plot age by logerror\n",
    "sns.scatterplot(x=zillow_train.age, y=zillow_train.logerror,hue=zillow_train.county)\n",
    "plt.xlabel(\"Age\")\n",
    "plt.ylabel(\"LogError\")\n",
    "plt.title(\"LogError and Age\")\n",
    "plt.show()"
   ]
  },
  {
   "cell_type": "markdown",
   "id": "d5726754",
   "metadata": {},
   "source": [
    "## Key Takeaway\n",
    "- The age and log error don't seem to have any significant relationship in county when they pass age 80.\n",
    "- Majority of them within 60 years built has significant log error with orange county\n",
    "- The next step exploration would be whether there are signicant relationship with the taxrate and logerror"
   ]
  },
  {
   "cell_type": "markdown",
   "id": "322d7f4f",
   "metadata": {},
   "source": [
    "## Question 2\n",
    "- Whether there has relationship between taxrate and logerror "
   ]
  },
  {
   "cell_type": "code",
   "execution_count": 12,
   "id": "364f48f4",
   "metadata": {},
   "outputs": [
    {
     "data": {
      "image/png": "[encoded data removed]",
      "text/plain": [
       "<Figure size 432x432 with 3 Axes>"
      ]
     },
     "metadata": {
      "needs_background": "light"
     },
     "output_type": "display_data"
    }
   ],
   "source": [
    "sns.jointplot(y=\"taxrate\", x=\"logerror\", data=zillow_train, hue = 'county')\n",
    "plt.xlabel(\"county\")\n",
    "plt.ylabel(\"Logerror\")\n",
    "plt.show()"
   ]
  },
  {
   "cell_type": "markdown",
   "id": "cf17ee0b",
   "metadata": {},
   "source": [
    "## Key Takeaway\n",
    "- The logerror has showing significant with orange county, which is like what happened to the age\n",
    "- The next step would be focusing on orange county to explore further for the reason of logerror"
   ]
  },
  {
   "cell_type": "raw",
   "id": "77689b7e",
   "metadata": {},
   "source": [
    "## Question 3\n",
    "- Hypothesis Test\n",
    "- H0=The logerror in orange county == logerror of other counties\n",
    "- Ha=The logerror in orange county >logerror of other counties"
   ]
  },
  {
   "cell_type": "code",
   "execution_count": 13,
   "id": "c16a3c16",
   "metadata": {},
   "outputs": [],
   "source": [
    "alpha = .05"
   ]
  },
  {
   "cell_type": "code",
   "execution_count": 14,
   "id": "9f871e14",
   "metadata": {},
   "outputs": [
    {
     "data": {
      "text/plain": [
       "Los Angeles County, CA    26607\n",
       "Orange County, CA         10942\n",
       "Ventura County, CA         3351\n",
       "Name: county, dtype: int64"
      ]
     },
     "execution_count": 14,
     "metadata": {},
     "output_type": "execute_result"
    }
   ],
   "source": [
    "zillow_train.county.value_counts()"
   ]
  },
  {
   "cell_type": "code",
   "execution_count": 15,
   "id": "dde637c0",
   "metadata": {},
   "outputs": [
    {
     "data": {
      "text/plain": [
       "(0.03473064585770023, 0.022918095340899433)"
      ]
     },
     "execution_count": 15,
     "metadata": {},
     "output_type": "execute_result"
    }
   ],
   "source": [
    "import scipy.stats as stats\n",
    "orange = zillow_train[zillow_train.county== 'Orange County, CA'].logerror\n",
    "other = zillow_train[zillow_train.county!='Orange County, CA'].logerror\n",
    "orange.var(), other.var()"
   ]
  },
  {
   "cell_type": "code",
   "execution_count": 16,
   "id": "22d86b3d",
   "metadata": {},
   "outputs": [
    {
     "name": "stdout",
     "output_type": "stream",
     "text": [
      "4.394877524380426 5.5763512045746256e-06 0.05\n"
     ]
    }
   ],
   "source": [
    "t, p = stats.ttest_ind(orange, other, equal_var=False)\n",
    "print(t, p/2, alpha)"
   ]
  },
  {
   "cell_type": "code",
   "execution_count": 17,
   "id": "fe9322fd",
   "metadata": {},
   "outputs": [
    {
     "name": "stdout",
     "output_type": "stream",
     "text": [
      "We reject H0 \n"
     ]
    }
   ],
   "source": [
    "if p/2 > alpha:\n",
    "    print(\"We fail to reject H0\")\n",
    "elif t < 0:\n",
    "    print(\"We fail to reject H0\")\n",
    "else:\n",
    "    print(\"We reject H0 \")"
   ]
  },
  {
   "cell_type": "markdown",
   "id": "3c27d893",
   "metadata": {},
   "source": [
    "## Key Takeaway\n",
    "- The orange county has significant different on the logerror compare to the other counties\n",
    "- The orange county has 59.9% variable higher than other countiers "
   ]
  },
  {
   "cell_type": "markdown",
   "id": "a243c460",
   "metadata": {},
   "source": [
    "## Question 4\n",
    "- Is there a significant different between logerror and the bathroom and bedroom counts "
   ]
  },
  {
   "cell_type": "code",
   "execution_count": 18,
   "id": "2eab6969",
   "metadata": {},
   "outputs": [
    {
     "name": "stdout",
     "output_type": "stream",
     "text": [
      "Is there a relationship\n",
      "between room count and logerror?\n"
     ]
    },
    {
     "data": {
      "image/png": "[encoded data removed]",
      "text/plain": [
       "<Figure size 432x432 with 3 Axes>"
      ]
     },
     "metadata": {
      "needs_background": "light"
     },
     "output_type": "display_data"
    }
   ],
   "source": [
    "#creating a joinplot to see if any linear relationship\n",
    "print(\"Is there a relationship\\nbetween room count and logerror?\")\n",
    "room=zillow_train['bathroom']+zillow_train['bedroom']\n",
    "sns.jointplot(x=room, y='logerror', data=zillow_train, hue = 'county')\n",
    "plt.xlabel(\"Room\")\n",
    "plt.ylabel(\"Logerror\")\n",
    "plt.show()"
   ]
  },
  {
   "cell_type": "code",
   "execution_count": 19,
   "id": "0682c750",
   "metadata": {},
   "outputs": [
    {
     "data": {
      "text/plain": [
       "Orange County, CA         38\n",
       "Los Angeles County, CA    22\n",
       "Ventura County, CA         4\n",
       "Name: county, dtype: int64"
      ]
     },
     "execution_count": 19,
     "metadata": {},
     "output_type": "execute_result"
    }
   ],
   "source": [
    "zillow_train[zillow_train.logerror>=1.5].county.value_counts()"
   ]
  },
  {
   "cell_type": "markdown",
   "id": "3430b82d",
   "metadata": {},
   "source": [
    "## Key Takeaway\n",
    "- The orange county has significant higher logerror\n",
    "- The orange county has higher logerror with room count between 3-8\n",
    "- The logerror plays significant role on logerror\n",
    "- Would recommend doing the prediction seperately with orange county to be one and rest of the county to be the other one"
   ]
  },
  {
   "cell_type": "markdown",
   "id": "81acbb04",
   "metadata": {},
   "source": [
    "## Question 5\n",
    "- Can we achieve lower logerror when seperate orange county out of overall "
   ]
  },
  {
   "cell_type": "code",
   "execution_count": 20,
   "id": "3fe5444d",
   "metadata": {},
   "outputs": [
    {
     "data": {
      "text/plain": [
       "<AxesSubplot:xlabel='county'>"
      ]
     },
     "execution_count": 20,
     "metadata": {},
     "output_type": "execute_result"
    },
    {
     "data": {
      "image/png": "[encoded data removed]",
      "text/plain": [
       "<Figure size 432x288 with 1 Axes>"
      ]
     },
     "metadata": {
      "needs_background": "light"
     },
     "output_type": "display_data"
    }
   ],
   "source": [
    "zillow_train.groupby('county').logerror.mean().plot.bar()"
   ]
  },
  {
   "cell_type": "code",
   "execution_count": 21,
   "id": "3d333775",
   "metadata": {},
   "outputs": [],
   "source": [
    "zillow_train['county1']=zillow_train['county'].replace(['Los Angeles County, CA', 'Ventura County, CA'], 'Other')"
   ]
  },
  {
   "cell_type": "code",
   "execution_count": 22,
   "id": "a47e7a2c",
   "metadata": {},
   "outputs": [
    {
     "ename": "NameError",
     "evalue": "name 'nroom' is not defined",
     "output_type": "error",
     "traceback": [
      "\u001b[0;31m---------------------------------------------------------------------------\u001b[0m",
      "\u001b[0;31mNameError\u001b[0m                                 Traceback (most recent call last)",
      "Input \u001b[0;32mIn [22]\u001b[0m, in \u001b[0;36m<cell line: 1>\u001b[0;34m()\u001b[0m\n\u001b[0;32m----> 1\u001b[0m sns\u001b[38;5;241m.\u001b[39mscatterplot(x\u001b[38;5;241m=\u001b[39m\u001b[43mnroom\u001b[49m, y\u001b[38;5;241m=\u001b[39m\u001b[38;5;124m'\u001b[39m\u001b[38;5;124mlogerror\u001b[39m\u001b[38;5;124m'\u001b[39m, data\u001b[38;5;241m=\u001b[39mzillow_train, hue\u001b[38;5;241m=\u001b[39m\u001b[38;5;124m'\u001b[39m\u001b[38;5;124mcounty1\u001b[39m\u001b[38;5;124m'\u001b[39m)\n\u001b[1;32m      2\u001b[0m plt\u001b[38;5;241m.\u001b[39mxlabel(\u001b[38;5;124m\"\u001b[39m\u001b[38;5;124mRoom\u001b[39m\u001b[38;5;124m\"\u001b[39m)\n\u001b[1;32m      3\u001b[0m plt\u001b[38;5;241m.\u001b[39mylabel(\u001b[38;5;124m\"\u001b[39m\u001b[38;5;124mLogerror\u001b[39m\u001b[38;5;124m\"\u001b[39m)\n",
      "\u001b[0;31mNameError\u001b[0m: name 'nroom' is not defined"
     ]
    }
   ],
   "source": [
    "sns.scatterplot(x=nroom, y='logerror', data=zillow_train, hue='county1')\n",
    "plt.xlabel(\"Room\")\n",
    "plt.ylabel(\"Logerror\")\n",
    "plt.show()"
   ]
  },
  {
   "cell_type": "code",
   "execution_count": 23,
   "id": "da480f02",
   "metadata": {},
   "outputs": [
    {
     "data": {
      "text/plain": [
       "0.0023335510256327994"
      ]
     },
     "execution_count": 23,
     "metadata": {},
     "output_type": "execute_result"
    }
   ],
   "source": [
    "zillow_train.logerror.mean()-zillow_train[zillow_train.county1=='Other'].logerror.mean()"
   ]
  },
  {
   "cell_type": "markdown",
   "id": "8aa1ccbe",
   "metadata": {},
   "source": [
    "## Key Takeaway\n",
    "- If we remove the orange county, the logerror doesn't have significant change\n",
    "- The modeling would not remove the orange county"
   ]
  },
  {
   "cell_type": "code",
   "execution_count": null,
   "id": "8949aad6",
   "metadata": {},
   "outputs": [],
   "source": []
  }
 ],
 "metadata": {
  "kernelspec": {
   "display_name": "Python 3 (ipykernel)",
   "language": "python",
   "name": "python3"
  },
  "language_info": {
   "codemirror_mode": {
    "name": "ipython",
    "version": 3
   },
   "file_extension": ".py",
   "mimetype": "text/x-python",
   "name": "python",
   "nbconvert_exporter": "python",
   "pygments_lexer": "ipython3",
   "version": "3.9.12"
  }
 },
 "nbformat": 4,
 "nbformat_minor": 5
}
