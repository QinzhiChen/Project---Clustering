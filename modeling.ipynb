{
 "cells": [
  {
   "cell_type": "code",
   "execution_count": 1,
<<<<<<< HEAD
   "id": "a7071463",
=======
   "id": "cc951e81",
>>>>>>> a7a4624d075a64a802eefe49cbe9b3f120bfdaa7
   "metadata": {},
   "outputs": [],
   "source": [
    "import wrangle\n",
    "\n",
    "import warnings\n",
    "warnings.filterwarnings(\"ignore\")\n",
    "from sklearn.model_selection import train_test_split\n",
    "from sklearn.impute import SimpleImputer\n",
    "from sklearn.preprocessing import MinMaxScaler, StandardScaler, RobustScaler, QuantileTransformer\n",
    "from env import user, password, host\n",
    "import env\n",
    "from sklearn.feature_selection import SelectKBest, f_regression, RFE\n",
    "from sklearn.linear_model import LinearRegression,LassoLars, TweedieRegressor\n",
    "from sklearn.preprocessing import PolynomialFeatures\n",
    "from sklearn.metrics import mean_squared_error,explained_variance_score\n",
    "import pandas as pd\n",
    "import matplotlib.pyplot as plt\n",
    "import seaborn as sns\n",
    "import numpy as np\n",
    "import os\n",
    "import csv\n",
    "#import acquire\n",
    "import modeling\n",
    "from sklearn.metrics import mean_squared_error\n",
<<<<<<< HEAD
    "from sklearn.metrics import r2_score"
=======
    "from sklearn.metrics import r2_score\n",
    "from sklearn.preprocessing import PolynomialFeatures"
>>>>>>> a7a4624d075a64a802eefe49cbe9b3f120bfdaa7
   ]
  },
  {
   "cell_type": "code",
   "execution_count": 2,
<<<<<<< HEAD
   "id": "70a35a21",
=======
   "id": "6b3c7f02",
>>>>>>> a7a4624d075a64a802eefe49cbe9b3f120bfdaa7
   "metadata": {},
   "outputs": [],
   "source": [
    "zillow_train,zillow_validate,zillow_test=wrangle.wrangled_file()"
   ]
  },
  {
   "cell_type": "code",
   "execution_count": 3,
<<<<<<< HEAD
   "id": "54a7025c",
=======
   "id": "bebbb74b",
>>>>>>> a7a4624d075a64a802eefe49cbe9b3f120bfdaa7
   "metadata": {},
   "outputs": [
    {
     "data": {
      "text/plain": [
<<<<<<< HEAD
       "((42993, 30), (18426, 30), (15355, 30))"
=======
       "((40900, 26), (17508, 26), (14596, 26))"
>>>>>>> a7a4624d075a64a802eefe49cbe9b3f120bfdaa7
      ]
     },
     "execution_count": 3,
     "metadata": {},
     "output_type": "execute_result"
    }
   ],
   "source": [
    "zillow_train.shape,zillow_validate.shape,zillow_test.shape"
   ]
  },
  {
   "cell_type": "code",
   "execution_count": 4,
<<<<<<< HEAD
   "id": "ed8b1f1b",
=======
   "id": "3fceeb1d",
>>>>>>> a7a4624d075a64a802eefe49cbe9b3f120bfdaa7
   "metadata": {},
   "outputs": [],
   "source": [
    "#use function to scale features and concat them back to dataframe\n",
<<<<<<< HEAD
    "scaled_train,scaled_validate,scaled_test = modeling.scale_data(zillow_train,zillow_validate,zillow_test,cols=['longitude','latitude','bedroom','bathroom','age','month','taxrate'])"
=======
    "scaled_train,scaled_validate,scaled_test = modeling.scale_data(zillow_train,zillow_validate,zillow_test,cols=['bedroom','bathroom','age','month','taxrate'])"
>>>>>>> a7a4624d075a64a802eefe49cbe9b3f120bfdaa7
   ]
  },
  {
   "cell_type": "code",
   "execution_count": 5,
<<<<<<< HEAD
   "id": "96bceb75",
=======
   "id": "98fa3b18",
>>>>>>> a7a4624d075a64a802eefe49cbe9b3f120bfdaa7
   "metadata": {},
   "outputs": [
    {
     "data": {
      "text/html": [
       "<div>\n",
       "<style scoped>\n",
       "    .dataframe tbody tr th:only-of-type {\n",
       "        vertical-align: middle;\n",
       "    }\n",
       "\n",
       "    .dataframe tbody tr th {\n",
       "        vertical-align: top;\n",
       "    }\n",
       "\n",
       "    .dataframe thead th {\n",
       "        text-align: right;\n",
       "    }\n",
       "</style>\n",
       "<table border=\"1\" class=\"dataframe\">\n",
       "  <thead>\n",
       "    <tr style=\"text-align: right;\">\n",
       "      <th></th>\n",
       "      <th>bathroom</th>\n",
       "      <th>bedroom</th>\n",
       "      <th>calculatedbathnbr</th>\n",
       "      <th>sqtft</th>\n",
       "      <th>finishedsquarefeet12</th>\n",
       "      <th>fips</th>\n",
       "      <th>fullbathcnt</th>\n",
       "      <th>latitude</th>\n",
       "      <th>longitude</th>\n",
<<<<<<< HEAD
       "      <th>lots</th>\n",
       "      <th>...</th>\n",
       "      <th>taxrate</th>\n",
       "      <th>month</th>\n",
       "      <th>age</th>\n",
       "      <th>longitude_scaled</th>\n",
       "      <th>latitude_scaled</th>\n",
=======
       "      <th>propertycountylandusecode</th>\n",
       "      <th>...</th>\n",
       "      <th>propertylandusedesc</th>\n",
       "      <th>county</th>\n",
       "      <th>taxrate</th>\n",
       "      <th>month</th>\n",
       "      <th>age</th>\n",
>>>>>>> a7a4624d075a64a802eefe49cbe9b3f120bfdaa7
       "      <th>bedroom_scaled</th>\n",
       "      <th>bathroom_scaled</th>\n",
       "      <th>age_scaled</th>\n",
       "      <th>month_scaled</th>\n",
       "      <th>taxrate_scaled</th>\n",
       "    </tr>\n",
       "  </thead>\n",
       "  <tbody>\n",
       "    <tr>\n",
       "      <th>0</th>\n",
       "      <td>3.0</td>\n",
       "      <td>3.0</td>\n",
       "      <td>3.0</td>\n",
       "      <td>1882.0</td>\n",
       "      <td>1882.0</td>\n",
       "      <td>6037.0</td>\n",
       "      <td>3.0</td>\n",
       "      <td>33890566.0</td>\n",
       "      <td>-118154278.0</td>\n",
<<<<<<< HEAD
       "      <td>15090.0</td>\n",
       "      <td>...</td>\n",
       "      <td>0.013491</td>\n",
       "      <td>5</td>\n",
       "      <td>30.0</td>\n",
       "      <td>0.687813</td>\n",
       "      <td>0.372515</td>\n",
       "      <td>0.214286</td>\n",
       "      <td>0.166667</td>\n",
       "      <td>0.16</td>\n",
       "      <td>0.5</td>\n",
       "      <td>0.01641</td>\n",
       "    </tr>\n",
       "  </tbody>\n",
       "</table>\n",
       "<p>1 rows × 37 columns</p>\n",
       "</div>"
      ],
      "text/plain": [
       "  bathroom bedroom calculatedbathnbr   sqtft finishedsquarefeet12    fips  \\\n",
       "0      3.0     3.0               3.0  1882.0               1882.0  6037.0   \n",
       "\n",
       "  fullbathcnt    latitude    longitude     lots  ...   taxrate month   age  \\\n",
       "0         3.0  33890566.0 -118154278.0  15090.0  ...  0.013491     5  30.0   \n",
       "\n",
       "  longitude_scaled latitude_scaled bedroom_scaled bathroom_scaled age_scaled  \\\n",
       "0         0.687813        0.372515       0.214286        0.166667       0.16   \n",
       "\n",
       "  month_scaled taxrate_scaled  \n",
       "0          0.5        0.01641  \n",
       "\n",
       "[1 rows x 37 columns]"
=======
       "      <td>010C</td>\n",
       "      <td>...</td>\n",
       "      <td>Condominium</td>\n",
       "      <td>Los Angeles County, CA</td>\n",
       "      <td>0.013491</td>\n",
       "      <td>5</td>\n",
       "      <td>30.0</td>\n",
       "      <td>0.0</td>\n",
       "      <td>1.0</td>\n",
       "      <td>-0.636364</td>\n",
       "      <td>0.0</td>\n",
       "      <td>0.689685</td>\n",
       "    </tr>\n",
       "  </tbody>\n",
       "</table>\n",
       "<p>1 rows × 31 columns</p>\n",
       "</div>"
      ],
      "text/plain": [
       "   bathroom  bedroom  calculatedbathnbr   sqtft  finishedsquarefeet12    fips  \\\n",
       "0       3.0      3.0                3.0  1882.0                1882.0  6037.0   \n",
       "\n",
       "   fullbathcnt    latitude    longitude propertycountylandusecode  ...  \\\n",
       "0          3.0  33890566.0 -118154278.0                      010C  ...   \n",
       "\n",
       "   propertylandusedesc                  county   taxrate  month   age  \\\n",
       "0          Condominium  Los Angeles County, CA  0.013491      5  30.0   \n",
       "\n",
       "   bedroom_scaled  bathroom_scaled  age_scaled  month_scaled  taxrate_scaled  \n",
       "0             0.0              1.0   -0.636364           0.0        0.689685  \n",
       "\n",
       "[1 rows x 31 columns]"
>>>>>>> a7a4624d075a64a802eefe49cbe9b3f120bfdaa7
      ]
     },
     "execution_count": 5,
     "metadata": {},
     "output_type": "execute_result"
    }
   ],
   "source": [
    "scaled_train.head(1)"
   ]
  },
  {
   "cell_type": "code",
   "execution_count": 6,
<<<<<<< HEAD
   "id": "2f8e841a",
=======
   "id": "c059eef1",
>>>>>>> a7a4624d075a64a802eefe49cbe9b3f120bfdaa7
   "metadata": {},
   "outputs": [
    {
     "data": {
      "text/plain": [
       "Index(['bathroom', 'bedroom', 'calculatedbathnbr', 'sqtft',\n",
       "       'finishedsquarefeet12', 'fips', 'fullbathcnt', 'latitude', 'longitude',\n",
<<<<<<< HEAD
       "       'lots', 'propertycountylandusecode', 'propertyzoningdesc',\n",
       "       'rawcensustractandblock', 'zipcode', 'roomcnt', 'unitcnt', 'yearbuilt',\n",
       "       'structuretaxvaluedollarcnt', 'taxvalue', 'assessmentyear',\n",
       "       'landtaxvaluedollarcnt', 'taxamount', 'censustractandblock', 'logerror',\n",
       "       'heatingorsystemdesc', 'propertylandusedesc', 'county', 'taxrate',\n",
       "       'month', 'age', 'longitude_scaled', 'latitude_scaled', 'bedroom_scaled',\n",
       "       'bathroom_scaled', 'age_scaled', 'month_scaled', 'taxrate_scaled'],\n",
=======
       "       'propertycountylandusecode', 'rawcensustractandblock', 'zipcode',\n",
       "       'roomcnt', 'yearbuilt', 'structuretaxvaluedollarcnt', 'taxvalue',\n",
       "       'assessmentyear', 'landtaxvaluedollarcnt', 'taxamount',\n",
       "       'censustractandblock', 'logerror', 'propertylandusedesc', 'county',\n",
       "       'taxrate', 'month', 'age', 'bedroom_scaled', 'bathroom_scaled',\n",
       "       'age_scaled', 'month_scaled', 'taxrate_scaled'],\n",
>>>>>>> a7a4624d075a64a802eefe49cbe9b3f120bfdaa7
       "      dtype='object')"
      ]
     },
     "execution_count": 6,
     "metadata": {},
     "output_type": "execute_result"
    }
   ],
   "source": [
    "scaled_train.columns"
   ]
  },
  {
   "cell_type": "code",
<<<<<<< HEAD
   "execution_count": 7,
   "id": "0052a333",
   "metadata": {},
   "outputs": [],
   "source": [
    "features = ['bedroom_scaled', 'bathroom_scaled', 'age_scaled','month_scaled', 'taxrate']\n",
=======
   "execution_count": null,
   "id": "fd1cb453",
   "metadata": {},
   "outputs": [],
   "source": []
  },
  {
   "cell_type": "code",
   "execution_count": 8,
   "id": "16525a3d",
   "metadata": {},
   "outputs": [],
   "source": [
    "features = ['bathroom', 'bedroom', 'calculatedbathnbr', 'sqtft',\n",
    "       'finishedsquarefeet12', 'fips', 'fullbathcnt', 'latitude', 'longitude',\n",
    "       'propertycountylandusecode', 'rawcensustractandblock', 'zipcode',\n",
    "       'roomcnt', 'yearbuilt', 'structuretaxvaluedollarcnt', 'taxvalue',\n",
    "       'assessmentyear', 'landtaxvaluedollarcnt', 'taxamount',\n",
    "       'censustractandblock', 'logerror', 'propertylandusedesc', 'county',\n",
    "       'taxrate', 'month', 'age']\n",
>>>>>>> a7a4624d075a64a802eefe49cbe9b3f120bfdaa7
    "target = [\"logerror\"]\n",
    "X_train = scaled_train[features]\n",
    "y_train = scaled_train[target]\n",
    "X_validate = scaled_validate[features]\n",
    "y_validate = scaled_validate[target]\n",
    "X_test = scaled_test[features]\n",
    "y_test = scaled_test[target]"
   ]
  },
  {
   "cell_type": "code",
<<<<<<< HEAD
   "execution_count": 8,
   "id": "930aa90b",
=======
   "execution_count": 9,
   "id": "3a147dab",
>>>>>>> a7a4624d075a64a802eefe49cbe9b3f120bfdaa7
   "metadata": {},
   "outputs": [
    {
     "data": {
      "text/html": [
       "<div>\n",
       "<style scoped>\n",
       "    .dataframe tbody tr th:only-of-type {\n",
       "        vertical-align: middle;\n",
       "    }\n",
       "\n",
       "    .dataframe tbody tr th {\n",
       "        vertical-align: top;\n",
       "    }\n",
       "\n",
       "    .dataframe thead th {\n",
       "        text-align: right;\n",
       "    }\n",
       "</style>\n",
       "<table border=\"1\" class=\"dataframe\">\n",
       "  <thead>\n",
       "    <tr style=\"text-align: right;\">\n",
       "      <th></th>\n",
<<<<<<< HEAD
       "      <th>bedroom_scaled</th>\n",
       "      <th>bathroom_scaled</th>\n",
       "      <th>age_scaled</th>\n",
       "      <th>month_scaled</th>\n",
       "      <th>taxrate</th>\n",
=======
       "      <th>bathroom</th>\n",
       "      <th>bedroom</th>\n",
       "      <th>calculatedbathnbr</th>\n",
       "      <th>sqtft</th>\n",
       "      <th>finishedsquarefeet12</th>\n",
       "      <th>fips</th>\n",
       "      <th>fullbathcnt</th>\n",
       "      <th>latitude</th>\n",
       "      <th>longitude</th>\n",
       "      <th>propertycountylandusecode</th>\n",
       "      <th>...</th>\n",
       "      <th>assessmentyear</th>\n",
       "      <th>landtaxvaluedollarcnt</th>\n",
       "      <th>taxamount</th>\n",
       "      <th>censustractandblock</th>\n",
       "      <th>logerror</th>\n",
       "      <th>propertylandusedesc</th>\n",
       "      <th>county</th>\n",
       "      <th>taxrate</th>\n",
       "      <th>month</th>\n",
       "      <th>age</th>\n",
>>>>>>> a7a4624d075a64a802eefe49cbe9b3f120bfdaa7
       "    </tr>\n",
       "  </thead>\n",
       "  <tbody>\n",
       "    <tr>\n",
       "      <th>0</th>\n",
<<<<<<< HEAD
       "      <td>0.214286</td>\n",
       "      <td>0.166667</td>\n",
       "      <td>0.16</td>\n",
       "      <td>0.5</td>\n",
       "      <td>0.013491</td>\n",
       "    </tr>\n",
       "  </tbody>\n",
       "</table>\n",
       "</div>"
      ],
      "text/plain": [
       "   bedroom_scaled  bathroom_scaled  age_scaled  month_scaled   taxrate\n",
       "0        0.214286         0.166667        0.16           0.5  0.013491"
      ]
     },
     "execution_count": 8,
=======
       "      <td>3.0</td>\n",
       "      <td>3.0</td>\n",
       "      <td>3.0</td>\n",
       "      <td>1882.0</td>\n",
       "      <td>1882.0</td>\n",
       "      <td>6037.0</td>\n",
       "      <td>3.0</td>\n",
       "      <td>33890566.0</td>\n",
       "      <td>-118154278.0</td>\n",
       "      <td>010C</td>\n",
       "      <td>...</td>\n",
       "      <td>2016.0</td>\n",
       "      <td>37447.0</td>\n",
       "      <td>2526.0</td>\n",
       "      <td>6.037554e+13</td>\n",
       "      <td>0.112968</td>\n",
       "      <td>Condominium</td>\n",
       "      <td>Los Angeles County, CA</td>\n",
       "      <td>0.013491</td>\n",
       "      <td>5</td>\n",
       "      <td>30.0</td>\n",
       "    </tr>\n",
       "  </tbody>\n",
       "</table>\n",
       "<p>1 rows × 26 columns</p>\n",
       "</div>"
      ],
      "text/plain": [
       "   bathroom  bedroom  calculatedbathnbr   sqtft  finishedsquarefeet12    fips  \\\n",
       "0       3.0      3.0                3.0  1882.0                1882.0  6037.0   \n",
       "\n",
       "   fullbathcnt    latitude    longitude propertycountylandusecode  ...  \\\n",
       "0          3.0  33890566.0 -118154278.0                      010C  ...   \n",
       "\n",
       "   assessmentyear landtaxvaluedollarcnt  taxamount  censustractandblock  \\\n",
       "0          2016.0               37447.0     2526.0         6.037554e+13   \n",
       "\n",
       "   logerror  propertylandusedesc                  county   taxrate  month  \\\n",
       "0  0.112968          Condominium  Los Angeles County, CA  0.013491      5   \n",
       "\n",
       "    age  \n",
       "0  30.0  \n",
       "\n",
       "[1 rows x 26 columns]"
      ]
     },
     "execution_count": 9,
>>>>>>> a7a4624d075a64a802eefe49cbe9b3f120bfdaa7
     "metadata": {},
     "output_type": "execute_result"
    }
   ],
   "source": [
    "X_train.head(1)"
   ]
  },
  {
   "cell_type": "code",
<<<<<<< HEAD
   "execution_count": 9,
   "id": "770dc991",
=======
   "execution_count": 10,
   "id": "376607c9",
>>>>>>> a7a4624d075a64a802eefe49cbe9b3f120bfdaa7
   "metadata": {},
   "outputs": [
    {
     "data": {
      "text/html": [
       "<div>\n",
       "<style scoped>\n",
       "    .dataframe tbody tr th:only-of-type {\n",
       "        vertical-align: middle;\n",
       "    }\n",
       "\n",
       "    .dataframe tbody tr th {\n",
       "        vertical-align: top;\n",
       "    }\n",
       "\n",
       "    .dataframe thead th {\n",
       "        text-align: right;\n",
       "    }\n",
       "</style>\n",
       "<table border=\"1\" class=\"dataframe\">\n",
       "  <thead>\n",
       "    <tr style=\"text-align: right;\">\n",
       "      <th></th>\n",
       "      <th>logerror</th>\n",
       "    </tr>\n",
       "  </thead>\n",
       "  <tbody>\n",
       "    <tr>\n",
       "      <th>0</th>\n",
       "      <td>0.112968</td>\n",
       "    </tr>\n",
       "  </tbody>\n",
       "</table>\n",
       "</div>"
      ],
      "text/plain": [
       "   logerror\n",
       "0  0.112968"
      ]
     },
<<<<<<< HEAD
     "execution_count": 9,
=======
     "execution_count": 10,
>>>>>>> a7a4624d075a64a802eefe49cbe9b3f120bfdaa7
     "metadata": {},
     "output_type": "execute_result"
    }
   ],
   "source": [
    "y_train.head(1)"
   ]
  },
  {
   "cell_type": "code",
<<<<<<< HEAD
   "execution_count": 10,
   "id": "2f54b8ff",
=======
   "execution_count": 11,
   "id": "e806ca0e",
>>>>>>> a7a4624d075a64a802eefe49cbe9b3f120bfdaa7
   "metadata": {},
   "outputs": [],
   "source": [
    "#apply baseline value to train and validate\n",
    "y_train[\"baseline_mean\"] = y_train.logerror.mean()\n",
    "y_train[\"baseline_median\"] =y_train.logerror.median()\n",
    "y_validate[\"baseline_mean\"] = y_validate.logerror.mean()\n",
    "y_validate[\"baseline_median\"] =y_validate.logerror.median()"
   ]
  },
  {
   "cell_type": "code",
<<<<<<< HEAD
   "execution_count": 11,
   "id": "5cd5ad19",
=======
   "execution_count": 12,
   "id": "7de15434",
>>>>>>> a7a4624d075a64a802eefe49cbe9b3f120bfdaa7
   "metadata": {},
   "outputs": [],
   "source": [
    "\n",
    "#calculate rmse using actual and baseline mean\n",
    "def get_baseline(y_train,y_validate):\n",
    "    RMSE_train_mean=mean_squared_error(y_train.logerror,y_train.baseline_mean, squared = False)\n",
    "    RMSE_validate_mean=mean_squared_error(y_validate.logerror,y_validate.baseline_mean, squared = False)\n",
    "\n",
    "    print(\"RMSE using Mean on \\nTrain: \", round(RMSE_train_mean,8), \"\\nValidate: \", round(RMSE_validate_mean,8))\n",
    "    print()\n",
    "\n",
    "#calculate rmse using actual and baseline mean\n",
    "    RMSE_train_median= mean_squared_error(y_train.logerror,y_train.baseline_median, squared = False)\n",
    "    RMSE_validate_median= mean_squared_error(y_validate.logerror,y_validate.baseline_median, squared = False)\n",
    "\n",
    "    print(\"RMSE using Median on \\nTrain: \", round(RMSE_train_median,8), \"\\nValidate: \", round(RMSE_validate_median,8))\n"
   ]
  },
  {
   "cell_type": "code",
<<<<<<< HEAD
   "execution_count": 12,
   "id": "44295cbc",
=======
   "execution_count": 13,
   "id": "77e4bf1e",
>>>>>>> a7a4624d075a64a802eefe49cbe9b3f120bfdaa7
   "metadata": {},
   "outputs": [
    {
     "name": "stdout",
     "output_type": "stream",
     "text": [
      "RMSE using Mean on \n",
<<<<<<< HEAD
      "Train:  0.16577148 \n",
      "Validate:  0.17664516\n",
      "\n",
      "RMSE using Median on \n",
      "Train:  0.16603937 \n",
      "Validate:  0.17702764\n"
=======
      "Train:  0.1615296 \n",
      "Validate:  0.16950059\n",
      "\n",
      "RMSE using Median on \n",
      "Train:  0.16179988 \n",
      "Validate:  0.16987772\n"
>>>>>>> a7a4624d075a64a802eefe49cbe9b3f120bfdaa7
     ]
    }
   ],
   "source": [
    "get_baseline(y_train,y_validate)"
   ]
  },
  {
   "cell_type": "markdown",
<<<<<<< HEAD
   "id": "6d2b0059",
=======
   "id": "16af0dd0",
>>>>>>> a7a4624d075a64a802eefe49cbe9b3f120bfdaa7
   "metadata": {},
   "source": [
    "    since rmse using mean is smaller, we use mean for baseline rmse"
   ]
  },
  {
   "cell_type": "code",
<<<<<<< HEAD
   "execution_count": 13,
   "id": "e638396f",
=======
   "execution_count": 14,
   "id": "309e7588",
>>>>>>> a7a4624d075a64a802eefe49cbe9b3f120bfdaa7
   "metadata": {},
   "outputs": [
    {
     "data": {
<<<<<<< HEAD
      "image/png": "iVBORw0KGgoAAAANSUhEUgAAAYsAAAEWCAYAAACXGLsWAAAAOXRFWHRTb2Z0d2FyZQBNYXRwbG90bGliIHZlcnNpb24zLjUuMSwgaHR0cHM6Ly9tYXRwbG90bGliLm9yZy/YYfK9AAAACXBIWXMAAAsTAAALEwEAmpwYAAAgQUlEQVR4nO3de5xddX3u8c+ThJsiCmVATIKJNV4C9RopXtpiYwWrAm1FQhFSgeZo0WrVKhFbbG16aG3VogInBSQgQuPtgFQsAQXkCISAIgSM5AiScEvQF5WLSZjZT/9Yv4GdYU/WzGT23nN53q/XvGav37p9Zyezn1nrt9ZvyTYRERHbMqXbBURExNiXsIiIiFoJi4iIqJWwiIiIWgmLiIiolbCIiIhaCYsYMySdKelvRmlb+0p6VNLUMn2VpBNGY9tle5dJWjha2xvGfv9B0kOSHmgx7yBJ6ztdU0wO07pdQEwOku4G9gZ6gT7gduA8YKntBoDt9wxjWyfYvmKwZWzfA+y6fVU/ub9PAi+0/a6m7b9lNLY9zDpmAh8Gnm97Q6f3H5Nbjiyik95u+1nA84FTgY8BZ4/2TiRN1D+Cng/8YqwFRf/RW9P0sN7/CfzvNaEkLKLjbP+37UuAI4GFkvYHkHSupH8or/eUdKmkhyX9UtL3JU2RdD6wL/Ctcprpo5JmSbKk4yXdA3y3qa35g+g3Ja2U9N+SLpa0R9nX007fSLpb0pskHQJ8HDiy7O+WMv/J01qlrk9I+rmkDZLOk/TsMq+/joWS7imnkE4e7L2R9Oyy/sayvU+U7b8JWAE8r9Rxbt37LOmlpc6HJa2WdGjTvN+Q9C1Jv5J0Yzm9dW3T/JdIWlHe+zWS3tk071xJZ0j6tqTHgDeW9+tjkn4MPCZpmqRDy34fLnW8dMD7u9XydT9PdFfCIrrG9kpgPfA7LWZ/uMzroTp99fFqFR8D3EN1lLKr7X9uWuf3gJcCBw+yy2OB44DnUZ0OO20INX4H+EfgP8r+Xt5isT8rX28EXkB1+usLA5Z5A/BiYD7wt80fnAN8Hnh22c7vlZrfXU65vQW4r9TxZ9uqW9IOwLeAy4G9gPcDF0h6cVnki8BjwHOBheWrf91nUgXTV8q6RwGnS9qvaRd/CiwBngX0h8xRwFuB55T6LwQ+SPVv+G2qgN+xaRtPLm+7d1s/T3RfwiK67T5gjxbtTwD7UJ2ff8L2910/kNknbT9m+9eDzD/f9m22HwP+BnjnwFMoI3Q08BnbP7P9KLAYWDDgr+W/s/1r27cAtwBPC51Sy5HAYtuP2L4b+FfgmBHUdCBVaJ1qe4vt7wKXAkeV/fwJcIrtx23fDixrWvdtwN22v2S71/bNwNeBdzQtc7Ht/2e7YXtTaTvN9rry/h8J/KftFbafAP4F2AV4XdM2mpePMS5hEd02Hfhli/ZPA2uByyX9TNJJQ9jWumHM/zmwA7DnkKrctueV7TVvexrVEVG/5quXHqd15/uewI4ttjV9hDWt6794YMC2ekp9ze9H8+vnA79dTh89LOlhqkB87iDLt2rb6j0pdaxj65+l7t8rxpCERXSNpNdQfXhcO3Be+cv6w7ZfALwd+JCk+f2zB9lk3ZHHzKbX+1IdvTxEdTrmGU11TaX6QB3qdu+j+oBt3nYv8GDNegM9VGoauK17h7md/ppmSmr+He/f1sZS34ymec3vzTrgatvPafra1fZ7m5Zp9Z40t231nkhS2ce9gywfY1zCIjpO0m6S3gZcBHzZ9q0tlnmbpBeWD5lfUV1u21dmP0h1Tny43iVprqRnAH8PfM12H/BTYGdJby3n+j8B7NS03oPArAEfvM0uBP5K0mxJu/JUH8ewzsOXWpYDSyQ9S9LzgQ8BXx7OdoobqELwo5J2kHQQVeheVPbzDeCTkp4h6SVUfSP9LgVeJOmYsu4Okl6zjX6WVpYDb5U0v7ynHwY2Az8Ywc8SY0DCIjrpW5IeofrL9WTgM8C7B1l2DnAF8ChwHXC67avKvP8NfKKcIvnIMPZ/PnAu1SmhnYG/hOrqLOAvgLOo/vJ9jKpzvd9Xy/dfSLq5xXbPKdu+BrgL2ETVoTwS7y/7/xnVEddXyvaHxfYW4FCqTvGHgNOBY23/pCzyPqqO9AdK7RdSfZhj+xHgzcACqiOEB4B/YusArdv/GuBdVB32D1EF1dtLXTEOKQ8/ighJ/wQ813bH70qP8SFHFhGTULmP4mWqHAAcD3yz23XF2NW2sJB0TrlB6bYB7e8vN/mslvTPTe2LJa0t8w5uan+1pFvLvNPKOeyI2D7Pouq3eIyqf+FfgYu7WlGMaW07DSXpd6nON59nu/8O3TdSnat+q+3NkvayvUHSXKpzpgdQXXJ3BfAi232SVgIfAK6nurHnNNuXtaXoiIhoqW1HFrav4enXz7+X6iah/o60/jFuDqO6SmOz7buorq8/QNI+wG62rys3ZJ0HHN6umiMiorVOj8fyIuB3JC2humLkI7ZvpLrW/vqm5daXtifY+qqU/vaWJC0CFgE885nPfPVLXvKS0a0+ImKCu+mmmx6y3TOwvdNhMQ3YnWoogtcAyyW9AGjVD+FttLdkeymwFGDevHletWrVdhccETGZSPp5q/ZOXw21HviGKyuBBtUQB+vZ+g7SGVTXd69n67tM+9sjIqKDOh0W/xf4fQBJL6IaB+ch4BKqgdd2kjSb6oaslbbvBx6RdGC5CupYcsVGRETHte00lKQLgYOAPVU9K+AUqjtRzymX024BFpaO69WSllM9Pa0XOLEMSQBVp/i5VCNWXla+IiKigybsHdzps4iIGD5JN9meN7A9d3BHRESthEVERNRKWERERK2ERURE1EpYRERErYRFxATS29tLb++wHtAXMSQJi4iIqNXpsaEioo0ajUa3S4gJKkcWERFRK2ERERG1EhYREVErYREREbUSFhERUSthERERtXLpbMQEkktno11yZBEREbUSFhERUSthERERtdoWFpLOkbShPG974LyPSLKkPZvaFktaK2mNpIOb2l8t6dYy7zRJalfNERHRWjuPLM4FDhnYKGkm8AfAPU1tc4EFwH5lndMlTS2zzwAWAXPK19O2GRER7dW2sLB9DfDLFrM+C3wUcFPbYcBFtjfbvgtYCxwgaR9gN9vX2TZwHnB4u2qOGO9s02g0qH5dIkZPR/ssJB0K3Gv7lgGzpgPrmqbXl7bp5fXA9ohowTbHnrMyYRGjrmP3WUh6BnAy8OZWs1u0eRvtg+1jEdUpK/bdd98RVBkxAaRbL9qgk0cWvwnMBm6RdDcwA7hZ0nOpjhhmNi07A7ivtM9o0d6S7aW259me19PTM8rlR0RMXh0LC9u32t7L9izbs6iC4FW2HwAuARZI2knSbKqO7JW27wcekXRguQrqWODiTtUcERGVdl46eyFwHfBiSeslHT/YsrZXA8uB24HvACfa7iuz3wucRdXp/f+By9pVc0REtNa2PgvbR9XMnzVgegmwpMVyq4D9R7W4iIgYltzBHRERtRIWERFRK2ERMYE0Go1tXFweMXIJi4iIqJWwiIiIWgmLiIiolbCIiIhaCYuIiKiVsIiIiFoJi4iIqJWwiIiIWgmLiIiolbCImGAavb309vZ2u4yYYBIWERFRK2ERERG1EhYRE4RtGo1GxhGMtkhYREwQtjnmzGvJsLPRDgmLiAmkelR9xOhLWERMIM7zLKJN2hYWks6RtEHSbU1tn5b0E0k/lvRNSc9pmrdY0lpJayQd3NT+akm3lnmnKX86RUR0XDuPLM4FDhnQtgLY3/bLgJ8CiwEkzQUWAPuVdU6XNLWscwawCJhTvgZuMyIi2qxtYWH7GuCXA9out91/t9D1wIzy+jDgItubbd8FrAUOkLQPsJvt62wbOA84vF01R0REa93sszgOuKy8ng6sa5q3vrRNL68HtrckaZGkVZJWbdy4cZTLjYiYvLoSFpJOBnqBC/qbWizmbbS3ZHup7Xm25/X09Gx/oRERAcC0Tu9Q0kLgbcD8cmoJqiOGmU2LzQDuK+0zWrRHREQHdfTIQtIhwMeAQ20/3jTrEmCBpJ0kzabqyF5p+37gEUkHlqugjgUu7mTNERHRxiMLSRcCBwF7SloPnEJ19dNOwIpyBez1tt9je7Wk5cDtVKenTrTdVzb1Xqorq3ah6uO4jIgYlBsNGo1Gt8uICaZtYWH7qBbNZ29j+SXAkhbtq4D9R7G0iIgYptzBHRERtRIWERFRK2ERMUE0Mi5UtFHCIiIiaiUsIiKiVsIiIiJqJSwiIqJWwiJigslNedEOCYuICaLRaOBcDhVtkrCIiIhaCYuIiKiVsIiIiFoJi4iIqJWwiIiIWgmLiIiolbCIiIhaCYuIiKiVsIiIiFptCwtJ50jaIOm2prY9JK2QdGf5vnvTvMWS1kpaI+ngpvZXS7q1zDtN5eHdERHROe08sjgXOGRA20nAlbbnAFeWaSTNBRYA+5V1Tpc0taxzBrAImFO+Bm4zIiLarG1hYfsa4JcDmg8DlpXXy4DDm9ovsr3Z9l3AWuAASfsAu9m+zraB85rWiYiIDul0n8Xetu8HKN/3Ku3TgXVNy60vbdPL64HtLUlaJGmVpFUbN24c1cIjxouMOhvtMFY6uFv1Q3gb7S3ZXmp7nu15PT09o1ZcRMRk1+mweLCcWqJ831Da1wMzm5abAdxX2me0aI+IiA7qdFhcAiwsrxcCFze1L5C0k6TZVB3ZK8upqkckHViugjq2aZ2IiOiQae3asKQLgYOAPSWtB04BTgWWSzoeuAc4AsD2aknLgduBXuBE231lU++lurJqF+Cy8hURER3UtrCwfdQgs+YPsvwSYEmL9lXA/qNYWkREDNNY6eCOiIgxLGERERG1EhYREVErYREREbUSFhERUSthERERtRIWERFRq233WUREZzUaDTDYGUgwRl+OLCIiotaQwkLS64fSFhERE9NQjyw+P8S2iIiYgLbZZyHptcDrgB5JH2qatRswtfVaEREx0dR1cO8I7FqWe1ZT+6+Ad7SrqIiIGFu2GRa2rwaulnSu7Z93qKaIiBhjhnrp7E6SlgKzmtex/fvtKCoiIsaWoYbFV4EzgbOAvpplI6ILGo0GHvTR9RHbZ6hh0Wv7jLZWEhERY9ZQL539lqS/kLSPpD36v9paWUREjBlDDYuFwF8DPwBuKl+rRrpTSX8labWk2yRdKGnnEkArJN1Zvu/etPxiSWslrZF08Ej3GxERIzOk01C2Z4/WDiVNB/4SmGv715KWAwuAucCVtk+VdBJwEvAxSXPL/P2A5wFXSHqR7fSdRER0yJDCQtKxrdptn7cd+91F0hPAM4D7gMXAQWX+MuAq4GPAYcBFtjcDd0laCxwAXDfCfUdExDANtYP7NU2vdwbmAzcDww4L2/dK+hfgHuDXwOW2L5e0t+37yzL3S9qrrDIduL5pE+tL29NIWgQsAth3332HW1rEhOBGRp2N0TfU01Dvb56W9Gzg/JHssPRFHAbMBh4GvirpXdtapVVJg9S5FFgKMG/evJbLRETE8I10iPLHgTkjXPdNwF22N9p+AvgG1fhTD0raB6B831CWXw/MbFp/BtVpq4iI6JCh9ll8i6f+mp8KvBRYPsJ93gMcKOkZVKeh5lNdWfUY1VVXp5bvF5flLwG+IukzVB3cc4CVI9x3RESMwFD7LP6l6XUv8HPb60eyQ9s3SPoaVZ9HL/BDqlNHuwLLJR1PFShHlOVXlyumbi/Ln5groSIiOmuofRZXS9qbpzq679yendo+BThlQPNmqqOMVssvAZZszz4jJrr+x6pGtMNQn5T3TqpTP0cA7wRukJQhyiMiJomhnoY6GXiN7Q0AknqAK4CvtauwiIgYO4Z6NdSU/qAofjGMdSOiA54adTZi9A31yOI7kv4LuLBMHwl8uz0lRUTEWFP3DO4XAnvb/mtJfwy8geomueuACzpQX0REjAF1p5I+BzwCYPsbtj9k+6+ojio+197SIiJirKgLi1m2fzyw0fYqqkesRkTEJFAXFjtvY94uo1lIRIwO21Vnt9PZHaOnLixulPTnAxvLXdY3taekiNguNid8+UcJixhVdVdDfRD4pqSjeSoc5gE7An/UxroiYnuo1WDNESO3zbCw/SDwOklvBPYvzf9p+7ttrywiIsaMoY4N9T3ge22uJSIixqjchR0REbUSFhERUSthERERtRIWERFRK2ERERG1EhYRE0D/XdsR7dKVsJD0HElfk/QTSXdIeq2kPSStkHRn+b570/KLJa2VtEbSwd2oOWIss82xZ1775GNV3WgkPGJUdevI4t+A79h+CfBy4A7gJOBK23OAK8s0kuYCC4D9gEOA0yVN7UrVEWOYctd2tFHHw0LSbsDvAmcD2N5i+2HgMGBZWWwZcHh5fRhwke3Ntu8C1gIHdLLmiIjJrhtHFi8ANgJfkvRDSWdJeibVQ5buByjf9yrLTwfWNa2/vrQ9jaRFklZJWrVx48b2/QQREZNMN8JiGvAq4AzbrwQeo5xyGkSrY+uWw2naXmp7nu15PT09219pxDiVPosYbd0Ii/XAets3lOmvUYXHg5L2ASjfNzQtP7Np/RnAfR2qNSIi6EJY2H4AWCfpxaVpPnA7cAmwsLQtBC4ury8BFkjaSdJsYA6wsoMlR0RMekMadbYN3g9cIGlH4GfAu6mCa3l5sNI9wBEAtldLWk4VKL3Aibb7ulN2RMTk1JWwsP0jqocoDTR/kOWXAEvaWVNERAwud3BHTACNRmOQyz4iRkfCIiIiaiUsIiagXDoboy1hERERtRIWERNAo9HA6bSINkpYRERErYRFRETUSlhERESthEVERNRKWERERK2ERcQElPssYrQlLCIiolbCImICyNhQ0W4Ji4iIqJWwiIiIWgmLiAkoHdwx2hIWERFRK2ERMQFkIMFot66FhaSpkn4o6dIyvYekFZLuLN93b1p2saS1ktZIOrhbNUdETFbdPLL4AHBH0/RJwJW25wBXlmkkzQUWAPsBhwCnS5ra4VojIia1roSFpBnAW4GzmpoPA5aV18uAw5vaL7K92fZdwFrggA6VGhERdO/I4nPAR4HmyzX2tn0/QPm+V2mfDqxrWm59aXsaSYskrZK0auPGjaNedETEZNXxsJD0NmCD7ZuGukqLtpY9ebaX2p5ne15PT8+Ia4yIiK1N68I+Xw8cKukPgZ2B3SR9GXhQ0j6275e0D7ChLL8emNm0/gzgvo5WHBExyXX8yML2YtszbM+i6rj+ru13AZcAC8tiC4GLy+tLgAWSdpI0G5gDrOxw2RERk1o3jiwGcyqwXNLxwD3AEQC2V0taDtwO9AIn2u7rXpkREZNPV8PC9lXAVeX1L4D5gyy3BFjSscIixpmBo85muI8YbbmDOyIiaiUsIiYg29UQIM4QIDE6EhYRE5HN8ef9MGERoyZhETFB9R9dRIyGhEXEBJBRZ6PdEhYREVErYREREbUSFhETwMD7LCJGW8IiIiJqJSwixrkn76kY2J67uGMUJSwixjnbLDzzWnIeKtopYRExAUitHvsSMXoSFhERUSthETHO5Uqo6ISERURE1EpYRExQuRoqRlPCIiIiaiUsIsa5wQYRzJFFjKaOh4WkmZK+J+kOSaslfaC07yFphaQ7y/fdm9ZZLGmtpDWSDu50zRHjUcIiRlM3jix6gQ/bfilwIHCipLnAScCVtucAV5ZpyrwFwH7AIcDpkqZ2oe6IMSlXQ0UndDwsbN9v++by+hHgDmA6cBiwrCy2DDi8vD4MuMj2Ztt3AWuBAzpadMQ4lCOLGE1d7bOQNAt4JXADsLft+6EKFGCvsth0YF3TautLW0SQBx9FZ3QtLCTtCnwd+KDtX21r0RZtLX8zJC2StErSqo0bN45GmRFj3mCnoZ4cYDDP4Y5R0JWwkLQDVVBcYPsbpflBSfuU+fsAG0r7emBm0+ozgPtabdf2UtvzbM/r6elpT/ER44XNcefeRF9fX7criQmgG1dDCTgbuMP2Z5pmXQIsLK8XAhc3tS+QtJOk2cAcYGWn6o0Yy2zT29s76Gmo/qOLiO01rQv7fD1wDHCrpB+Vto8DpwLLJR0P3AMcAWB7taTlwO1UV1KdaDt/KkVQhcGxZ15bnYbKwLPRRh0PC9vXMvh/6/mDrLMEWNK2oiLGsQxPHp2QO7gjJrBcPhujJWERMY7lhrzolIRFxDiWeyyiUxIWERNYo7eX3t7ebpcRE0DCImIcy2mo6JSERcQEliOLGC0Ji4hxbCh9Fo1cERWjIGERMY7VnYbK+FAxWhIWEeNU3VAfZSGO+9KNbN68OYER2yVhETFO9fX1cewZ19Z2cDd6eznm7BsSFrFdEhYR49iQh/rIkCCxnRIWEeOQbR5//HH60nEdHZKwiBiHnnjiCY7+4tUwxFNLuYQ2tlfCImKcGuopKDca9G3ewpYtW9pcUUxkCYuIcaavr48tW7YM9aACgEZZJ0/Ni5FKWESMM7Y5+ovXYA+jv8Lm3WevZNOmTfT19eXKqBi2hEXEONJ/b8VInorXt2ULf/rFazjyjO8nLGLYEhYR40hfXx8LPn8Vjd6+YQ8g6EaDvr5enti8ubqSqhxh5A7vGIqERcQ40dfXV33I9z5Bo69vRM+xcKNB36bNvOv//IBNmzbx+OOP884cacQQdPwZ3CMl6RDg34CpwFm2T+1ySRFtZXurv/w3bdrE0V+4algd24Pp3bSJP/3iNbjRx9RddqG3t5cddtghz/OOQY2LsJA0Ffgi8AfAeuBGSZfYvr27lUUMT38A9H8oN/9F39/WaDSePEV05Beu4vSjfotFX7oR9zVg6hQ0kg6LFno3b4YpovHoY7zjs1ewbNFrmTp1KgA77rgj06ZNQ9JWAdJf75QpU7b6Gfp/poHLtmqP8WlchAVwALDW9s8AJF0EHAa0JSwynHOMVP//nSlTpjytDaC3t5djzrqe8084kEajwTFLf8C/H/sqjj3jGs5cOI9p06ZxwlnXPxUihhPOvp4pmlqm/dT35iOM5umhvB4w3bd5M0d/4XsI4UYDTZv65Af8Wcf9Nu85/4ececwrWXTuKjRlCl864UB23nlnGo0Gvb29HHfujXx50euZNm3rj5Sj//0HXPDnr3vyPWl+X/rfm0aj0XLeWNPq33Ysald9Gg/nKiW9AzjE9gll+hjgt22/b8Byi4BFZfLFwBpgT+ChDpY7VKlr6MZiTZC6hit1DV03a3q+7Z6BjePlyKLVMezTUs72UmDpVitKq2zPa1dhI5W6hm4s1gSpa7hS19CNxZrG9vHUU9YDM5umZwD3damWiIhJZ7yExY3AHEmzJe0ILAAu6XJNERGTxrg4DWW7V9L7gP+iunT2HNurh7j60vpFuiJ1Dd1YrAlS13ClrqEbczWNiw7uiIjorvFyGioiIrooYREREbUmRVhI+qSkeyX9qHz9Ybdr6ifpI5Isac9u1wIg6VOSflzep8slPa/bNQFI+rSkn5TavinpOd2uCUDSEZJWS2pI6uqljpIOkbRG0lpJJ3WzlmaSzpG0QdJt3a6ln6SZkr4n6Y7y7/eBbtcEIGlnSSsl3VLq+rtu19RvUoRF8Vnbryhf3+52MVD9h6UawuSebtfS5NO2X2b7FcClwN92uZ5+K4D9bb8M+CmwuMv19LsN+GPgmm4W0TQkzluAucBRkuZ2s6Ym5wKHdLuIAXqBD9t+KXAgcOIYeb82A79v++XAK4BDJB3Y3ZIqkyksxqLPAh9l2INNt4/tXzVNPpMxUpvty233P0T6eqp7bbrO9h2213S7DpqGxLG9BegfEqfrbF8D/LLbdTSzfb/tm8vrR4A7gOndrQpcebRM7lC+xsTv4GQKi/eVUxjnSNq928VIOhS41/Yt3a5lIElLJK0DjmbsHFk0Ow64rNtFjDHTgXVN0+sZAx9+44GkWcArgRu6XApQHSVK+hGwAVhhe0zUNS7usxgKSVcAz20x62TgDOBTVAn9KeBfqT5wulnTx4E3t7uGVrZVl+2LbZ8MnCxpMfA+4JSxUFdZ5mSqUwgXdKKmodY1BgxpSJzYmqRdga8DHxxwVN01tvuAV5R+uW9K2t921/t7JkxY2H7TUJaT9O9U5+LbbrCaJP0WMBu4pYzsOQO4WdIBth/oVl0tfAX4TzoUFnV1SVoIvA2Y7w7eIDSM96ubMiTOMEnagSooLrD9jW7XM5DthyVdRdXf0/WwmBSnoSTt0zT5R3T5jbd9q+29bM+yPYvqF/1VnQiKOpLmNE0eCvykW7U0Kw+/+hhwqO3Hu13PGJQhcYZB1V9pZwN32P5Mt+vpJ6mn/0o/SbsAb2Ks/A5Ohju4JZ1PdWWBgbuB/2X7/m7W1EzS3cA8210fJlnS16mGd28APwfeY/ve7lYFktYCOwG/KE3X235PF0sCQNIfAZ8HeoCHgR/ZPrhLtfwh8DmeGhJnSTfqGEjShcBBVMNuPwicYvvsLtf0BuD7wK1U/9cBPt7tKyUlvQxYRvVvOAVYbvvvu1lTv0kRFhERsX0mxWmoiIjYPgmLiIiolbCIiIhaCYuIiKiVsIiIiFoJi4ghkPRo/VIRE1fCImIMkDRtW9PbWG9qeyqK2FrCImIYVPm0pNsk3SrpyNI+RdLp5RkEl0r6tqR3lHmvlnS1pJsk/Vf/iAKSrpL0j5KuBj7QYnq+pB+W/Zwjaaey3t2S/lbStcARXXorYpKZMGNDRXTIH1ONBvByqjuSb5R0DfB6YBbwW8BeVENen1PGH/o8cJjtjSVclvDUQJbPsf17AJLe3j8taWfgTqpxsH4q6TzgvVR3aANssv2Gdv+wEf0SFhHD8wbgwjIy6IPlKOA1pf2rthvAA5K+V5Z/MbA/sKIMGjkVaB5q5j8GbP8/mta7y/ZPy/Qy4ESeCouB60W0VcIiYnhaDQVe177a9msHmf/YINODbW+w9SLaKn0WEcNzDXBkeUBND/C7wErgWuBPSt/F3lQD5wGsAXokvRaqYbEl7TeE/fwEmCXphWX6GODqUfw5IoYlRxYRw/NN4LXALVSjGH/U9gNltN75VMPf/5TqqWv/bXtL6eg+TdKzqX7nPges3tZObG+S9G7gq+XKqBuBM9v0M0XUyqizEaNE0q62H5X0G1RHG68fC88oiRgNObKIGD2XlgfX7Ah8KkERE0mOLCIiolY6uCMiolbCIiIiaiUsIiKiVsIiIiJqJSwiIqLW/wBop4b2uBLLiwAAAABJRU5ErkJggg==\n",
=======
      "image/png": "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\n",
>>>>>>> a7a4624d075a64a802eefe49cbe9b3f120bfdaa7
      "text/plain": [
       "<Figure size 432x288 with 1 Axes>"
      ]
     },
     "metadata": {
      "needs_background": "light"
     },
     "output_type": "display_data"
    }
   ],
   "source": [
    "# peek at the distribution of my target varaible\n",
    "sns.histplot(y_train.logerror)\n",
    "plt.title('Distribution of logerror')\n",
    "plt.show()"
   ]
  },
  {
   "cell_type": "markdown",
<<<<<<< HEAD
   "id": "fa423416",
=======
   "id": "7ffc300b",
>>>>>>> a7a4624d075a64a802eefe49cbe9b3f120bfdaa7
   "metadata": {},
   "source": [
    "### Linear regression"
   ]
  },
  {
   "cell_type": "code",
<<<<<<< HEAD
   "execution_count": 14,
   "id": "8c9f6b33",
=======
   "execution_count": 21,
   "id": "dff589b0",
>>>>>>> a7a4624d075a64a802eefe49cbe9b3f120bfdaa7
   "metadata": {},
   "outputs": [],
   "source": [
    "def linear_regression(X_train,y_train,X_validate,y_validate):\n",
    "\n",
    "    # create the model object\n",
    "    lm = LinearRegression(normalize = True)\n",
    "    \n",
    "    # Fit the model\n",
    "    lm.fit(X_train, y_train.logerror)\n",
    "    \n",
    "    # Predict y on train\n",
    "    y_train['logerror_pred_lm'] = lm.predict(X_train)\n",
    "    # predict validate\n",
    "    y_validate['logerror_pred_lm'] = lm.predict(X_validate)\n",
    "    \n",
    "    # evaluate: train rmse\n",
    "    rmse_train = mean_squared_error(y_train.logerror, y_train.logerror_pred_lm) ** (1/2)\n",
    "\n",
    "    # evaluate: validate rmse\n",
    "    rmse_validate = mean_squared_error(y_validate.logerror, y_validate.logerror_pred_lm) ** (1/2)\n",
    "\n",
    "    print(\"RMSE for OLS using LinearRegression\\nTraining/In-Sample\", round(rmse_train, 8), \n",
    "        \"\\nValidation/Out-of-Sample: \", round(rmse_validate, 8))"
   ]
  },
  {
   "cell_type": "code",
<<<<<<< HEAD
   "execution_count": 15,
   "id": "190e1d30",
   "metadata": {},
   "outputs": [
    {
     "name": "stdout",
     "output_type": "stream",
     "text": [
      "RMSE for OLS using LinearRegression\n",
      "Training/In-Sample 0.16570285 \n",
      "Validation/Out-of-Sample:  0.17656305\n"
=======
   "execution_count": 22,
   "id": "b59201b1",
   "metadata": {},
   "outputs": [
    {
     "ename": "ValueError",
     "evalue": "could not convert string to float: '010C'",
     "output_type": "error",
     "traceback": [
      "\u001b[0;31m---------------------------------------------------------------------------\u001b[0m",
      "\u001b[0;31mValueError\u001b[0m                                Traceback (most recent call last)",
      "Input \u001b[0;32mIn [22]\u001b[0m, in \u001b[0;36m<cell line: 1>\u001b[0;34m()\u001b[0m\n\u001b[0;32m----> 1\u001b[0m \u001b[43mlinear_regression\u001b[49m\u001b[43m(\u001b[49m\u001b[43mX_train\u001b[49m\u001b[43m,\u001b[49m\u001b[43my_train\u001b[49m\u001b[43m,\u001b[49m\u001b[43mX_validate\u001b[49m\u001b[43m,\u001b[49m\u001b[43my_validate\u001b[49m\u001b[43m)\u001b[49m\n",
      "Input \u001b[0;32mIn [21]\u001b[0m, in \u001b[0;36mlinear_regression\u001b[0;34m(X_train, y_train, X_validate, y_validate)\u001b[0m\n\u001b[1;32m      4\u001b[0m lm \u001b[38;5;241m=\u001b[39m LinearRegression(normalize \u001b[38;5;241m=\u001b[39m \u001b[38;5;28;01mTrue\u001b[39;00m)\n\u001b[1;32m      6\u001b[0m \u001b[38;5;66;03m# Fit the model\u001b[39;00m\n\u001b[0;32m----> 7\u001b[0m \u001b[43mlm\u001b[49m\u001b[38;5;241;43m.\u001b[39;49m\u001b[43mfit\u001b[49m\u001b[43m(\u001b[49m\u001b[43mX_train\u001b[49m\u001b[43m,\u001b[49m\u001b[43m \u001b[49m\u001b[43my_train\u001b[49m\u001b[38;5;241;43m.\u001b[39;49m\u001b[43mlogerror\u001b[49m\u001b[43m)\u001b[49m\n\u001b[1;32m      9\u001b[0m \u001b[38;5;66;03m# Predict y on train\u001b[39;00m\n\u001b[1;32m     10\u001b[0m y_train[\u001b[38;5;124m'\u001b[39m\u001b[38;5;124mlogerror_pred_lm\u001b[39m\u001b[38;5;124m'\u001b[39m] \u001b[38;5;241m=\u001b[39m lm\u001b[38;5;241m.\u001b[39mpredict(X_train)\n",
      "File \u001b[0;32m/opt/homebrew/anaconda3/lib/python3.9/site-packages/sklearn/linear_model/_base.py:662\u001b[0m, in \u001b[0;36mLinearRegression.fit\u001b[0;34m(self, X, y, sample_weight)\u001b[0m\n\u001b[1;32m    658\u001b[0m n_jobs_ \u001b[38;5;241m=\u001b[39m \u001b[38;5;28mself\u001b[39m\u001b[38;5;241m.\u001b[39mn_jobs\n\u001b[1;32m    660\u001b[0m accept_sparse \u001b[38;5;241m=\u001b[39m \u001b[38;5;28;01mFalse\u001b[39;00m \u001b[38;5;28;01mif\u001b[39;00m \u001b[38;5;28mself\u001b[39m\u001b[38;5;241m.\u001b[39mpositive \u001b[38;5;28;01melse\u001b[39;00m [\u001b[38;5;124m\"\u001b[39m\u001b[38;5;124mcsr\u001b[39m\u001b[38;5;124m\"\u001b[39m, \u001b[38;5;124m\"\u001b[39m\u001b[38;5;124mcsc\u001b[39m\u001b[38;5;124m\"\u001b[39m, \u001b[38;5;124m\"\u001b[39m\u001b[38;5;124mcoo\u001b[39m\u001b[38;5;124m\"\u001b[39m]\n\u001b[0;32m--> 662\u001b[0m X, y \u001b[38;5;241m=\u001b[39m \u001b[38;5;28;43mself\u001b[39;49m\u001b[38;5;241;43m.\u001b[39;49m\u001b[43m_validate_data\u001b[49m\u001b[43m(\u001b[49m\n\u001b[1;32m    663\u001b[0m \u001b[43m    \u001b[49m\u001b[43mX\u001b[49m\u001b[43m,\u001b[49m\u001b[43m \u001b[49m\u001b[43my\u001b[49m\u001b[43m,\u001b[49m\u001b[43m \u001b[49m\u001b[43maccept_sparse\u001b[49m\u001b[38;5;241;43m=\u001b[39;49m\u001b[43maccept_sparse\u001b[49m\u001b[43m,\u001b[49m\u001b[43m \u001b[49m\u001b[43my_numeric\u001b[49m\u001b[38;5;241;43m=\u001b[39;49m\u001b[38;5;28;43;01mTrue\u001b[39;49;00m\u001b[43m,\u001b[49m\u001b[43m \u001b[49m\u001b[43mmulti_output\u001b[49m\u001b[38;5;241;43m=\u001b[39;49m\u001b[38;5;28;43;01mTrue\u001b[39;49;00m\n\u001b[1;32m    664\u001b[0m \u001b[43m\u001b[49m\u001b[43m)\u001b[49m\n\u001b[1;32m    666\u001b[0m \u001b[38;5;28;01mif\u001b[39;00m sample_weight \u001b[38;5;129;01mis\u001b[39;00m \u001b[38;5;129;01mnot\u001b[39;00m \u001b[38;5;28;01mNone\u001b[39;00m:\n\u001b[1;32m    667\u001b[0m     sample_weight \u001b[38;5;241m=\u001b[39m _check_sample_weight(sample_weight, X, dtype\u001b[38;5;241m=\u001b[39mX\u001b[38;5;241m.\u001b[39mdtype)\n",
      "File \u001b[0;32m/opt/homebrew/anaconda3/lib/python3.9/site-packages/sklearn/base.py:581\u001b[0m, in \u001b[0;36mBaseEstimator._validate_data\u001b[0;34m(self, X, y, reset, validate_separately, **check_params)\u001b[0m\n\u001b[1;32m    579\u001b[0m         y \u001b[38;5;241m=\u001b[39m check_array(y, \u001b[38;5;241m*\u001b[39m\u001b[38;5;241m*\u001b[39mcheck_y_params)\n\u001b[1;32m    580\u001b[0m     \u001b[38;5;28;01melse\u001b[39;00m:\n\u001b[0;32m--> 581\u001b[0m         X, y \u001b[38;5;241m=\u001b[39m \u001b[43mcheck_X_y\u001b[49m\u001b[43m(\u001b[49m\u001b[43mX\u001b[49m\u001b[43m,\u001b[49m\u001b[43m \u001b[49m\u001b[43my\u001b[49m\u001b[43m,\u001b[49m\u001b[43m \u001b[49m\u001b[38;5;241;43m*\u001b[39;49m\u001b[38;5;241;43m*\u001b[39;49m\u001b[43mcheck_params\u001b[49m\u001b[43m)\u001b[49m\n\u001b[1;32m    582\u001b[0m     out \u001b[38;5;241m=\u001b[39m X, y\n\u001b[1;32m    584\u001b[0m \u001b[38;5;28;01mif\u001b[39;00m \u001b[38;5;129;01mnot\u001b[39;00m no_val_X \u001b[38;5;129;01mand\u001b[39;00m check_params\u001b[38;5;241m.\u001b[39mget(\u001b[38;5;124m\"\u001b[39m\u001b[38;5;124mensure_2d\u001b[39m\u001b[38;5;124m\"\u001b[39m, \u001b[38;5;28;01mTrue\u001b[39;00m):\n",
      "File \u001b[0;32m/opt/homebrew/anaconda3/lib/python3.9/site-packages/sklearn/utils/validation.py:964\u001b[0m, in \u001b[0;36mcheck_X_y\u001b[0;34m(X, y, accept_sparse, accept_large_sparse, dtype, order, copy, force_all_finite, ensure_2d, allow_nd, multi_output, ensure_min_samples, ensure_min_features, y_numeric, estimator)\u001b[0m\n\u001b[1;32m    961\u001b[0m \u001b[38;5;28;01mif\u001b[39;00m y \u001b[38;5;129;01mis\u001b[39;00m \u001b[38;5;28;01mNone\u001b[39;00m:\n\u001b[1;32m    962\u001b[0m     \u001b[38;5;28;01mraise\u001b[39;00m \u001b[38;5;167;01mValueError\u001b[39;00m(\u001b[38;5;124m\"\u001b[39m\u001b[38;5;124my cannot be None\u001b[39m\u001b[38;5;124m\"\u001b[39m)\n\u001b[0;32m--> 964\u001b[0m X \u001b[38;5;241m=\u001b[39m \u001b[43mcheck_array\u001b[49m\u001b[43m(\u001b[49m\n\u001b[1;32m    965\u001b[0m \u001b[43m    \u001b[49m\u001b[43mX\u001b[49m\u001b[43m,\u001b[49m\n\u001b[1;32m    966\u001b[0m \u001b[43m    \u001b[49m\u001b[43maccept_sparse\u001b[49m\u001b[38;5;241;43m=\u001b[39;49m\u001b[43maccept_sparse\u001b[49m\u001b[43m,\u001b[49m\n\u001b[1;32m    967\u001b[0m \u001b[43m    \u001b[49m\u001b[43maccept_large_sparse\u001b[49m\u001b[38;5;241;43m=\u001b[39;49m\u001b[43maccept_large_sparse\u001b[49m\u001b[43m,\u001b[49m\n\u001b[1;32m    968\u001b[0m \u001b[43m    \u001b[49m\u001b[43mdtype\u001b[49m\u001b[38;5;241;43m=\u001b[39;49m\u001b[43mdtype\u001b[49m\u001b[43m,\u001b[49m\n\u001b[1;32m    969\u001b[0m \u001b[43m    \u001b[49m\u001b[43morder\u001b[49m\u001b[38;5;241;43m=\u001b[39;49m\u001b[43morder\u001b[49m\u001b[43m,\u001b[49m\n\u001b[1;32m    970\u001b[0m \u001b[43m    \u001b[49m\u001b[43mcopy\u001b[49m\u001b[38;5;241;43m=\u001b[39;49m\u001b[43mcopy\u001b[49m\u001b[43m,\u001b[49m\n\u001b[1;32m    971\u001b[0m \u001b[43m    \u001b[49m\u001b[43mforce_all_finite\u001b[49m\u001b[38;5;241;43m=\u001b[39;49m\u001b[43mforce_all_finite\u001b[49m\u001b[43m,\u001b[49m\n\u001b[1;32m    972\u001b[0m \u001b[43m    \u001b[49m\u001b[43mensure_2d\u001b[49m\u001b[38;5;241;43m=\u001b[39;49m\u001b[43mensure_2d\u001b[49m\u001b[43m,\u001b[49m\n\u001b[1;32m    973\u001b[0m \u001b[43m    \u001b[49m\u001b[43mallow_nd\u001b[49m\u001b[38;5;241;43m=\u001b[39;49m\u001b[43mallow_nd\u001b[49m\u001b[43m,\u001b[49m\n\u001b[1;32m    974\u001b[0m \u001b[43m    \u001b[49m\u001b[43mensure_min_samples\u001b[49m\u001b[38;5;241;43m=\u001b[39;49m\u001b[43mensure_min_samples\u001b[49m\u001b[43m,\u001b[49m\n\u001b[1;32m    975\u001b[0m \u001b[43m    \u001b[49m\u001b[43mensure_min_features\u001b[49m\u001b[38;5;241;43m=\u001b[39;49m\u001b[43mensure_min_features\u001b[49m\u001b[43m,\u001b[49m\n\u001b[1;32m    976\u001b[0m \u001b[43m    \u001b[49m\u001b[43mestimator\u001b[49m\u001b[38;5;241;43m=\u001b[39;49m\u001b[43mestimator\u001b[49m\u001b[43m,\u001b[49m\n\u001b[1;32m    977\u001b[0m \u001b[43m\u001b[49m\u001b[43m)\u001b[49m\n\u001b[1;32m    979\u001b[0m y \u001b[38;5;241m=\u001b[39m _check_y(y, multi_output\u001b[38;5;241m=\u001b[39mmulti_output, y_numeric\u001b[38;5;241m=\u001b[39my_numeric)\n\u001b[1;32m    981\u001b[0m check_consistent_length(X, y)\n",
      "File \u001b[0;32m/opt/homebrew/anaconda3/lib/python3.9/site-packages/sklearn/utils/validation.py:746\u001b[0m, in \u001b[0;36mcheck_array\u001b[0;34m(array, accept_sparse, accept_large_sparse, dtype, order, copy, force_all_finite, ensure_2d, allow_nd, ensure_min_samples, ensure_min_features, estimator)\u001b[0m\n\u001b[1;32m    744\u001b[0m         array \u001b[38;5;241m=\u001b[39m array\u001b[38;5;241m.\u001b[39mastype(dtype, casting\u001b[38;5;241m=\u001b[39m\u001b[38;5;124m\"\u001b[39m\u001b[38;5;124munsafe\u001b[39m\u001b[38;5;124m\"\u001b[39m, copy\u001b[38;5;241m=\u001b[39m\u001b[38;5;28;01mFalse\u001b[39;00m)\n\u001b[1;32m    745\u001b[0m     \u001b[38;5;28;01melse\u001b[39;00m:\n\u001b[0;32m--> 746\u001b[0m         array \u001b[38;5;241m=\u001b[39m \u001b[43mnp\u001b[49m\u001b[38;5;241;43m.\u001b[39;49m\u001b[43masarray\u001b[49m\u001b[43m(\u001b[49m\u001b[43marray\u001b[49m\u001b[43m,\u001b[49m\u001b[43m \u001b[49m\u001b[43morder\u001b[49m\u001b[38;5;241;43m=\u001b[39;49m\u001b[43morder\u001b[49m\u001b[43m,\u001b[49m\u001b[43m \u001b[49m\u001b[43mdtype\u001b[49m\u001b[38;5;241;43m=\u001b[39;49m\u001b[43mdtype\u001b[49m\u001b[43m)\u001b[49m\n\u001b[1;32m    747\u001b[0m \u001b[38;5;28;01mexcept\u001b[39;00m ComplexWarning \u001b[38;5;28;01mas\u001b[39;00m complex_warning:\n\u001b[1;32m    748\u001b[0m     \u001b[38;5;28;01mraise\u001b[39;00m \u001b[38;5;167;01mValueError\u001b[39;00m(\n\u001b[1;32m    749\u001b[0m         \u001b[38;5;124m\"\u001b[39m\u001b[38;5;124mComplex data not supported\u001b[39m\u001b[38;5;130;01m\\n\u001b[39;00m\u001b[38;5;132;01m{}\u001b[39;00m\u001b[38;5;130;01m\\n\u001b[39;00m\u001b[38;5;124m\"\u001b[39m\u001b[38;5;241m.\u001b[39mformat(array)\n\u001b[1;32m    750\u001b[0m     ) \u001b[38;5;28;01mfrom\u001b[39;00m \u001b[38;5;21;01mcomplex_warning\u001b[39;00m\n",
      "File \u001b[0;32m/opt/homebrew/anaconda3/lib/python3.9/site-packages/pandas/core/generic.py:2064\u001b[0m, in \u001b[0;36mNDFrame.__array__\u001b[0;34m(self, dtype)\u001b[0m\n\u001b[1;32m   2063\u001b[0m \u001b[38;5;28;01mdef\u001b[39;00m \u001b[38;5;21m__array__\u001b[39m(\u001b[38;5;28mself\u001b[39m, dtype: npt\u001b[38;5;241m.\u001b[39mDTypeLike \u001b[38;5;241m|\u001b[39m \u001b[38;5;28;01mNone\u001b[39;00m \u001b[38;5;241m=\u001b[39m \u001b[38;5;28;01mNone\u001b[39;00m) \u001b[38;5;241m-\u001b[39m\u001b[38;5;241m>\u001b[39m np\u001b[38;5;241m.\u001b[39mndarray:\n\u001b[0;32m-> 2064\u001b[0m     \u001b[38;5;28;01mreturn\u001b[39;00m \u001b[43mnp\u001b[49m\u001b[38;5;241;43m.\u001b[39;49m\u001b[43masarray\u001b[49m\u001b[43m(\u001b[49m\u001b[38;5;28;43mself\u001b[39;49m\u001b[38;5;241;43m.\u001b[39;49m\u001b[43m_values\u001b[49m\u001b[43m,\u001b[49m\u001b[43m \u001b[49m\u001b[43mdtype\u001b[49m\u001b[38;5;241;43m=\u001b[39;49m\u001b[43mdtype\u001b[49m\u001b[43m)\u001b[49m\n",
      "\u001b[0;31mValueError\u001b[0m: could not convert string to float: '010C'"
>>>>>>> a7a4624d075a64a802eefe49cbe9b3f120bfdaa7
     ]
    }
   ],
   "source": [
    "linear_regression(X_train,y_train,X_validate,y_validate)"
   ]
  },
  {
   "cell_type": "markdown",
<<<<<<< HEAD
   "id": "d98004a0",
=======
   "id": "2390bf6a",
>>>>>>> a7a4624d075a64a802eefe49cbe9b3f120bfdaa7
   "metadata": {},
   "source": [
    "### Lasso_lars"
   ]
  },
  {
   "cell_type": "code",
<<<<<<< HEAD
   "execution_count": 16,
   "id": "55cf644e",
=======
   "execution_count": null,
   "id": "60b287ed",
>>>>>>> a7a4624d075a64a802eefe49cbe9b3f120bfdaa7
   "metadata": {},
   "outputs": [],
   "source": [
    "def lasso_lars(X_train, y_train, X_validate, y_validate, alpha):\n",
    "    \n",
    "    # create the model object\n",
    "    lars = LassoLars(alpha)\n",
    "\n",
    "    # fit the model.\n",
    "    lars.fit(X_train, y_train.logerror)\n",
    "\n",
    "    # predict train\n",
    "    y_train['logerror_pred_lars'] = lars.predict(X_train)\n",
    "    # predict validate\n",
    "    y_validate['logerror_pred_lars'] = lars.predict(X_validate)\n",
    "    # evaluate: train rmse\n",
    "    rmse_train = mean_squared_error(y_train.logerror, y_train.logerror_pred_lars)**(1/2)\n",
    "\n",
    "    # evaluate: validate rmse\n",
    "    rmse_validate = mean_squared_error(y_validate.logerror, y_validate.logerror_pred_lars)**(1/2)\n",
    "\n",
    "    print(\"RMSE for Lasso + Lars, alpha = \", i, \"\\nTraining/In-Sample: \", round(rmse_train, 8), \n",
    "        \"\\nValidation/Out-of-Sample: \", round(rmse_validate, 8))"
   ]
  },
  {
   "cell_type": "code",
<<<<<<< HEAD
   "execution_count": 17,
   "id": "69cd81ff",
   "metadata": {},
   "outputs": [
    {
     "name": "stdout",
     "output_type": "stream",
     "text": [
      "RMSE for Lasso + Lars, alpha =  0 \n",
      "Training/In-Sample:  0.16570285 \n",
      "Validation/Out-of-Sample:  0.17656311\n",
      "\n",
      "RMSE for Lasso + Lars, alpha =  1 \n",
      "Training/In-Sample:  0.16577148 \n",
      "Validation/Out-of-Sample:  0.17667237\n",
      "\n",
      "RMSE for Lasso + Lars, alpha =  2 \n",
      "Training/In-Sample:  0.16577148 \n",
      "Validation/Out-of-Sample:  0.17667237\n",
      "\n",
      "RMSE for Lasso + Lars, alpha =  3 \n",
      "Training/In-Sample:  0.16577148 \n",
      "Validation/Out-of-Sample:  0.17667237\n",
      "\n",
      "RMSE for Lasso + Lars, alpha =  4 \n",
      "Training/In-Sample:  0.16577148 \n",
      "Validation/Out-of-Sample:  0.17667237\n",
      "\n"
     ]
    }
   ],
=======
   "execution_count": null,
   "id": "7acb3fc1",
   "metadata": {},
   "outputs": [],
>>>>>>> a7a4624d075a64a802eefe49cbe9b3f120bfdaa7
   "source": [
    "for i in range(0,5):\n",
    "    lasso_lars(X_train, y_train, X_validate, y_validate, alpha = i)\n",
    "    print()"
   ]
  },
  {
   "cell_type": "markdown",
<<<<<<< HEAD
   "id": "15fa1e7c",
=======
   "id": "d2d65a5f",
>>>>>>> a7a4624d075a64a802eefe49cbe9b3f120bfdaa7
   "metadata": {},
   "source": [
    "#### GLM"
   ]
  },
  {
   "cell_type": "code",
<<<<<<< HEAD
   "execution_count": 18,
   "id": "3e136407",
=======
   "execution_count": null,
   "id": "63be10db",
>>>>>>> a7a4624d075a64a802eefe49cbe9b3f120bfdaa7
   "metadata": {},
   "outputs": [],
   "source": [
    "def Tweedie_regressor(X_train, y_train, X_validate, y_validate, power, alpha):\n",
    "\n",
    "    # create the model object\n",
    "    glm = TweedieRegressor(power=power, alpha=alpha)\n",
    "\n",
    "    # fit the model to our training data.\n",
    "    glm.fit(X_train, y_train.logerror)\n",
    "\n",
    "    # predict train\n",
    "    y_train['logerror_pred_glm'] = glm.predict(X_train)\n",
    "    # predict validate\n",
    "    y_validate['logerror_pred_glm'] = glm.predict(X_validate)\n",
    "    # evaluate: train rmse\n",
    "    rmse_train = mean_squared_error(y_train.logerror, y_train.logerror_pred_glm)**(1/2)\n",
    "    # evaluate: validate rmse\n",
    "    rmse_validate = mean_squared_error(y_validate.logerror, y_validate.logerror_pred_glm)**(1/2)\n",
    "\n",
    "    print(\"RMSE for GLM using Tweedie, power=\", power, \" & alpha=\", alpha, \n",
    "        \"\\nTraining/In-Sample: \", round(rmse_train, 8), \n",
    "        \"\\nValidation/Out-of-Sample: \", round(rmse_validate, 8))"
   ]
  },
  {
   "cell_type": "code",
<<<<<<< HEAD
   "execution_count": 19,
   "id": "a9fee9fe",
   "metadata": {},
   "outputs": [
    {
     "name": "stdout",
     "output_type": "stream",
     "text": [
      "RMSE for GLM using Tweedie, power= 0  & alpha= 1 \n",
      "Training/In-Sample:  0.16577012 \n",
      "Validation/Out-of-Sample:  0.17667057\n"
     ]
    }
   ],
=======
   "execution_count": null,
   "id": "faf5fa81",
   "metadata": {},
   "outputs": [],
>>>>>>> a7a4624d075a64a802eefe49cbe9b3f120bfdaa7
   "source": [
    "Tweedie_regressor(X_train, y_train, X_validate, y_validate, power = 0, alpha=1)\n"
   ]
  },
  {
   "cell_type": "code",
<<<<<<< HEAD
   "execution_count": 20,
   "id": "52492566",
   "metadata": {},
   "outputs": [
    {
     "name": "stdout",
     "output_type": "stream",
     "text": [
      "RMSE for GLM using Tweedie, power= 0  & alpha= 0 \n",
      "Training/In-Sample:  0.16570735 \n",
      "Validation/Out-of-Sample:  0.17656313\n"
     ]
    }
   ],
=======
   "execution_count": null,
   "id": "f20c7cbe",
   "metadata": {},
   "outputs": [],
>>>>>>> a7a4624d075a64a802eefe49cbe9b3f120bfdaa7
   "source": [
    "Tweedie_regressor(X_train, y_train, X_validate, y_validate, power = 0, alpha = 0)"
   ]
  },
  {
   "cell_type": "markdown",
<<<<<<< HEAD
   "id": "83153fbe",
=======
   "id": "fd2e10c8",
>>>>>>> a7a4624d075a64a802eefe49cbe9b3f120bfdaa7
   "metadata": {},
   "source": [
    "### Polynomial Regression"
   ]
  },
  {
   "cell_type": "code",
<<<<<<< HEAD
   "execution_count": 21,
   "id": "7830d02e",
=======
   "execution_count": null,
   "id": "f67c8d04",
>>>>>>> a7a4624d075a64a802eefe49cbe9b3f120bfdaa7
   "metadata": {},
   "outputs": [],
   "source": [
    "def polynomial_regression(X_train, y_train, X_validate, y_validate, degree):\n",
    "    # make the polynomial features to get a new set of features\n",
    "    pf = PolynomialFeatures(degree= degree)\n",
    "    \n",
    "    # fit and transform X_train_scaled\n",
    "    X_train_degree2 = pf.fit_transform(X_train)\n",
    "    \n",
    "\n",
    "    # transform X_validate_scaled \n",
    "    X_validate_degree2 = pf.transform(X_validate)\n",
    "\n",
    "    # create the model object\n",
    "    lm2 = LinearRegression(normalize=True)\n",
    "\n",
    "    # fit the model to our training data. We must specify the column in y_train, \n",
    "    # since we have converted it to a dataframe from a series! \n",
    "    lm2.fit(X_train_degree2, y_train.logerror)\n",
    "\n",
    "    # predict train\n",
    "    y_train['logerror_pred_lm2'] = lm2.predict(X_train_degree2)\n",
    "\n",
    "    # evaluate: train rmse\n",
    "    rmse_train = mean_squared_error(y_train.logerror, y_train.logerror_pred_lm2)**(1/2)\n",
    "\n",
    "    # predict validate\n",
    "    y_validate['logerror_pred_lm2'] = lm2.predict(X_validate_degree2)\n",
    "\n",
    "    # evaluate: validate rmse\n",
    "    rmse_validate = mean_squared_error(y_validate.logerror, y_validate.logerror_pred_lm2)**(1/2)\n",
    "\n",
    "    print(\"RMSE for Polynomial Model, degrees=\", degree, \"\\nTraining/In-Sample: \", round(rmse_train,8), \n",
    "        \"\\nValidation/Out-of-Sample: \", round(rmse_validate,8))"
   ]
  },
  {
   "cell_type": "code",
<<<<<<< HEAD
   "execution_count": 22,
   "id": "dd526a82",
   "metadata": {},
   "outputs": [
    {
     "name": "stdout",
     "output_type": "stream",
     "text": [
      "RMSE for Polynomial Model, degrees= 1 \n",
      "Training/In-Sample:  0.16570285 \n",
      "Validation/Out-of-Sample:  0.17656305\n"
=======
   "execution_count": 17,
   "id": "37ce0ce5",
   "metadata": {},
   "outputs": [
    {
     "ename": "NameError",
     "evalue": "name 'polynomial_regression' is not defined",
     "output_type": "error",
     "traceback": [
      "\u001b[0;31m---------------------------------------------------------------------------\u001b[0m",
      "\u001b[0;31mNameError\u001b[0m                                 Traceback (most recent call last)",
      "Input \u001b[0;32mIn [17]\u001b[0m, in \u001b[0;36m<cell line: 1>\u001b[0;34m()\u001b[0m\n\u001b[0;32m----> 1\u001b[0m \u001b[43mpolynomial_regression\u001b[49m(X_train, y_train, X_validate, y_validate, degree \u001b[38;5;241m=\u001b[39m \u001b[38;5;241m1\u001b[39m)\n",
      "\u001b[0;31mNameError\u001b[0m: name 'polynomial_regression' is not defined"
>>>>>>> a7a4624d075a64a802eefe49cbe9b3f120bfdaa7
     ]
    }
   ],
   "source": [
    "polynomial_regression(X_train, y_train, X_validate, y_validate, degree = 1)"
   ]
  },
  {
   "cell_type": "code",
<<<<<<< HEAD
   "execution_count": 23,
   "id": "06c663ac",
   "metadata": {},
   "outputs": [
    {
     "name": "stdout",
     "output_type": "stream",
     "text": [
      "RMSE for Polynomial Model, degrees= 2 \n",
      "Training/In-Sample:  0.1655114 \n",
      "Validation/Out-of-Sample:  0.17646484\n"
=======
   "execution_count": 18,
   "id": "3ce697b3",
   "metadata": {},
   "outputs": [
    {
     "ename": "NameError",
     "evalue": "name 'polynomial_regression' is not defined",
     "output_type": "error",
     "traceback": [
      "\u001b[0;31m---------------------------------------------------------------------------\u001b[0m",
      "\u001b[0;31mNameError\u001b[0m                                 Traceback (most recent call last)",
      "Input \u001b[0;32mIn [18]\u001b[0m, in \u001b[0;36m<cell line: 1>\u001b[0;34m()\u001b[0m\n\u001b[0;32m----> 1\u001b[0m \u001b[43mpolynomial_regression\u001b[49m(X_train, y_train, X_validate, y_validate, degree \u001b[38;5;241m=\u001b[39m \u001b[38;5;241m2\u001b[39m)\n",
      "\u001b[0;31mNameError\u001b[0m: name 'polynomial_regression' is not defined"
>>>>>>> a7a4624d075a64a802eefe49cbe9b3f120bfdaa7
     ]
    }
   ],
   "source": [
    "polynomial_regression(X_train, y_train, X_validate, y_validate, degree = 2)"
   ]
  },
  {
   "cell_type": "code",
<<<<<<< HEAD
   "execution_count": 24,
   "id": "e55657f9",
   "metadata": {},
   "outputs": [
    {
     "name": "stdout",
     "output_type": "stream",
     "text": [
      "RMSE for Polynomial Model, degrees= 3 \n",
      "Training/In-Sample:  0.1653608 \n",
      "Validation/Out-of-Sample:  0.17685405\n"
=======
   "execution_count": 19,
   "id": "1551aba0",
   "metadata": {},
   "outputs": [
    {
     "ename": "NameError",
     "evalue": "name 'polynomial_regression' is not defined",
     "output_type": "error",
     "traceback": [
      "\u001b[0;31m---------------------------------------------------------------------------\u001b[0m",
      "\u001b[0;31mNameError\u001b[0m                                 Traceback (most recent call last)",
      "Input \u001b[0;32mIn [19]\u001b[0m, in \u001b[0;36m<cell line: 1>\u001b[0;34m()\u001b[0m\n\u001b[0;32m----> 1\u001b[0m \u001b[43mpolynomial_regression\u001b[49m(X_train, y_train, X_validate, y_validate, degree \u001b[38;5;241m=\u001b[39m \u001b[38;5;241m3\u001b[39m)\n",
      "\u001b[0;31mNameError\u001b[0m: name 'polynomial_regression' is not defined"
>>>>>>> a7a4624d075a64a802eefe49cbe9b3f120bfdaa7
     ]
    }
   ],
   "source": [
    "polynomial_regression(X_train, y_train, X_validate, y_validate, degree = 3)"
   ]
  },
  {
   "cell_type": "markdown",
<<<<<<< HEAD
   "id": "feaf1d98",
=======
   "id": "0bc82fd6",
>>>>>>> a7a4624d075a64a802eefe49cbe9b3f120bfdaa7
   "metadata": {},
   "source": [
    "    Best model is Polynomial regression, degree 2\n",
    "    We will use this model in our unseen sample to predict logerror"
   ]
  },
  {
   "cell_type": "code",
<<<<<<< HEAD
   "execution_count": 25,
   "id": "ac906143",
   "metadata": {},
   "outputs": [],
   "source": [
    "def test_prediction(X_train,y_train,X_test,y_test,degree):\n",
    "    pf = PolynomialFeatures(degree= degree)\n",
    "    \n",
    "    # fit and transform X_train_scaled\n",
    "    X_train_degree5 = pf.fit_transform(X_train)\n",
    "    \n",
    "    X_test_degree5 = pf.transform(X_test)\n",
    "\n",
    "    # create the model object\n",
    "    lm5 = LinearRegression(normalize=True)\n",
    "\n",
    "    # fit the model to our training data. We must specify the column in y_train, \n",
    "    # since we have converted it to a dataframe from a series! \n",
    "    lm5.fit(X_train_degree5, y_train.logerror)\n",
    "\n",
    "     # predict test\n",
    "    y_test['logerror_pred_lm5'] = lm5.predict(X_test_degree5)\n",
    "\n",
    "    # evaluate: test rmse\n",
    "    rmse_test = mean_squared_error(y_test.logerror, y_test.logerror_pred_lm5)**(1/2)\n",
    "\n",
    "    print(\"RMSE for Polynomial Model, degrees=\", degree, \"\\ntest: \", rmse_test, \"\\nr^2: \", explained_variance_score(y_test.logerror,\n",
    "                                           y_test.logerror_pred_lm5))"
   ]
  },
  {
   "cell_type": "code",
   "execution_count": 26,
   "id": "6b435673",
   "metadata": {},
   "outputs": [
    {
     "data": {
      "text/html": [
       "<div>\n",
       "<style scoped>\n",
       "    .dataframe tbody tr th:only-of-type {\n",
       "        vertical-align: middle;\n",
       "    }\n",
       "\n",
       "    .dataframe tbody tr th {\n",
       "        vertical-align: top;\n",
       "    }\n",
       "\n",
       "    .dataframe thead th {\n",
       "        text-align: right;\n",
       "    }\n",
       "</style>\n",
       "<table border=\"1\" class=\"dataframe\">\n",
       "  <thead>\n",
       "    <tr style=\"text-align: right;\">\n",
       "      <th></th>\n",
       "      <th>logerror</th>\n",
       "      <th>baseline_mean</th>\n",
       "      <th>baseline_median</th>\n",
       "      <th>logerror_pred_lm</th>\n",
       "      <th>logerror_pred_lars</th>\n",
       "      <th>logerror_pred_glm</th>\n",
       "      <th>logerror_pred_lm2</th>\n",
       "    </tr>\n",
       "  </thead>\n",
       "  <tbody>\n",
       "    <tr>\n",
       "      <th>0</th>\n",
       "      <td>0.052685</td>\n",
       "      <td>0.018839</td>\n",
       "      <td>0.007208</td>\n",
       "      <td>0.018958</td>\n",
       "      <td>0.015739</td>\n",
       "      <td>0.017539</td>\n",
       "      <td>0.012886</td>\n",
       "    </tr>\n",
       "    <tr>\n",
       "      <th>1</th>\n",
       "      <td>0.040665</td>\n",
       "      <td>0.018839</td>\n",
       "      <td>0.007208</td>\n",
       "      <td>0.020606</td>\n",
       "      <td>0.015739</td>\n",
       "      <td>0.019360</td>\n",
       "      <td>0.045764</td>\n",
       "    </tr>\n",
       "    <tr>\n",
       "      <th>2</th>\n",
       "      <td>0.11114</td>\n",
       "      <td>0.018839</td>\n",
       "      <td>0.007208</td>\n",
       "      <td>0.013139</td>\n",
       "      <td>0.015739</td>\n",
       "      <td>0.014128</td>\n",
       "      <td>0.010889</td>\n",
       "    </tr>\n",
       "    <tr>\n",
       "      <th>3</th>\n",
       "      <td>0.010755</td>\n",
       "      <td>0.018839</td>\n",
       "      <td>0.007208</td>\n",
       "      <td>0.017503</td>\n",
       "      <td>0.015739</td>\n",
       "      <td>0.017196</td>\n",
       "      <td>0.013506</td>\n",
       "    </tr>\n",
       "    <tr>\n",
       "      <th>4</th>\n",
       "      <td>-0.075463</td>\n",
       "      <td>0.018839</td>\n",
       "      <td>0.007208</td>\n",
       "      <td>0.012241</td>\n",
       "      <td>0.015739</td>\n",
       "      <td>0.013244</td>\n",
       "      <td>0.002821</td>\n",
       "    </tr>\n",
       "  </tbody>\n",
       "</table>\n",
       "</div>"
      ],
      "text/plain": [
       "   logerror  baseline_mean  baseline_median  logerror_pred_lm  \\\n",
       "0  0.052685       0.018839         0.007208          0.018958   \n",
       "1  0.040665       0.018839         0.007208          0.020606   \n",
       "2   0.11114       0.018839         0.007208          0.013139   \n",
       "3  0.010755       0.018839         0.007208          0.017503   \n",
       "4 -0.075463       0.018839         0.007208          0.012241   \n",
       "\n",
       "   logerror_pred_lars  logerror_pred_glm  logerror_pred_lm2  \n",
       "0            0.015739           0.017539           0.012886  \n",
       "1            0.015739           0.019360           0.045764  \n",
       "2            0.015739           0.014128           0.010889  \n",
       "3            0.015739           0.017196           0.013506  \n",
       "4            0.015739           0.013244           0.002821  "
      ]
     },
     "execution_count": 26,
     "metadata": {},
     "output_type": "execute_result"
    }
   ],
   "source": [
    "y_validate.head()"
   ]
  },
  {
   "cell_type": "code",
   "execution_count": 27,
   "id": "056313a4",
   "metadata": {},
   "outputs": [
    {
     "data": {
      "image/png": "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\n",
      "text/plain": [
       "<Figure size 1152x576 with 1 Axes>"
      ]
     },
     "metadata": {
      "needs_background": "light"
     },
     "output_type": "display_data"
    }
   ],
   "source": [
    "\n",
    "plt.figure(figsize=(16,8))\n",
    "plt.xlim(-.25, .25)\n",
    "plt.ylim(-.25, .25)\n",
    "plt.plot(y_validate.logerror, y_validate.baseline_mean, alpha=.5, color=\"gray\", label='_nolegend_')\n",
    "plt.annotate(\"Baseline: Predict Using Mean\", (0.012, 0.012 ))\n",
    "plt.plot(y_validate.logerror, y_validate.logerror, alpha=.5, color=\"blue\", label='_nolegend_')\n",
    "plt.annotate(\"The Ideal Line: Predicted = Actual\", (.10, .12), rotation=25)\n",
    "\n",
    "\n",
    "plt.scatter(y_validate.logerror, y_validate.logerror_pred_lm2, \n",
    "            alpha=.5, color=\"green\", s=100, label=\"Model 2nd degree Polynomial\")\n",
    "plt.scatter(y_validate.logerror, y_validate.logerror_pred_lm, \n",
    "            alpha=.5, color=\"red\", s=100, label=\"Model: LinearRegression\")\n",
    "plt.scatter(y_validate.logerror, y_validate.logerror_pred_lars, \n",
    "            alpha=.5, color=\"blue\", s=100, label=\"Model: LassoLars\")\n",
    "\n",
    "\n",
    "\n",
    "plt.legend()\n",
    "plt.xlabel(\"Actual Margin of Error\")\n",
    "plt.ylabel(\"Predicted Margin of Error\")\n",
    "plt.title(\"Where are predictions more extreme? More modest?\")\n",
    "plt.show()"
=======
   "execution_count": null,
   "id": "af8d3109",
   "metadata": {},
   "outputs": [],
   "source": [
    "def test_prediction(X_test,y_test):\n",
    "\n",
    "    lars = LassoLars(alpha=0)\n",
    "    lars.fit(X_test, y_test.logerror)\n",
    "    # fit the model to our training data. We must specify the column in y_train, \n",
    "    # since we have converted it to a dataframe from a series! \n",
    "    y_test['logerror_pred_lars'] = lars.predict(X_test)\n",
    "     # predict test\n",
    "\n",
    "    # evaluate: test rmse\n",
    "    rmse_test = mean_squared_error(y_test.logerror, y_test.logerror_pred_lars)**(1/2)\n",
    "\n",
    "    print(\"RMSE for Linear Regression Model,\",\"\\ntest: \", rmse_test, \"\\nr^2: \", explained_variance_score(y_test.logerror,\n",
    "                                           y_test.logerror_pred_lars))"
>>>>>>> a7a4624d075a64a802eefe49cbe9b3f120bfdaa7
   ]
  },
  {
   "cell_type": "code",
<<<<<<< HEAD
   "execution_count": 30,
   "id": "bb9b5220",
   "metadata": {},
   "outputs": [],
   "source": [
    "def model_performance(y_validate):\n",
    "    plt.figure(figsize=(16,8))\n",
    "    plt.xlim(-.25, .25)\n",
    "    plt.ylim(-.25, .25)\n",
    "    plt.plot(y_validate.logerror, y_validate.baseline_mean, alpha=.5, color=\"gray\", label='_nolegend_')\n",
    "    plt.annotate(\"Baseline: Predict Using Mean\", (0.012, 0.012 ))\n",
    "    plt.plot(y_validate.logerror, y_validate.logerror, alpha=.5, color=\"blue\", label='_nolegend_')\n",
    "    plt.annotate(\"The Ideal Line: Predicted = Actual\", (.10, .12), rotation=25)\n",
    "\n",
    "\n",
    "    plt.scatter(y_validate.logerror, y_validate.logerror_pred_lm2, \n",
    "            alpha=.5, color=\"green\", s=100, label=\"Model 2nd degree Polynomial\")\n",
    "    plt.scatter(y_validate.logerror, y_validate.logerror_pred_lm, \n",
    "            alpha=.5, color=\"red\", s=100, label=\"Model: LinearRegression\")\n",
    "    plt.scatter(y_validate.logerror, y_validate.logerror_pred_lars, \n",
    "            alpha=.5, color=\"blue\", s=100, label=\"Model: LassoLars\")\n",
    "\n",
    "\n",
    "\n",
    "    plt.legend()\n",
    "    plt.xlabel(\"Actual Margin of Error\")\n",
    "    plt.ylabel(\"Predicted Margin of Error\")\n",
    "    plt.title(\"Where are predictions more extreme? More modest?\")\n",
    "    plt.show()"
   ]
  },
  {
   "cell_type": "code",
   "execution_count": 31,
   "id": "35288b45",
   "metadata": {},
   "outputs": [
    {
     "data": {
      "image/png": "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\n",
      "text/plain": [
       "<Figure size 1152x576 with 1 Axes>"
      ]
     },
     "metadata": {
      "needs_background": "light"
     },
     "output_type": "display_data"
    }
   ],
   "source": [
    "model_performance(y_validate)"
   ]
  },
  {
   "cell_type": "code",
   "execution_count": 32,
   "id": "2be9b88a",
   "metadata": {},
   "outputs": [
    {
     "name": "stdout",
     "output_type": "stream",
     "text": [
      "RMSE for Polynomial Model, degrees= 2 \n",
      "test:  0.1694646164582976 \n",
      "r^2:  0.0017127609760738682\n"
     ]
    }
   ],
   "source": [
    "#test predict\n",
    "\n",
    "test_prediction(X_train,y_train,X_test,y_test,degree =2)"
   ]
  },
  {
   "cell_type": "markdown",
   "id": "795d344f",
   "metadata": {},
   "source": [
    "    This model is not recommendated to use to predict logerror"
   ]
  },
  {
   "cell_type": "code",
   "execution_count": 29,
   "id": "22dcdf0c",
   "metadata": {},
   "outputs": [
    {
     "data": {
      "text/html": [
       "<div>\n",
       "<style scoped>\n",
       "    .dataframe tbody tr th:only-of-type {\n",
       "        vertical-align: middle;\n",
       "    }\n",
       "\n",
       "    .dataframe tbody tr th {\n",
       "        vertical-align: top;\n",
       "    }\n",
       "\n",
       "    .dataframe thead th {\n",
       "        text-align: right;\n",
       "    }\n",
       "</style>\n",
       "<table border=\"1\" class=\"dataframe\">\n",
       "  <thead>\n",
       "    <tr style=\"text-align: right;\">\n",
       "      <th></th>\n",
       "      <th>logerror</th>\n",
       "      <th>logerror_pred_lm5</th>\n",
       "    </tr>\n",
       "  </thead>\n",
       "  <tbody>\n",
       "    <tr>\n",
       "      <th>0</th>\n",
       "      <td>-0.018377</td>\n",
       "      <td>0.014401</td>\n",
       "    </tr>\n",
       "    <tr>\n",
       "      <th>1</th>\n",
       "      <td>0.012716</td>\n",
       "      <td>0.007287</td>\n",
       "    </tr>\n",
       "    <tr>\n",
       "      <th>2</th>\n",
       "      <td>0.014778</td>\n",
       "      <td>0.021130</td>\n",
       "    </tr>\n",
       "    <tr>\n",
       "      <th>3</th>\n",
       "      <td>0.024403</td>\n",
       "      <td>0.013453</td>\n",
       "    </tr>\n",
       "    <tr>\n",
       "      <th>4</th>\n",
       "      <td>-0.04004</td>\n",
       "      <td>0.013445</td>\n",
       "    </tr>\n",
       "  </tbody>\n",
       "</table>\n",
       "</div>"
      ],
      "text/plain": [
       "   logerror  logerror_pred_lm5\n",
       "0 -0.018377           0.014401\n",
       "1  0.012716           0.007287\n",
       "2  0.014778           0.021130\n",
       "3  0.024403           0.013453\n",
       "4  -0.04004           0.013445"
      ]
     },
     "execution_count": 29,
     "metadata": {},
     "output_type": "execute_result"
    }
   ],
   "source": [
    "#peek the actual vs predicted logerror\n",
    "y_test.head()"
   ]
  },
  {
   "cell_type": "code",
   "execution_count": null,
   "id": "80f5faf7",
   "metadata": {},
   "outputs": [],
   "source": [
    "Conclusion:\n",
    "All models performed better than the baseline, even if not by much\n",
    "\n",
    "I would like to look deeper into other clusters with better features"
   ]
  },
  {
   "cell_type": "code",
   "execution_count": null,
   "id": "3a9c8095",
   "metadata": {},
   "outputs": [],
   "source": []
  },
  {
   "cell_type": "code",
   "execution_count": null,
   "id": "1a133ab5",
   "metadata": {},
   "outputs": [],
   "source": []
  },
  {
   "cell_type": "code",
   "execution_count": null,
   "id": "67cd0e74",
   "metadata": {},
   "outputs": [],
   "source": []
  },
  {
   "cell_type": "code",
   "execution_count": null,
   "id": "ab5d1965",
   "metadata": {},
   "outputs": [],
   "source": []
  },
  {
   "cell_type": "code",
   "execution_count": null,
   "id": "880923b0",
   "metadata": {},
   "outputs": [],
   "source": []
  },
  {
   "cell_type": "code",
   "execution_count": null,
   "id": "922cf0de",
   "metadata": {},
   "outputs": [],
   "source": []
  },
  {
   "cell_type": "code",
   "execution_count": 2,
   "id": "d5a9a842",
   "metadata": {},
   "outputs": [],
   "source": [
    "zillow = wrangle.acquire_zillow()"
   ]
  },
  {
   "cell_type": "code",
   "execution_count": 3,
   "id": "dae30504",
   "metadata": {},
   "outputs": [
    {
     "data": {
      "text/html": [
       "<div>\n",
       "<style scoped>\n",
       "    .dataframe tbody tr th:only-of-type {\n",
       "        vertical-align: middle;\n",
       "    }\n",
       "\n",
       "    .dataframe tbody tr th {\n",
       "        vertical-align: top;\n",
       "    }\n",
       "\n",
       "    .dataframe thead th {\n",
       "        text-align: right;\n",
       "    }\n",
       "</style>\n",
       "<table border=\"1\" class=\"dataframe\">\n",
       "  <thead>\n",
       "    <tr style=\"text-align: right;\">\n",
       "      <th></th>\n",
       "      <th>id</th>\n",
       "      <th>parcelid</th>\n",
       "      <th>airconditioningtypeid</th>\n",
       "      <th>architecturalstyletypeid</th>\n",
       "      <th>basementsqft</th>\n",
       "      <th>bathroomcnt</th>\n",
       "      <th>bedroomcnt</th>\n",
       "      <th>buildingclasstypeid</th>\n",
       "      <th>buildingqualitytypeid</th>\n",
       "      <th>calculatedbathnbr</th>\n",
       "      <th>...</th>\n",
       "      <th>censustractandblock</th>\n",
       "      <th>logerror</th>\n",
       "      <th>transactiondate</th>\n",
       "      <th>airconditioningdesc</th>\n",
       "      <th>architecturalstyledesc</th>\n",
       "      <th>buildingclassdesc</th>\n",
       "      <th>heatingorsystemdesc</th>\n",
       "      <th>propertylandusedesc</th>\n",
       "      <th>storydesc</th>\n",
       "      <th>typeconstructiondesc</th>\n",
       "    </tr>\n",
       "  </thead>\n",
       "  <tbody>\n",
       "    <tr>\n",
       "      <th>0</th>\n",
       "      <td>1727539</td>\n",
       "      <td>14297519</td>\n",
       "      <td>NaN</td>\n",
       "      <td>NaN</td>\n",
       "      <td>NaN</td>\n",
       "      <td>3.5</td>\n",
       "      <td>4.0</td>\n",
       "      <td>NaN</td>\n",
       "      <td>NaN</td>\n",
       "      <td>3.5</td>\n",
       "      <td>...</td>\n",
       "      <td>6.059063e+13</td>\n",
       "      <td>0.025595</td>\n",
       "      <td>2017-01-01</td>\n",
       "      <td>NaN</td>\n",
       "      <td>NaN</td>\n",
       "      <td>NaN</td>\n",
       "      <td>NaN</td>\n",
       "      <td>Single Family Residential</td>\n",
       "      <td>NaN</td>\n",
       "      <td>NaN</td>\n",
       "    </tr>\n",
       "  </tbody>\n",
       "</table>\n",
       "<p>1 rows × 68 columns</p>\n",
       "</div>"
      ],
      "text/plain": [
       "        id  parcelid  airconditioningtypeid  architecturalstyletypeid  \\\n",
       "0  1727539  14297519                    NaN                       NaN   \n",
       "\n",
       "   basementsqft  bathroomcnt  bedroomcnt  buildingclasstypeid  \\\n",
       "0           NaN          3.5         4.0                  NaN   \n",
       "\n",
       "   buildingqualitytypeid  calculatedbathnbr  ...  censustractandblock  \\\n",
       "0                    NaN                3.5  ...         6.059063e+13   \n",
       "\n",
       "   logerror  transactiondate  airconditioningdesc  architecturalstyledesc  \\\n",
       "0  0.025595       2017-01-01                  NaN                     NaN   \n",
       "\n",
       "   buildingclassdesc  heatingorsystemdesc        propertylandusedesc  \\\n",
       "0                NaN                  NaN  Single Family Residential   \n",
       "\n",
       "   storydesc  typeconstructiondesc  \n",
       "0        NaN                   NaN  \n",
       "\n",
       "[1 rows x 68 columns]"
      ]
     },
     "execution_count": 3,
     "metadata": {},
     "output_type": "execute_result"
    }
   ],
   "source": [
    "zillow.head(1)"
   ]
  },
  {
   "cell_type": "code",
   "execution_count": 4,
   "id": "13f6a122",
   "metadata": {},
   "outputs": [],
   "source": [
    "train_validate, zillow_test = train_test_split(zillow, test_size=.2, random_state=123)\n",
    "zillow_train, zillow_validate = train_test_split(train_validate, test_size=.3, random_state=123)"
   ]
  },
  {
   "cell_type": "code",
   "execution_count": 5,
   "id": "5d4d7fcf",
   "metadata": {},
   "outputs": [
    {
     "data": {
      "text/html": [
       "<div>\n",
       "<style scoped>\n",
       "    .dataframe tbody tr th:only-of-type {\n",
       "        vertical-align: middle;\n",
       "    }\n",
       "\n",
       "    .dataframe tbody tr th {\n",
       "        vertical-align: top;\n",
       "    }\n",
       "\n",
       "    .dataframe thead th {\n",
       "        text-align: right;\n",
       "    }\n",
       "</style>\n",
       "<table border=\"1\" class=\"dataframe\">\n",
       "  <thead>\n",
       "    <tr style=\"text-align: right;\">\n",
       "      <th></th>\n",
       "      <th>id</th>\n",
       "      <th>parcelid</th>\n",
       "      <th>airconditioningtypeid</th>\n",
       "      <th>architecturalstyletypeid</th>\n",
       "      <th>basementsqft</th>\n",
       "      <th>bathroomcnt</th>\n",
       "      <th>bedroomcnt</th>\n",
       "      <th>buildingclasstypeid</th>\n",
       "      <th>buildingqualitytypeid</th>\n",
       "      <th>calculatedbathnbr</th>\n",
       "      <th>...</th>\n",
       "      <th>censustractandblock</th>\n",
       "      <th>logerror</th>\n",
       "      <th>transactiondate</th>\n",
       "      <th>airconditioningdesc</th>\n",
       "      <th>architecturalstyledesc</th>\n",
       "      <th>buildingclassdesc</th>\n",
       "      <th>heatingorsystemdesc</th>\n",
       "      <th>propertylandusedesc</th>\n",
       "      <th>storydesc</th>\n",
       "      <th>typeconstructiondesc</th>\n",
       "    </tr>\n",
       "  </thead>\n",
       "  <tbody>\n",
       "    <tr>\n",
       "      <th>14505</th>\n",
       "      <td>1892640</td>\n",
       "      <td>14710878</td>\n",
       "      <td>NaN</td>\n",
       "      <td>NaN</td>\n",
       "      <td>NaN</td>\n",
       "      <td>2.0</td>\n",
       "      <td>2.0</td>\n",
       "      <td>NaN</td>\n",
       "      <td>NaN</td>\n",
       "      <td>2.0</td>\n",
       "      <td>...</td>\n",
       "      <td>6.059042e+13</td>\n",
       "      <td>0.022773</td>\n",
       "      <td>2017-03-05</td>\n",
       "      <td>NaN</td>\n",
       "      <td>NaN</td>\n",
       "      <td>NaN</td>\n",
       "      <td>NaN</td>\n",
       "      <td>Condominium</td>\n",
       "      <td>NaN</td>\n",
       "      <td>NaN</td>\n",
       "    </tr>\n",
       "  </tbody>\n",
       "</table>\n",
       "<p>1 rows × 68 columns</p>\n",
       "</div>"
      ],
      "text/plain": [
       "            id  parcelid  airconditioningtypeid  architecturalstyletypeid  \\\n",
       "14505  1892640  14710878                    NaN                       NaN   \n",
       "\n",
       "       basementsqft  bathroomcnt  bedroomcnt  buildingclasstypeid  \\\n",
       "14505           NaN          2.0         2.0                  NaN   \n",
       "\n",
       "       buildingqualitytypeid  calculatedbathnbr  ...  censustractandblock  \\\n",
       "14505                    NaN                2.0  ...         6.059042e+13   \n",
       "\n",
       "       logerror  transactiondate  airconditioningdesc  architecturalstyledesc  \\\n",
       "14505  0.022773       2017-03-05                  NaN                     NaN   \n",
       "\n",
       "       buildingclassdesc  heatingorsystemdesc  propertylandusedesc  storydesc  \\\n",
       "14505                NaN                  NaN          Condominium        NaN   \n",
       "\n",
       "       typeconstructiondesc  \n",
       "14505                   NaN  \n",
       "\n",
       "[1 rows x 68 columns]"
      ]
     },
     "execution_count": 5,
     "metadata": {},
     "output_type": "execute_result"
    }
   ],
   "source": [
    "zillow_train.head(1)"
   ]
  },
  {
   "cell_type": "code",
   "execution_count": 6,
   "id": "00ef3297",
   "metadata": {},
   "outputs": [
    {
     "name": "stdout",
     "output_type": "stream",
     "text": [
      "<class 'pandas.core.frame.DataFrame'>\n",
      "Int64Index: 43332 entries, 14505 to 54422\n",
      "Data columns (total 68 columns):\n",
      " #   Column                        Non-Null Count  Dtype  \n",
      "---  ------                        --------------  -----  \n",
      " 0   id                            43332 non-null  int64  \n",
      " 1   parcelid                      43332 non-null  int64  \n",
      " 2   airconditioningtypeid         13989 non-null  float64\n",
      " 3   architecturalstyletypeid      112 non-null    float64\n",
      " 4   basementsqft                  26 non-null     float64\n",
      " 5   bathroomcnt                   43332 non-null  float64\n",
      " 6   bedroomcnt                    43332 non-null  float64\n",
      " 7   buildingclasstypeid           6 non-null      float64\n",
      " 8   buildingqualitytypeid         27958 non-null  float64\n",
      " 9   calculatedbathnbr             42982 non-null  float64\n",
      " 10  decktypeid                    332 non-null    float64\n",
      " 11  finishedfloor1squarefeet      3332 non-null   float64\n",
      " 12  calculatedfinishedsquarefeet  43216 non-null  float64\n",
      " 13  finishedsquarefeet12          41239 non-null  float64\n",
      " 14  finishedsquarefeet13          20 non-null     float64\n",
      " 15  finishedsquarefeet15          1722 non-null   float64\n",
      " 16  finishedsquarefeet50          3332 non-null   float64\n",
      " 17  finishedsquarefeet6           235 non-null    float64\n",
      " 18  fips                          43332 non-null  float64\n",
      " 19  fireplacecnt                  4581 non-null   float64\n",
      " 20  fullbathcnt                   42982 non-null  float64\n",
      " 21  garagecarcnt                  14075 non-null  float64\n",
      " 22  garagetotalsqft               14075 non-null  float64\n",
      " 23  hashottuborspa                855 non-null    float64\n",
      " 24  heatingorsystemtypeid         27886 non-null  float64\n",
      " 25  latitude                      43332 non-null  float64\n",
      " 26  longitude                     43332 non-null  float64\n",
      " 27  lotsizesquarefeet             38769 non-null  float64\n",
      " 28  poolcnt                       9030 non-null   float64\n",
      " 29  poolsizesum                   479 non-null    float64\n",
      " 30  pooltypeid10                  249 non-null    float64\n",
      " 31  pooltypeid2                   606 non-null    float64\n",
      " 32  pooltypeid7                   8415 non-null   float64\n",
      " 33  propertycountylandusecode     43332 non-null  object \n",
      " 34  propertylandusetypeid         43332 non-null  float64\n",
      " 35  propertyzoningdesc            28360 non-null  object \n",
      " 36  rawcensustractandblock        43332 non-null  float64\n",
      " 37  regionidcity                  42503 non-null  float64\n",
      " 38  regionidcounty                43332 non-null  float64\n",
      " 39  regionidneighborhood          17303 non-null  float64\n",
      " 40  regionidzip                   43303 non-null  float64\n",
      " 41  roomcnt                       43332 non-null  float64\n",
      " 42  storytypeid                   26 non-null     float64\n",
      " 43  threequarterbathnbr           5539 non-null   float64\n",
      " 44  typeconstructiontypeid        121 non-null    float64\n",
      " 45  unitcnt                       28481 non-null  float64\n",
      " 46  yardbuildingsqft17            1309 non-null   float64\n",
      " 47  yardbuildingsqft26            41 non-null     float64\n",
      " 48  yearbuilt                     43175 non-null  float64\n",
      " 49  numberofstories               9711 non-null   float64\n",
      " 50  fireplaceflag                 84 non-null     float64\n",
      " 51  structuretaxvaluedollarcnt    43264 non-null  float64\n",
      " 52  taxvaluedollarcnt             43332 non-null  float64\n",
      " 53  assessmentyear                43332 non-null  float64\n",
      " 54  landtaxvaluedollarcnt         43331 non-null  float64\n",
      " 55  taxamount                     43329 non-null  float64\n",
      " 56  taxdelinquencyflag            1609 non-null   object \n",
      " 57  taxdelinquencyyear            1609 non-null   float64\n",
      " 58  censustractandblock           43192 non-null  float64\n",
      " 59  logerror                      43332 non-null  float64\n",
      " 60  transactiondate               43332 non-null  object \n",
      " 61  airconditioningdesc           13989 non-null  object \n",
      " 62  architecturalstyledesc        112 non-null    object \n",
      " 63  buildingclassdesc             6 non-null      object \n",
      " 64  heatingorsystemdesc           27886 non-null  object \n",
      " 65  propertylandusedesc           43332 non-null  object \n",
      " 66  storydesc                     26 non-null     object \n",
      " 67  typeconstructiondesc          121 non-null    object \n",
      "dtypes: float64(55), int64(2), object(11)\n",
      "memory usage: 22.8+ MB\n"
     ]
    }
   ],
   "source": [
    "zillow_train.info()"
   ]
  },
  {
   "cell_type": "code",
   "execution_count": 7,
   "id": "ea7eab1c",
   "metadata": {},
   "outputs": [],
   "source": [
    "num_col = [col for col in zillow.columns if col in zillow.select_dtypes(include = [\"number\"])]\n",
    "imp = SimpleImputer(strategy=\"mean\")\n",
    "zillow_train =pd.DataFrame(imp.fit_transform(zillow_train[num_col]))\n"
   ]
  },
  {
   "cell_type": "code",
   "execution_count": 8,
   "id": "3c8909cf",
   "metadata": {},
   "outputs": [
    {
     "name": "stdout",
     "output_type": "stream",
     "text": [
      "<class 'pandas.core.frame.DataFrame'>\n",
      "RangeIndex: 43332 entries, 0 to 43331\n",
      "Data columns (total 57 columns):\n",
      " #   Column  Non-Null Count  Dtype  \n",
      "---  ------  --------------  -----  \n",
      " 0   0       43332 non-null  float64\n",
      " 1   1       43332 non-null  float64\n",
      " 2   2       43332 non-null  float64\n",
      " 3   3       43332 non-null  float64\n",
      " 4   4       43332 non-null  float64\n",
      " 5   5       43332 non-null  float64\n",
      " 6   6       43332 non-null  float64\n",
      " 7   7       43332 non-null  float64\n",
      " 8   8       43332 non-null  float64\n",
      " 9   9       43332 non-null  float64\n",
      " 10  10      43332 non-null  float64\n",
      " 11  11      43332 non-null  float64\n",
      " 12  12      43332 non-null  float64\n",
      " 13  13      43332 non-null  float64\n",
      " 14  14      43332 non-null  float64\n",
      " 15  15      43332 non-null  float64\n",
      " 16  16      43332 non-null  float64\n",
      " 17  17      43332 non-null  float64\n",
      " 18  18      43332 non-null  float64\n",
      " 19  19      43332 non-null  float64\n",
      " 20  20      43332 non-null  float64\n",
      " 21  21      43332 non-null  float64\n",
      " 22  22      43332 non-null  float64\n",
      " 23  23      43332 non-null  float64\n",
      " 24  24      43332 non-null  float64\n",
      " 25  25      43332 non-null  float64\n",
      " 26  26      43332 non-null  float64\n",
      " 27  27      43332 non-null  float64\n",
      " 28  28      43332 non-null  float64\n",
      " 29  29      43332 non-null  float64\n",
      " 30  30      43332 non-null  float64\n",
      " 31  31      43332 non-null  float64\n",
      " 32  32      43332 non-null  float64\n",
      " 33  33      43332 non-null  float64\n",
      " 34  34      43332 non-null  float64\n",
      " 35  35      43332 non-null  float64\n",
      " 36  36      43332 non-null  float64\n",
      " 37  37      43332 non-null  float64\n",
      " 38  38      43332 non-null  float64\n",
      " 39  39      43332 non-null  float64\n",
      " 40  40      43332 non-null  float64\n",
      " 41  41      43332 non-null  float64\n",
      " 42  42      43332 non-null  float64\n",
      " 43  43      43332 non-null  float64\n",
      " 44  44      43332 non-null  float64\n",
      " 45  45      43332 non-null  float64\n",
      " 46  46      43332 non-null  float64\n",
      " 47  47      43332 non-null  float64\n",
      " 48  48      43332 non-null  float64\n",
      " 49  49      43332 non-null  float64\n",
      " 50  50      43332 non-null  float64\n",
      " 51  51      43332 non-null  float64\n",
      " 52  52      43332 non-null  float64\n",
      " 53  53      43332 non-null  float64\n",
      " 54  54      43332 non-null  float64\n",
      " 55  55      43332 non-null  float64\n",
      " 56  56      43332 non-null  float64\n",
      "dtypes: float64(57)\n",
      "memory usage: 18.8 MB\n"
     ]
    }
   ],
   "source": [
    "zillow_train.info()"
   ]
  },
  {
   "cell_type": "code",
   "execution_count": 17,
   "id": "40b80bae",
   "metadata": {},
   "outputs": [
    {
     "data": {
      "text/plain": [
       "0     0\n",
       "1     0\n",
       "2     0\n",
       "3     0\n",
       "4     0\n",
       "5     0\n",
       "6     0\n",
       "7     0\n",
       "8     0\n",
       "9     0\n",
       "10    0\n",
       "11    0\n",
       "12    0\n",
       "13    0\n",
       "14    0\n",
       "15    0\n",
       "16    0\n",
       "17    0\n",
       "18    0\n",
       "19    0\n",
       "20    0\n",
       "21    0\n",
       "22    0\n",
       "23    0\n",
       "24    0\n",
       "25    0\n",
       "26    0\n",
       "27    0\n",
       "28    0\n",
       "29    0\n",
       "30    0\n",
       "31    0\n",
       "32    0\n",
       "33    0\n",
       "34    0\n",
       "35    0\n",
       "36    0\n",
       "37    0\n",
       "38    0\n",
       "39    0\n",
       "40    0\n",
       "41    0\n",
       "42    0\n",
       "43    0\n",
       "44    0\n",
       "45    0\n",
       "46    0\n",
       "47    0\n",
       "48    0\n",
       "49    0\n",
       "50    0\n",
       "51    0\n",
       "52    0\n",
       "53    0\n",
       "54    0\n",
       "55    0\n",
       "56    0\n",
       "dtype: int64"
      ]
     },
     "execution_count": 17,
     "metadata": {},
     "output_type": "execute_result"
    }
   ],
   "source": [
    "zillow_train.isnull().sum().sum()"
   ]
  },
  {
   "cell_type": "code",
   "execution_count": null,
   "id": "135e350a",
   "metadata": {},
   "outputs": [],
   "source": [
    "#zillow_validate=imp.fit_transform(zillow_validate)\n",
    "#zillow_test=imp.fit_transform(zillow_test)"
   ]
=======
   "execution_count": null,
   "id": "01a18037",
   "metadata": {},
   "outputs": [],
   "source": [
    "#test predict\n",
    "\n",
    "test_prediction(X_test,y_test)"
   ]
  },
  {
   "cell_type": "code",
   "execution_count": null,
   "id": "3762e11c",
   "metadata": {},
   "outputs": [],
   "source": []
  },
  {
   "cell_type": "code",
   "execution_count": null,
   "id": "71125436",
   "metadata": {},
   "outputs": [],
   "source": []
>>>>>>> a7a4624d075a64a802eefe49cbe9b3f120bfdaa7
  }
 ],
 "metadata": {
  "kernelspec": {
   "display_name": "Python 3 (ipykernel)",
   "language": "python",
   "name": "python3"
  },
  "language_info": {
   "codemirror_mode": {
    "name": "ipython",
    "version": 3
   },
   "file_extension": ".py",
   "mimetype": "text/x-python",
   "name": "python",
   "nbconvert_exporter": "python",
   "pygments_lexer": "ipython3",
   "version": "3.9.12"
  }
 },
 "nbformat": 4,
 "nbformat_minor": 5
}
