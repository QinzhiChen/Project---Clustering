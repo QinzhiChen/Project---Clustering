{
 "cells": [
  {
   "cell_type": "code",
   "execution_count": 31,
   "id": "cc951e81",
   "metadata": {},
   "outputs": [],
   "source": [
    "import wrangle\n",
    "\n",
    "import warnings\n",
    "warnings.filterwarnings(\"ignore\")\n",
    "from sklearn.model_selection import train_test_split\n",
    "from sklearn.impute import SimpleImputer\n",
    "from sklearn.preprocessing import MinMaxScaler, StandardScaler, RobustScaler, QuantileTransformer\n",
    "from env import user, password, host\n",
    "import env\n",
    "from sklearn.feature_selection import SelectKBest, f_regression, RFE\n",
    "from sklearn.linear_model import LinearRegression,LassoLars, TweedieRegressor\n",
    "from sklearn.preprocessing import PolynomialFeatures\n",
    "from sklearn.metrics import mean_squared_error,explained_variance_score\n",
    "import pandas as pd\n",
    "import matplotlib.pyplot as plt\n",
    "import seaborn as sns\n",
    "import numpy as np\n",
    "import os\n",
    "import csv\n",
    "#import acquire\n",
    "import modeling\n",
    "from sklearn.metrics import mean_squared_error\n",
    "from sklearn.metrics import r2_score"
   ]
  },
  {
   "cell_type": "code",
   "execution_count": 2,
   "id": "6b3c7f02",
   "metadata": {},
   "outputs": [],
   "source": [
    "zillow_train,zillow_validate,zillow_test=wrangle.wrangled_file()"
   ]
  },
  {
   "cell_type": "code",
   "execution_count": 3,
   "id": "bebbb74b",
   "metadata": {},
   "outputs": [
    {
     "data": {
      "text/plain": [
       "((42993, 30), (18426, 30), (15355, 30))"
      ]
     },
     "execution_count": 3,
     "metadata": {},
     "output_type": "execute_result"
    }
   ],
   "source": [
    "zillow_train.shape,zillow_validate.shape,zillow_test.shape"
   ]
  },
  {
   "cell_type": "code",
   "execution_count": 4,
   "id": "3fceeb1d",
   "metadata": {},
   "outputs": [],
   "source": [
    "#use function to scale features and concat them back to dataframe\n",
    "scaled_train,scaled_validate,scaled_test = modeling.scale_data(zillow_train,zillow_validate,zillow_test,cols=['bedroom','bathroom','age','month','taxrate'])"
   ]
  },
  {
   "cell_type": "code",
   "execution_count": 5,
   "id": "98fa3b18",
   "metadata": {},
   "outputs": [
    {
     "data": {
      "text/html": [
       "<div>\n",
       "<style scoped>\n",
       "    .dataframe tbody tr th:only-of-type {\n",
       "        vertical-align: middle;\n",
       "    }\n",
       "\n",
       "    .dataframe tbody tr th {\n",
       "        vertical-align: top;\n",
       "    }\n",
       "\n",
       "    .dataframe thead th {\n",
       "        text-align: right;\n",
       "    }\n",
       "</style>\n",
       "<table border=\"1\" class=\"dataframe\">\n",
       "  <thead>\n",
       "    <tr style=\"text-align: right;\">\n",
       "      <th></th>\n",
       "      <th>bathroom</th>\n",
       "      <th>bedroom</th>\n",
       "      <th>calculatedbathnbr</th>\n",
       "      <th>sqtft</th>\n",
       "      <th>finishedsquarefeet12</th>\n",
       "      <th>fips</th>\n",
       "      <th>fullbathcnt</th>\n",
       "      <th>latitude</th>\n",
       "      <th>longitude</th>\n",
       "      <th>lots</th>\n",
       "      <th>...</th>\n",
       "      <th>propertylandusedesc</th>\n",
       "      <th>county</th>\n",
       "      <th>taxrate</th>\n",
       "      <th>month</th>\n",
       "      <th>age</th>\n",
       "      <th>bedroom_scaled</th>\n",
       "      <th>bathroom_scaled</th>\n",
       "      <th>age_scaled</th>\n",
       "      <th>month_scaled</th>\n",
       "      <th>taxrate_scaled</th>\n",
       "    </tr>\n",
       "  </thead>\n",
       "  <tbody>\n",
       "    <tr>\n",
       "      <th>0</th>\n",
       "      <td>3.0</td>\n",
       "      <td>3.0</td>\n",
       "      <td>3.0</td>\n",
       "      <td>1882.0</td>\n",
       "      <td>1882.0</td>\n",
       "      <td>6037.0</td>\n",
       "      <td>3.0</td>\n",
       "      <td>33890566.0</td>\n",
       "      <td>-118154278.0</td>\n",
       "      <td>15090.0</td>\n",
       "      <td>...</td>\n",
       "      <td>Condominium</td>\n",
       "      <td>Los Angeles County, CA</td>\n",
       "      <td>0.013491</td>\n",
       "      <td>5</td>\n",
       "      <td>30.0</td>\n",
       "      <td>0.214286</td>\n",
       "      <td>0.166667</td>\n",
       "      <td>0.16</td>\n",
       "      <td>0.5</td>\n",
       "      <td>0.01641</td>\n",
       "    </tr>\n",
       "  </tbody>\n",
       "</table>\n",
       "<p>1 rows × 35 columns</p>\n",
       "</div>"
      ],
      "text/plain": [
       "  bathroom bedroom calculatedbathnbr   sqtft finishedsquarefeet12    fips  \\\n",
       "0      3.0     3.0               3.0  1882.0               1882.0  6037.0   \n",
       "\n",
       "  fullbathcnt    latitude    longitude     lots  ... propertylandusedesc  \\\n",
       "0         3.0  33890566.0 -118154278.0  15090.0  ...         Condominium   \n",
       "\n",
       "                   county   taxrate month   age bedroom_scaled  \\\n",
       "0  Los Angeles County, CA  0.013491     5  30.0       0.214286   \n",
       "\n",
       "  bathroom_scaled age_scaled month_scaled taxrate_scaled  \n",
       "0        0.166667       0.16          0.5        0.01641  \n",
       "\n",
       "[1 rows x 35 columns]"
      ]
     },
     "execution_count": 5,
     "metadata": {},
     "output_type": "execute_result"
    }
   ],
   "source": [
    "scaled_train.head(1)"
   ]
  },
  {
   "cell_type": "code",
   "execution_count": 8,
   "id": "c059eef1",
   "metadata": {},
   "outputs": [
    {
     "data": {
      "text/plain": [
       "Index(['bathroom', 'bedroom', 'calculatedbathnbr', 'sqtft',\n",
       "       'finishedsquarefeet12', 'fips', 'fullbathcnt', 'latitude', 'longitude',\n",
       "       'lots', 'propertycountylandusecode', 'propertyzoningdesc',\n",
       "       'rawcensustractandblock', 'zipcode', 'roomcnt', 'unitcnt', 'yearbuilt',\n",
       "       'structuretaxvaluedollarcnt', 'taxvalue', 'assessmentyear',\n",
       "       'landtaxvaluedollarcnt', 'taxamount', 'censustractandblock', 'logerror',\n",
       "       'heatingorsystemdesc', 'propertylandusedesc', 'county', 'taxrate',\n",
       "       'month', 'age', 'bedroom_scaled', 'bathroom_scaled', 'age_scaled',\n",
       "       'month_scaled', 'taxrate_scaled'],\n",
       "      dtype='object')"
      ]
     },
     "execution_count": 8,
     "metadata": {},
     "output_type": "execute_result"
    }
   ],
   "source": [
    "scaled_train.columns"
   ]
  },
  {
   "cell_type": "code",
   "execution_count": 8,
   "id": "16525a3d",
   "metadata": {},
   "outputs": [],
   "source": [
    "features = ['bedroom_scaled', 'bathroom_scaled', 'age_scaled','month_scaled', 'taxrate']\n",
    "target = [\"logerror\"]\n",
    "X_train = scaled_train[features]\n",
    "y_train = scaled_train[target]\n",
    "X_validate = scaled_validate[features]\n",
    "y_validate = scaled_validate[target]\n",
    "X_test = scaled_test[features]\n",
    "y_test = scaled_test[target]"
   ]
  },
  {
   "cell_type": "code",
   "execution_count": 9,
   "id": "3a147dab",
   "metadata": {},
   "outputs": [
    {
     "data": {
      "text/html": [
       "<div>\n",
       "<style scoped>\n",
       "    .dataframe tbody tr th:only-of-type {\n",
       "        vertical-align: middle;\n",
       "    }\n",
       "\n",
       "    .dataframe tbody tr th {\n",
       "        vertical-align: top;\n",
       "    }\n",
       "\n",
       "    .dataframe thead th {\n",
       "        text-align: right;\n",
       "    }\n",
       "</style>\n",
       "<table border=\"1\" class=\"dataframe\">\n",
       "  <thead>\n",
       "    <tr style=\"text-align: right;\">\n",
       "      <th></th>\n",
       "      <th>bedroom_scaled</th>\n",
       "      <th>bathroom_scaled</th>\n",
       "      <th>age_scaled</th>\n",
       "      <th>month_scaled</th>\n",
       "      <th>taxrate</th>\n",
       "    </tr>\n",
       "  </thead>\n",
       "  <tbody>\n",
       "    <tr>\n",
       "      <th>0</th>\n",
       "      <td>0.214286</td>\n",
       "      <td>0.166667</td>\n",
       "      <td>0.16</td>\n",
       "      <td>0.5</td>\n",
       "      <td>0.013491</td>\n",
       "    </tr>\n",
       "  </tbody>\n",
       "</table>\n",
       "</div>"
      ],
      "text/plain": [
       "   bedroom_scaled  bathroom_scaled  age_scaled  month_scaled   taxrate\n",
       "0        0.214286         0.166667        0.16           0.5  0.013491"
      ]
     },
     "execution_count": 9,
     "metadata": {},
     "output_type": "execute_result"
    }
   ],
   "source": [
    "X_train.head(1)"
   ]
  },
  {
   "cell_type": "code",
   "execution_count": 10,
   "id": "376607c9",
   "metadata": {},
   "outputs": [
    {
     "data": {
      "text/html": [
       "<div>\n",
       "<style scoped>\n",
       "    .dataframe tbody tr th:only-of-type {\n",
       "        vertical-align: middle;\n",
       "    }\n",
       "\n",
       "    .dataframe tbody tr th {\n",
       "        vertical-align: top;\n",
       "    }\n",
       "\n",
       "    .dataframe thead th {\n",
       "        text-align: right;\n",
       "    }\n",
       "</style>\n",
       "<table border=\"1\" class=\"dataframe\">\n",
       "  <thead>\n",
       "    <tr style=\"text-align: right;\">\n",
       "      <th></th>\n",
       "      <th>logerror</th>\n",
       "    </tr>\n",
       "  </thead>\n",
       "  <tbody>\n",
       "    <tr>\n",
       "      <th>0</th>\n",
       "      <td>0.112968</td>\n",
       "    </tr>\n",
       "  </tbody>\n",
       "</table>\n",
       "</div>"
      ],
      "text/plain": [
       "   logerror\n",
       "0  0.112968"
      ]
     },
     "execution_count": 10,
     "metadata": {},
     "output_type": "execute_result"
    }
   ],
   "source": [
    "y_train.head(1)"
   ]
  },
  {
   "cell_type": "code",
   "execution_count": 11,
   "id": "e806ca0e",
   "metadata": {},
   "outputs": [],
   "source": [
    "#apply baseline value to train and validate\n",
    "y_train[\"baseline_mean\"] = y_train.logerror.mean()\n",
    "y_train[\"baseline_median\"] =y_train.logerror.median()\n",
    "y_validate[\"baseline_mean\"] = y_validate.logerror.mean()\n",
    "y_validate[\"baseline_median\"] =y_validate.logerror.median()"
   ]
  },
  {
   "cell_type": "code",
   "execution_count": 12,
   "id": "7de15434",
   "metadata": {},
   "outputs": [],
   "source": [
    "\n",
    "#calculate rmse using actual and baseline mean\n",
    "def get_baseline(y_train,y_validate):\n",
    "    RMSE_train_mean=mean_squared_error(y_train.logerror,y_train.baseline_mean, squared = False)\n",
    "    RMSE_validate_mean=mean_squared_error(y_validate.logerror,y_validate.baseline_mean, squared = False)\n",
    "\n",
    "    print(\"RMSE using Mean on \\nTrain: \", round(RMSE_train_mean,8), \"\\nValidate: \", round(RMSE_validate_mean,8))\n",
    "    print()\n",
    "\n",
    "#calculate rmse using actual and baseline mean\n",
    "    RMSE_train_median= mean_squared_error(y_train.logerror,y_train.baseline_median, squared = False)\n",
    "    RMSE_validate_median= mean_squared_error(y_validate.logerror,y_validate.baseline_median, squared = False)\n",
    "\n",
    "    print(\"RMSE using Median on \\nTrain: \", round(RMSE_train_median,8), \"\\nValidate: \", round(RMSE_validate_median,8))\n"
   ]
  },
  {
   "cell_type": "code",
   "execution_count": 13,
   "id": "77e4bf1e",
   "metadata": {},
   "outputs": [
    {
     "name": "stdout",
     "output_type": "stream",
     "text": [
      "RMSE using Mean on \n",
      "Train:  0.16577148 \n",
      "Validate:  0.17664516\n",
      "\n",
      "RMSE using Median on \n",
      "Train:  0.16603937 \n",
      "Validate:  0.17702764\n"
     ]
    }
   ],
   "source": [
    "get_baseline(y_train,y_validate)"
   ]
  },
  {
   "cell_type": "markdown",
   "id": "16af0dd0",
   "metadata": {},
   "source": [
    "    since rmse using mean is smaller, we use mean for baseline rmse"
   ]
  },
  {
   "cell_type": "code",
   "execution_count": 14,
   "id": "309e7588",
   "metadata": {},
   "outputs": [
    {
     "data": {
      "image/png": "[encoded data removed]",
      "text/plain": [
       "<Figure size 432x288 with 1 Axes>"
      ]
     },
     "metadata": {
      "needs_background": "light"
     },
     "output_type": "display_data"
    }
   ],
   "source": [
    "# peek at the distribution of my target varaible\n",
    "sns.histplot(y_train.logerror)\n",
    "plt.title('Distribution of logerror')\n",
    "plt.show()"
   ]
  },
  {
   "cell_type": "markdown",
   "id": "7ffc300b",
   "metadata": {},
   "source": [
    "### Linear regression"
   ]
  },
  {
   "cell_type": "code",
   "execution_count": 15,
   "id": "dff589b0",
   "metadata": {},
   "outputs": [],
   "source": [
    "def linear_regression(X_train,y_train,X_validate,y_validate):\n",
    "\n",
    "    # create the model object\n",
    "    lm = LinearRegression(normalize = True)\n",
    "    \n",
    "    # Fit the model\n",
    "    lm.fit(X_train, y_train.logerror)\n",
    "    \n",
    "    # Predict y on train\n",
    "    y_train['logerror_pred_lm'] = lm.predict(X_train)\n",
    "    # predict validate\n",
    "    y_validate['logerror_pred_lm'] = lm.predict(X_validate)\n",
    "    \n",
    "    # evaluate: train rmse\n",
    "    rmse_train = mean_squared_error(y_train.logerror, y_train.logerror_pred_lm) ** (1/2)\n",
    "\n",
    "    # evaluate: validate rmse\n",
    "    rmse_validate = mean_squared_error(y_validate.logerror, y_validate.logerror_pred_lm) ** (1/2)\n",
    "\n",
    "    print(\"RMSE for OLS using LinearRegression\\nTraining/In-Sample\", round(rmse_train, 8), \n",
    "        \"\\nValidation/Out-of-Sample: \", round(rmse_validate, 8))"
   ]
  },
  {
   "cell_type": "code",
   "execution_count": 16,
   "id": "b59201b1",
   "metadata": {},
   "outputs": [
    {
     "name": "stdout",
     "output_type": "stream",
     "text": [
      "RMSE for OLS using LinearRegression\n",
      "Training/In-Sample 0.16570285 \n",
      "Validation/Out-of-Sample:  0.17656305\n"
     ]
    }
   ],
   "source": [
    "linear_regression(X_train,y_train,X_validate,y_validate)"
   ]
  },
  {
   "cell_type": "markdown",
   "id": "2390bf6a",
   "metadata": {},
   "source": [
    "### Lasso_lars"
   ]
  },
  {
   "cell_type": "code",
   "execution_count": 17,
   "id": "60b287ed",
   "metadata": {},
   "outputs": [],
   "source": [
    "def lasso_lars(X_train, y_train, X_validate, y_validate, alpha):\n",
    "    \n",
    "    # create the model object\n",
    "    lars = LassoLars(alpha)\n",
    "\n",
    "    # fit the model.\n",
    "    lars.fit(X_train, y_train.logerror)\n",
    "\n",
    "    # predict train\n",
    "    y_train['logerror_pred_lars'] = lars.predict(X_train)\n",
    "    # predict validate\n",
    "    y_validate['logerror_pred_lars'] = lars.predict(X_validate)\n",
    "    # evaluate: train rmse\n",
    "    rmse_train = mean_squared_error(y_train.logerror, y_train.logerror_pred_lars)**(1/2)\n",
    "\n",
    "    # evaluate: validate rmse\n",
    "    rmse_validate = mean_squared_error(y_validate.logerror, y_validate.logerror_pred_lars)**(1/2)\n",
    "\n",
    "    print(\"RMSE for Lasso + Lars, alpha = \", i, \"\\nTraining/In-Sample: \", round(rmse_train, 8), \n",
    "        \"\\nValidation/Out-of-Sample: \", round(rmse_validate, 8))"
   ]
  },
  {
   "cell_type": "code",
   "execution_count": 18,
   "id": "7acb3fc1",
   "metadata": {},
   "outputs": [
    {
     "name": "stdout",
     "output_type": "stream",
     "text": [
      "RMSE for Lasso + Lars, alpha =  0 \n",
      "Training/In-Sample:  0.16570285 \n",
      "Validation/Out-of-Sample:  0.17656311\n",
      "\n",
      "RMSE for Lasso + Lars, alpha =  1 \n",
      "Training/In-Sample:  0.16577148 \n",
      "Validation/Out-of-Sample:  0.17667237\n",
      "\n",
      "RMSE for Lasso + Lars, alpha =  2 \n",
      "Training/In-Sample:  0.16577148 \n",
      "Validation/Out-of-Sample:  0.17667237\n",
      "\n",
      "RMSE for Lasso + Lars, alpha =  3 \n",
      "Training/In-Sample:  0.16577148 \n",
      "Validation/Out-of-Sample:  0.17667237\n",
      "\n",
      "RMSE for Lasso + Lars, alpha =  4 \n",
      "Training/In-Sample:  0.16577148 \n",
      "Validation/Out-of-Sample:  0.17667237\n",
      "\n"
     ]
    }
   ],
   "source": [
    "for i in range(0,5):\n",
    "    lasso_lars(X_train, y_train, X_validate, y_validate, alpha = i)\n",
    "    print()"
   ]
  },
  {
   "cell_type": "markdown",
   "id": "d2d65a5f",
   "metadata": {},
   "source": [
    "#### GLM"
   ]
  },
  {
   "cell_type": "code",
   "execution_count": 45,
   "id": "63be10db",
   "metadata": {},
   "outputs": [],
   "source": [
    "def Tweedie_regressor(X_train, y_train, X_validate, y_validate, power, alpha):\n",
    "\n",
    "    # create the model object\n",
    "    glm = TweedieRegressor(power=power, alpha=alpha)\n",
    "\n",
    "    # fit the model to our training data.\n",
    "    glm.fit(X_train, y_train.logerror)\n",
    "\n",
    "    # predict train\n",
    "    y_train['logerror_pred_glm'] = glm.predict(X_train)\n",
    "    # predict validate\n",
    "    y_validate['logerror_pred_glm'] = glm.predict(X_validate)\n",
    "    # evaluate: train rmse\n",
    "    rmse_train = mean_squared_error(y_train.logerror, y_train.logerror_pred_glm)**(1/2)\n",
    "    # evaluate: validate rmse\n",
    "    rmse_validate = mean_squared_error(y_validate.logerror, y_validate.logerror_pred_glm)**(1/2)\n",
    "\n",
    "    print(\"RMSE for GLM using Tweedie, power=\", power, \" & alpha=\", alpha, \n",
    "        \"\\nTraining/In-Sample: \", round(rmse_train, 8), \n",
    "        \"\\nValidation/Out-of-Sample: \", round(rmse_validate, 8))"
   ]
  },
  {
   "cell_type": "code",
   "execution_count": 46,
   "id": "faf5fa81",
   "metadata": {},
   "outputs": [
    {
     "name": "stdout",
     "output_type": "stream",
     "text": [
      "RMSE for GLM using Tweedie, power= 0  & alpha= 1 \n",
      "Training/In-Sample:  0.16577012 \n",
      "Validation/Out-of-Sample:  0.17667057\n"
     ]
    }
   ],
   "source": [
    "Tweedie_regressor(X_train, y_train, X_validate, y_validate, power = 0, alpha=1)\n"
   ]
  },
  {
   "cell_type": "code",
   "execution_count": 47,
   "id": "f20c7cbe",
   "metadata": {},
   "outputs": [
    {
     "name": "stdout",
     "output_type": "stream",
     "text": [
      "RMSE for GLM using Tweedie, power= 0  & alpha= 0 \n",
      "Training/In-Sample:  0.16570731 \n",
      "Validation/Out-of-Sample:  0.17656308\n"
     ]
    }
   ],
   "source": [
    "Tweedie_regressor(X_train, y_train, X_validate, y_validate, power = 0, alpha = 0)"
   ]
  },
  {
   "cell_type": "markdown",
   "id": "fd2e10c8",
   "metadata": {},
   "source": [
    "### Polynomial Regression"
   ]
  },
  {
   "cell_type": "code",
   "execution_count": 22,
   "id": "f67c8d04",
   "metadata": {},
   "outputs": [],
   "source": [
    "def polynomial_regression(X_train, y_train, X_validate, y_validate, degree):\n",
    "    # make the polynomial features to get a new set of features\n",
    "    pf = PolynomialFeatures(degree= degree)\n",
    "    \n",
    "    # fit and transform X_train_scaled\n",
    "    X_train_degree2 = pf.fit_transform(X_train)\n",
    "    \n",
    "\n",
    "    # transform X_validate_scaled \n",
    "    X_validate_degree2 = pf.transform(X_validate)\n",
    "\n",
    "    # create the model object\n",
    "    lm2 = LinearRegression(normalize=True)\n",
    "\n",
    "    # fit the model to our training data. We must specify the column in y_train, \n",
    "    # since we have converted it to a dataframe from a series! \n",
    "    lm2.fit(X_train_degree2, y_train.logerror)\n",
    "\n",
    "    # predict train\n",
    "    y_train['logerror_pred_lm2'] = lm2.predict(X_train_degree2)\n",
    "\n",
    "    # evaluate: train rmse\n",
    "    rmse_train = mean_squared_error(y_train.logerror, y_train.logerror_pred_lm2)**(1/2)\n",
    "\n",
    "    # predict validate\n",
    "    y_validate['logerror_pred_lm2'] = lm2.predict(X_validate_degree2)\n",
    "\n",
    "    # evaluate: validate rmse\n",
    "    rmse_validate = mean_squared_error(y_validate.logerror, y_validate.logerror_pred_lm2)**(1/2)\n",
    "\n",
    "    print(\"RMSE for Polynomial Model, degrees=\", degree, \"\\nTraining/In-Sample: \", round(rmse_train,8), \n",
    "        \"\\nValidation/Out-of-Sample: \", round(rmse_validate,8))"
   ]
  },
  {
   "cell_type": "code",
   "execution_count": 23,
   "id": "37ce0ce5",
   "metadata": {},
   "outputs": [
    {
     "name": "stdout",
     "output_type": "stream",
     "text": [
      "RMSE for Polynomial Model, degrees= 1 \n",
      "Training/In-Sample:  0.16570285 \n",
      "Validation/Out-of-Sample:  0.17656305\n"
     ]
    }
   ],
   "source": [
    "polynomial_regression(X_train, y_train, X_validate, y_validate, degree = 1)"
   ]
  },
  {
   "cell_type": "code",
   "execution_count": 24,
   "id": "3ce697b3",
   "metadata": {},
   "outputs": [
    {
     "name": "stdout",
     "output_type": "stream",
     "text": [
      "RMSE for Polynomial Model, degrees= 2 \n",
      "Training/In-Sample:  0.1655114 \n",
      "Validation/Out-of-Sample:  0.17646484\n"
     ]
    }
   ],
   "source": [
    "polynomial_regression(X_train, y_train, X_validate, y_validate, degree = 2)"
   ]
  },
  {
   "cell_type": "code",
   "execution_count": 25,
   "id": "1551aba0",
   "metadata": {},
   "outputs": [
    {
     "name": "stdout",
     "output_type": "stream",
     "text": [
      "RMSE for Polynomial Model, degrees= 3 \n",
      "Training/In-Sample:  0.1653608 \n",
      "Validation/Out-of-Sample:  0.17685405\n"
     ]
    }
   ],
   "source": [
    "polynomial_regression(X_train, y_train, X_validate, y_validate, degree = 3)"
   ]
  },
  {
   "cell_type": "markdown",
   "id": "0bc82fd6",
   "metadata": {},
   "source": [
    "    Best model is Polynomial regression, degree 2\n",
    "    We will use this model in our unseen sample to predict logerror"
   ]
  },
  {
   "cell_type": "code",
   "execution_count": 32,
   "id": "af8d3109",
   "metadata": {},
   "outputs": [],
   "source": [
    "def test_prediction(X_train,y_train,X_test,y_test,degree):\n",
    "    pf = PolynomialFeatures(degree= degree)\n",
    "    \n",
    "    # fit and transform X_train_scaled\n",
    "    X_train_degree5 = pf.fit_transform(X_train)\n",
    "    \n",
    "    X_test_degree5 = pf.transform(X_test)\n",
    "\n",
    "    # create the model object\n",
    "    lm5 = LinearRegression(normalize=True)\n",
    "\n",
    "    # fit the model to our training data. We must specify the column in y_train, \n",
    "    # since we have converted it to a dataframe from a series! \n",
    "    lm5.fit(X_train_degree5, y_train.logerror)\n",
    "\n",
    "     # predict test\n",
    "    y_test['logerror_pred_lm5'] = lm5.predict(X_test_degree5)\n",
    "\n",
    "    # evaluate: test rmse\n",
    "    rmse_test = mean_squared_error(y_test.logerror, y_test.logerror_pred_lm5)**(1/2)\n",
    "\n",
    "    print(\"RMSE for Polynomial Model, degrees=\", degree, \"\\ntest: \", rmse_test, \"\\nr^2: \", explained_variance_score(y_test.logerror,\n",
    "                                           y_test.logerror_pred_lm5))"
   ]
  },
  {
   "cell_type": "code",
   "execution_count": 33,
   "id": "01a18037",
   "metadata": {},
   "outputs": [
    {
     "name": "stdout",
     "output_type": "stream",
     "text": [
      "RMSE for Polynomial Model, degrees= 2 \n",
      "test:  0.1694646164582976 \n",
      "r^2:  0.0017127609760738682\n"
     ]
    }
   ],
   "source": [
    "#test predict\n",
    "\n",
    "test_prediction(X_train,y_train,X_test,y_test,degree =2)"
   ]
  },
  {
   "cell_type": "code",
   "execution_count": 35,
   "id": "3762e11c",
   "metadata": {},
   "outputs": [
    {
     "data": {
      "text/html": [
       "<div>\n",
       "<style scoped>\n",
       "    .dataframe tbody tr th:only-of-type {\n",
       "        vertical-align: middle;\n",
       "    }\n",
       "\n",
       "    .dataframe tbody tr th {\n",
       "        vertical-align: top;\n",
       "    }\n",
       "\n",
       "    .dataframe thead th {\n",
       "        text-align: right;\n",
       "    }\n",
       "</style>\n",
       "<table border=\"1\" class=\"dataframe\">\n",
       "  <thead>\n",
       "    <tr style=\"text-align: right;\">\n",
       "      <th></th>\n",
       "      <th>logerror</th>\n",
       "      <th>logerror_pred_lm5</th>\n",
       "    </tr>\n",
       "  </thead>\n",
       "  <tbody>\n",
       "    <tr>\n",
       "      <th>0</th>\n",
       "      <td>-0.018377</td>\n",
       "      <td>0.014401</td>\n",
       "    </tr>\n",
       "    <tr>\n",
       "      <th>1</th>\n",
       "      <td>0.012716</td>\n",
       "      <td>0.007287</td>\n",
       "    </tr>\n",
       "    <tr>\n",
       "      <th>2</th>\n",
       "      <td>0.014778</td>\n",
       "      <td>0.021130</td>\n",
       "    </tr>\n",
       "    <tr>\n",
       "      <th>3</th>\n",
       "      <td>0.024403</td>\n",
       "      <td>0.013453</td>\n",
       "    </tr>\n",
       "    <tr>\n",
       "      <th>4</th>\n",
       "      <td>-0.04004</td>\n",
       "      <td>0.013445</td>\n",
       "    </tr>\n",
       "  </tbody>\n",
       "</table>\n",
       "</div>"
      ],
      "text/plain": [
       "   logerror  logerror_pred_lm5\n",
       "0 -0.018377           0.014401\n",
       "1  0.012716           0.007287\n",
       "2  0.014778           0.021130\n",
       "3  0.024403           0.013453\n",
       "4  -0.04004           0.013445"
      ]
     },
     "execution_count": 35,
     "metadata": {},
     "output_type": "execute_result"
    }
   ],
   "source": [
    "y_test.head()"
   ]
  },
  {
   "cell_type": "code",
   "execution_count": null,
   "id": "71125436",
   "metadata": {},
   "outputs": [],
   "source": []
  }
 ],
 "metadata": {
  "kernelspec": {
   "display_name": "Python 3 (ipykernel)",
   "language": "python",
   "name": "python3"
  },
  "language_info": {
   "codemirror_mode": {
    "name": "ipython",
    "version": 3
   },
   "file_extension": ".py",
   "mimetype": "text/x-python",
   "name": "python",
   "nbconvert_exporter": "python",
   "pygments_lexer": "ipython3",
   "version": "3.9.12"
  }
 },
 "nbformat": 4,
 "nbformat_minor": 5
}
