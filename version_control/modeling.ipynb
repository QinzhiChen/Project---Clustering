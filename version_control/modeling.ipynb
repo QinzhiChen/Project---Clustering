{
 "cells": [
  {
   "cell_type": "code",
   "execution_count": 1,
   "id": "cc951e81",
   "metadata": {},
   "outputs": [],
   "source": [
    "import wrangle\n",
    "\n",
    "import warnings\n",
    "warnings.filterwarnings(\"ignore\")\n",
    "from sklearn.model_selection import train_test_split\n",
    "from sklearn.impute import SimpleImputer\n",
    "from sklearn.preprocessing import MinMaxScaler, StandardScaler, RobustScaler, QuantileTransformer\n",
    "from env import user, password, host\n",
    "import env\n",
    "from sklearn.feature_selection import SelectKBest, f_regression, RFE\n",
    "from sklearn.linear_model import LinearRegression,LassoLars, TweedieRegressor\n",
    "from sklearn.preprocessing import PolynomialFeatures\n",
    "from sklearn.metrics import mean_squared_error,explained_variance_score\n",
    "import pandas as pd\n",
    "import matplotlib.pyplot as plt\n",
    "import seaborn as sns\n",
    "import numpy as np\n",
    "import os\n",
    "import csv\n",
    "#import acquire\n",
    "import modeling\n",
    "from sklearn.metrics import mean_squared_error\n",
    "from sklearn.metrics import r2_score\n",
    "from sklearn.preprocessing import PolynomialFeatures"
   ]
  },
  {
   "cell_type": "code",
   "execution_count": 2,
   "id": "6b3c7f02",
   "metadata": {},
   "outputs": [],
   "source": [
    "zillow_train,zillow_validate,zillow_test=wrangle.wrangled_file()"
   ]
  },
  {
   "cell_type": "code",
   "execution_count": 3,
   "id": "bebbb74b",
   "metadata": {},
   "outputs": [
    {
     "data": {
      "text/plain": [
       "((40900, 26), (17508, 26), (14596, 26))"
      ]
     },
     "execution_count": 3,
     "metadata": {},
     "output_type": "execute_result"
    }
   ],
   "source": [
    "zillow_train.shape,zillow_validate.shape,zillow_test.shape"
   ]
  },
  {
   "cell_type": "code",
   "execution_count": 4,
   "id": "3fceeb1d",
   "metadata": {},
   "outputs": [],
   "source": [
    "#use function to scale features and concat them back to dataframe\n",
    "scaled_train,scaled_validate,scaled_test = modeling.scale_data(zillow_train,zillow_validate,zillow_test,cols=['bedroom','bathroom','age','month','taxrate'])"
   ]
  },
  {
   "cell_type": "code",
   "execution_count": 5,
   "id": "98fa3b18",
   "metadata": {},
   "outputs": [
    {
     "data": {
      "text/html": [
       "<div>\n",
       "<style scoped>\n",
       "    .dataframe tbody tr th:only-of-type {\n",
       "        vertical-align: middle;\n",
       "    }\n",
       "\n",
       "    .dataframe tbody tr th {\n",
       "        vertical-align: top;\n",
       "    }\n",
       "\n",
       "    .dataframe thead th {\n",
       "        text-align: right;\n",
       "    }\n",
       "</style>\n",
       "<table border=\"1\" class=\"dataframe\">\n",
       "  <thead>\n",
       "    <tr style=\"text-align: right;\">\n",
       "      <th></th>\n",
       "      <th>bathroom</th>\n",
       "      <th>bedroom</th>\n",
       "      <th>calculatedbathnbr</th>\n",
       "      <th>sqtft</th>\n",
       "      <th>finishedsquarefeet12</th>\n",
       "      <th>fips</th>\n",
       "      <th>fullbathcnt</th>\n",
       "      <th>latitude</th>\n",
       "      <th>longitude</th>\n",
       "      <th>propertycountylandusecode</th>\n",
       "      <th>...</th>\n",
       "      <th>propertylandusedesc</th>\n",
       "      <th>county</th>\n",
       "      <th>taxrate</th>\n",
       "      <th>month</th>\n",
       "      <th>age</th>\n",
       "      <th>bedroom_scaled</th>\n",
       "      <th>bathroom_scaled</th>\n",
       "      <th>age_scaled</th>\n",
       "      <th>month_scaled</th>\n",
       "      <th>taxrate_scaled</th>\n",
       "    </tr>\n",
       "  </thead>\n",
       "  <tbody>\n",
       "    <tr>\n",
       "      <th>0</th>\n",
       "      <td>3.0</td>\n",
       "      <td>3.0</td>\n",
       "      <td>3.0</td>\n",
       "      <td>1882.0</td>\n",
       "      <td>1882.0</td>\n",
       "      <td>6037.0</td>\n",
       "      <td>3.0</td>\n",
       "      <td>33890566.0</td>\n",
       "      <td>-118154278.0</td>\n",
       "      <td>010C</td>\n",
       "      <td>...</td>\n",
       "      <td>Condominium</td>\n",
       "      <td>Los Angeles County, CA</td>\n",
       "      <td>0.013491</td>\n",
       "      <td>5</td>\n",
       "      <td>30.0</td>\n",
       "      <td>0.0</td>\n",
       "      <td>1.0</td>\n",
       "      <td>-0.636364</td>\n",
       "      <td>0.0</td>\n",
       "      <td>0.689685</td>\n",
       "    </tr>\n",
       "  </tbody>\n",
       "</table>\n",
       "<p>1 rows × 31 columns</p>\n",
       "</div>"
      ],
      "text/plain": [
       "   bathroom  bedroom  calculatedbathnbr   sqtft  finishedsquarefeet12    fips  \\\n",
       "0       3.0      3.0                3.0  1882.0                1882.0  6037.0   \n",
       "\n",
       "   fullbathcnt    latitude    longitude propertycountylandusecode  ...  \\\n",
       "0          3.0  33890566.0 -118154278.0                      010C  ...   \n",
       "\n",
       "   propertylandusedesc                  county   taxrate  month   age  \\\n",
       "0          Condominium  Los Angeles County, CA  0.013491      5  30.0   \n",
       "\n",
       "   bedroom_scaled  bathroom_scaled  age_scaled  month_scaled  taxrate_scaled  \n",
       "0             0.0              1.0   -0.636364           0.0        0.689685  \n",
       "\n",
       "[1 rows x 31 columns]"
      ]
     },
     "execution_count": 5,
     "metadata": {},
     "output_type": "execute_result"
    }
   ],
   "source": [
    "scaled_train.head(1)"
   ]
  },
  {
   "cell_type": "code",
   "execution_count": 6,
   "id": "c059eef1",
   "metadata": {},
   "outputs": [
    {
     "data": {
      "text/plain": [
       "Index(['bathroom', 'bedroom', 'calculatedbathnbr', 'sqtft',\n",
       "       'finishedsquarefeet12', 'fips', 'fullbathcnt', 'latitude', 'longitude',\n",
       "       'propertycountylandusecode', 'rawcensustractandblock', 'zipcode',\n",
       "       'roomcnt', 'yearbuilt', 'structuretaxvaluedollarcnt', 'taxvalue',\n",
       "       'assessmentyear', 'landtaxvaluedollarcnt', 'taxamount',\n",
       "       'censustractandblock', 'logerror', 'propertylandusedesc', 'county',\n",
       "       'taxrate', 'month', 'age', 'bedroom_scaled', 'bathroom_scaled',\n",
       "       'age_scaled', 'month_scaled', 'taxrate_scaled'],\n",
       "      dtype='object')"
      ]
     },
     "execution_count": 6,
     "metadata": {},
     "output_type": "execute_result"
    }
   ],
   "source": [
    "scaled_train.columns"
   ]
  },
  {
   "cell_type": "code",
   "execution_count": null,
   "id": "fd1cb453",
   "metadata": {},
   "outputs": [],
   "source": []
  },
  {
   "cell_type": "code",
   "execution_count": 8,
   "id": "16525a3d",
   "metadata": {},
   "outputs": [],
   "source": [
    "features = ['bathroom', 'bedroom', 'calculatedbathnbr', 'sqtft',\n",
    "       'finishedsquarefeet12', 'fips', 'fullbathcnt', 'latitude', 'longitude',\n",
    "       'propertycountylandusecode', 'rawcensustractandblock', 'zipcode',\n",
    "       'roomcnt', 'yearbuilt', 'structuretaxvaluedollarcnt', 'taxvalue',\n",
    "       'assessmentyear', 'landtaxvaluedollarcnt', 'taxamount',\n",
    "       'censustractandblock', 'logerror', 'propertylandusedesc', 'county',\n",
    "       'taxrate', 'month', 'age']\n",
    "target = [\"logerror\"]\n",
    "X_train = scaled_train[features]\n",
    "y_train = scaled_train[target]\n",
    "X_validate = scaled_validate[features]\n",
    "y_validate = scaled_validate[target]\n",
    "X_test = scaled_test[features]\n",
    "y_test = scaled_test[target]"
   ]
  },
  {
   "cell_type": "code",
   "execution_count": 9,
   "id": "3a147dab",
   "metadata": {},
   "outputs": [
    {
     "data": {
      "text/html": [
       "<div>\n",
       "<style scoped>\n",
       "    .dataframe tbody tr th:only-of-type {\n",
       "        vertical-align: middle;\n",
       "    }\n",
       "\n",
       "    .dataframe tbody tr th {\n",
       "        vertical-align: top;\n",
       "    }\n",
       "\n",
       "    .dataframe thead th {\n",
       "        text-align: right;\n",
       "    }\n",
       "</style>\n",
       "<table border=\"1\" class=\"dataframe\">\n",
       "  <thead>\n",
       "    <tr style=\"text-align: right;\">\n",
       "      <th></th>\n",
       "      <th>bathroom</th>\n",
       "      <th>bedroom</th>\n",
       "      <th>calculatedbathnbr</th>\n",
       "      <th>sqtft</th>\n",
       "      <th>finishedsquarefeet12</th>\n",
       "      <th>fips</th>\n",
       "      <th>fullbathcnt</th>\n",
       "      <th>latitude</th>\n",
       "      <th>longitude</th>\n",
       "      <th>propertycountylandusecode</th>\n",
       "      <th>...</th>\n",
       "      <th>assessmentyear</th>\n",
       "      <th>landtaxvaluedollarcnt</th>\n",
       "      <th>taxamount</th>\n",
       "      <th>censustractandblock</th>\n",
       "      <th>logerror</th>\n",
       "      <th>propertylandusedesc</th>\n",
       "      <th>county</th>\n",
       "      <th>taxrate</th>\n",
       "      <th>month</th>\n",
       "      <th>age</th>\n",
       "    </tr>\n",
       "  </thead>\n",
       "  <tbody>\n",
       "    <tr>\n",
       "      <th>0</th>\n",
       "      <td>3.0</td>\n",
       "      <td>3.0</td>\n",
       "      <td>3.0</td>\n",
       "      <td>1882.0</td>\n",
       "      <td>1882.0</td>\n",
       "      <td>6037.0</td>\n",
       "      <td>3.0</td>\n",
       "      <td>33890566.0</td>\n",
       "      <td>-118154278.0</td>\n",
       "      <td>010C</td>\n",
       "      <td>...</td>\n",
       "      <td>2016.0</td>\n",
       "      <td>37447.0</td>\n",
       "      <td>2526.0</td>\n",
       "      <td>6.037554e+13</td>\n",
       "      <td>0.112968</td>\n",
       "      <td>Condominium</td>\n",
       "      <td>Los Angeles County, CA</td>\n",
       "      <td>0.013491</td>\n",
       "      <td>5</td>\n",
       "      <td>30.0</td>\n",
       "    </tr>\n",
       "  </tbody>\n",
       "</table>\n",
       "<p>1 rows × 26 columns</p>\n",
       "</div>"
      ],
      "text/plain": [
       "   bathroom  bedroom  calculatedbathnbr   sqtft  finishedsquarefeet12    fips  \\\n",
       "0       3.0      3.0                3.0  1882.0                1882.0  6037.0   \n",
       "\n",
       "   fullbathcnt    latitude    longitude propertycountylandusecode  ...  \\\n",
       "0          3.0  33890566.0 -118154278.0                      010C  ...   \n",
       "\n",
       "   assessmentyear landtaxvaluedollarcnt  taxamount  censustractandblock  \\\n",
       "0          2016.0               37447.0     2526.0         6.037554e+13   \n",
       "\n",
       "   logerror  propertylandusedesc                  county   taxrate  month  \\\n",
       "0  0.112968          Condominium  Los Angeles County, CA  0.013491      5   \n",
       "\n",
       "    age  \n",
       "0  30.0  \n",
       "\n",
       "[1 rows x 26 columns]"
      ]
     },
     "execution_count": 9,
     "metadata": {},
     "output_type": "execute_result"
    }
   ],
   "source": [
    "X_train.head(1)"
   ]
  },
  {
   "cell_type": "code",
   "execution_count": 10,
   "id": "376607c9",
   "metadata": {},
   "outputs": [
    {
     "data": {
      "text/html": [
       "<div>\n",
       "<style scoped>\n",
       "    .dataframe tbody tr th:only-of-type {\n",
       "        vertical-align: middle;\n",
       "    }\n",
       "\n",
       "    .dataframe tbody tr th {\n",
       "        vertical-align: top;\n",
       "    }\n",
       "\n",
       "    .dataframe thead th {\n",
       "        text-align: right;\n",
       "    }\n",
       "</style>\n",
       "<table border=\"1\" class=\"dataframe\">\n",
       "  <thead>\n",
       "    <tr style=\"text-align: right;\">\n",
       "      <th></th>\n",
       "      <th>logerror</th>\n",
       "    </tr>\n",
       "  </thead>\n",
       "  <tbody>\n",
       "    <tr>\n",
       "      <th>0</th>\n",
       "      <td>0.112968</td>\n",
       "    </tr>\n",
       "  </tbody>\n",
       "</table>\n",
       "</div>"
      ],
      "text/plain": [
       "   logerror\n",
       "0  0.112968"
      ]
     },
     "execution_count": 10,
     "metadata": {},
     "output_type": "execute_result"
    }
   ],
   "source": [
    "y_train.head(1)"
   ]
  },
  {
   "cell_type": "code",
   "execution_count": 11,
   "id": "e806ca0e",
   "metadata": {},
   "outputs": [],
   "source": [
    "#apply baseline value to train and validate\n",
    "y_train[\"baseline_mean\"] = y_train.logerror.mean()\n",
    "y_train[\"baseline_median\"] =y_train.logerror.median()\n",
    "y_validate[\"baseline_mean\"] = y_validate.logerror.mean()\n",
    "y_validate[\"baseline_median\"] =y_validate.logerror.median()"
   ]
  },
  {
   "cell_type": "code",
   "execution_count": 12,
   "id": "7de15434",
   "metadata": {},
   "outputs": [],
   "source": [
    "\n",
    "#calculate rmse using actual and baseline mean\n",
    "def get_baseline(y_train,y_validate):\n",
    "    RMSE_train_mean=mean_squared_error(y_train.logerror,y_train.baseline_mean, squared = False)\n",
    "    RMSE_validate_mean=mean_squared_error(y_validate.logerror,y_validate.baseline_mean, squared = False)\n",
    "\n",
    "    print(\"RMSE using Mean on \\nTrain: \", round(RMSE_train_mean,8), \"\\nValidate: \", round(RMSE_validate_mean,8))\n",
    "    print()\n",
    "\n",
    "#calculate rmse using actual and baseline mean\n",
    "    RMSE_train_median= mean_squared_error(y_train.logerror,y_train.baseline_median, squared = False)\n",
    "    RMSE_validate_median= mean_squared_error(y_validate.logerror,y_validate.baseline_median, squared = False)\n",
    "\n",
    "    print(\"RMSE using Median on \\nTrain: \", round(RMSE_train_median,8), \"\\nValidate: \", round(RMSE_validate_median,8))\n"
   ]
  },
  {
   "cell_type": "code",
   "execution_count": 13,
   "id": "77e4bf1e",
   "metadata": {},
   "outputs": [
    {
     "name": "stdout",
     "output_type": "stream",
     "text": [
      "RMSE using Mean on \n",
      "Train:  0.1615296 \n",
      "Validate:  0.16950059\n",
      "\n",
      "RMSE using Median on \n",
      "Train:  0.16179988 \n",
      "Validate:  0.16987772\n"
     ]
    }
   ],
   "source": [
    "get_baseline(y_train,y_validate)"
   ]
  },
  {
   "cell_type": "markdown",
   "id": "16af0dd0",
   "metadata": {},
   "source": [
    "    since rmse using mean is smaller, we use mean for baseline rmse"
   ]
  },
  {
   "cell_type": "code",
   "execution_count": 14,
   "id": "309e7588",
   "metadata": {},
   "outputs": [
    {
     "data": {
      "image/png": "[encoded data removed]",
      "text/plain": [
       "<Figure size 432x288 with 1 Axes>"
      ]
     },
     "metadata": {
      "needs_background": "light"
     },
     "output_type": "display_data"
    }
   ],
   "source": [
    "# peek at the distribution of my target varaible\n",
    "sns.histplot(y_train.logerror)\n",
    "plt.title('Distribution of logerror')\n",
    "plt.show()"
   ]
  },
  {
   "cell_type": "markdown",
   "id": "7ffc300b",
   "metadata": {},
   "source": [
    "### Linear regression"
   ]
  },
  {
   "cell_type": "code",
   "execution_count": 21,
   "id": "dff589b0",
   "metadata": {},
   "outputs": [],
   "source": [
    "def linear_regression(X_train,y_train,X_validate,y_validate):\n",
    "\n",
    "    # create the model object\n",
    "    lm = LinearRegression(normalize = True)\n",
    "    \n",
    "    # Fit the model\n",
    "    lm.fit(X_train, y_train.logerror)\n",
    "    \n",
    "    # Predict y on train\n",
    "    y_train['logerror_pred_lm'] = lm.predict(X_train)\n",
    "    # predict validate\n",
    "    y_validate['logerror_pred_lm'] = lm.predict(X_validate)\n",
    "    \n",
    "    # evaluate: train rmse\n",
    "    rmse_train = mean_squared_error(y_train.logerror, y_train.logerror_pred_lm) ** (1/2)\n",
    "\n",
    "    # evaluate: validate rmse\n",
    "    rmse_validate = mean_squared_error(y_validate.logerror, y_validate.logerror_pred_lm) ** (1/2)\n",
    "\n",
    "    print(\"RMSE for OLS using LinearRegression\\nTraining/In-Sample\", round(rmse_train, 8), \n",
    "        \"\\nValidation/Out-of-Sample: \", round(rmse_validate, 8))"
   ]
  },
  {
   "cell_type": "code",
   "execution_count": 22,
   "id": "b59201b1",
   "metadata": {},
   "outputs": [
    {
     "ename": "ValueError",
     "evalue": "could not convert string to float: '010C'",
     "output_type": "error",
     "traceback": [
      "\u001b[0;31m---------------------------------------------------------------------------\u001b[0m",
      "\u001b[0;31mValueError\u001b[0m                                Traceback (most recent call last)",
      "Input \u001b[0;32mIn [22]\u001b[0m, in \u001b[0;36m<cell line: 1>\u001b[0;34m()\u001b[0m\n\u001b[0;32m----> 1\u001b[0m \u001b[43mlinear_regression\u001b[49m\u001b[43m(\u001b[49m\u001b[43mX_train\u001b[49m\u001b[43m,\u001b[49m\u001b[43my_train\u001b[49m\u001b[43m,\u001b[49m\u001b[43mX_validate\u001b[49m\u001b[43m,\u001b[49m\u001b[43my_validate\u001b[49m\u001b[43m)\u001b[49m\n",
      "Input \u001b[0;32mIn [21]\u001b[0m, in \u001b[0;36mlinear_regression\u001b[0;34m(X_train, y_train, X_validate, y_validate)\u001b[0m\n\u001b[1;32m      4\u001b[0m lm \u001b[38;5;241m=\u001b[39m LinearRegression(normalize \u001b[38;5;241m=\u001b[39m \u001b[38;5;28;01mTrue\u001b[39;00m)\n\u001b[1;32m      6\u001b[0m \u001b[38;5;66;03m# Fit the model\u001b[39;00m\n\u001b[0;32m----> 7\u001b[0m \u001b[43mlm\u001b[49m\u001b[38;5;241;43m.\u001b[39;49m\u001b[43mfit\u001b[49m\u001b[43m(\u001b[49m\u001b[43mX_train\u001b[49m\u001b[43m,\u001b[49m\u001b[43m \u001b[49m\u001b[43my_train\u001b[49m\u001b[38;5;241;43m.\u001b[39;49m\u001b[43mlogerror\u001b[49m\u001b[43m)\u001b[49m\n\u001b[1;32m      9\u001b[0m \u001b[38;5;66;03m# Predict y on train\u001b[39;00m\n\u001b[1;32m     10\u001b[0m y_train[\u001b[38;5;124m'\u001b[39m\u001b[38;5;124mlogerror_pred_lm\u001b[39m\u001b[38;5;124m'\u001b[39m] \u001b[38;5;241m=\u001b[39m lm\u001b[38;5;241m.\u001b[39mpredict(X_train)\n",
      "File \u001b[0;32m/opt/homebrew/anaconda3/lib/python3.9/site-packages/sklearn/linear_model/_base.py:662\u001b[0m, in \u001b[0;36mLinearRegression.fit\u001b[0;34m(self, X, y, sample_weight)\u001b[0m\n\u001b[1;32m    658\u001b[0m n_jobs_ \u001b[38;5;241m=\u001b[39m \u001b[38;5;28mself\u001b[39m\u001b[38;5;241m.\u001b[39mn_jobs\n\u001b[1;32m    660\u001b[0m accept_sparse \u001b[38;5;241m=\u001b[39m \u001b[38;5;28;01mFalse\u001b[39;00m \u001b[38;5;28;01mif\u001b[39;00m \u001b[38;5;28mself\u001b[39m\u001b[38;5;241m.\u001b[39mpositive \u001b[38;5;28;01melse\u001b[39;00m [\u001b[38;5;124m\"\u001b[39m\u001b[38;5;124mcsr\u001b[39m\u001b[38;5;124m\"\u001b[39m, \u001b[38;5;124m\"\u001b[39m\u001b[38;5;124mcsc\u001b[39m\u001b[38;5;124m\"\u001b[39m, \u001b[38;5;124m\"\u001b[39m\u001b[38;5;124mcoo\u001b[39m\u001b[38;5;124m\"\u001b[39m]\n\u001b[0;32m--> 662\u001b[0m X, y \u001b[38;5;241m=\u001b[39m \u001b[38;5;28;43mself\u001b[39;49m\u001b[38;5;241;43m.\u001b[39;49m\u001b[43m_validate_data\u001b[49m\u001b[43m(\u001b[49m\n\u001b[1;32m    663\u001b[0m \u001b[43m    \u001b[49m\u001b[43mX\u001b[49m\u001b[43m,\u001b[49m\u001b[43m \u001b[49m\u001b[43my\u001b[49m\u001b[43m,\u001b[49m\u001b[43m \u001b[49m\u001b[43maccept_sparse\u001b[49m\u001b[38;5;241;43m=\u001b[39;49m\u001b[43maccept_sparse\u001b[49m\u001b[43m,\u001b[49m\u001b[43m \u001b[49m\u001b[43my_numeric\u001b[49m\u001b[38;5;241;43m=\u001b[39;49m\u001b[38;5;28;43;01mTrue\u001b[39;49;00m\u001b[43m,\u001b[49m\u001b[43m \u001b[49m\u001b[43mmulti_output\u001b[49m\u001b[38;5;241;43m=\u001b[39;49m\u001b[38;5;28;43;01mTrue\u001b[39;49;00m\n\u001b[1;32m    664\u001b[0m \u001b[43m\u001b[49m\u001b[43m)\u001b[49m\n\u001b[1;32m    666\u001b[0m \u001b[38;5;28;01mif\u001b[39;00m sample_weight \u001b[38;5;129;01mis\u001b[39;00m \u001b[38;5;129;01mnot\u001b[39;00m \u001b[38;5;28;01mNone\u001b[39;00m:\n\u001b[1;32m    667\u001b[0m     sample_weight \u001b[38;5;241m=\u001b[39m _check_sample_weight(sample_weight, X, dtype\u001b[38;5;241m=\u001b[39mX\u001b[38;5;241m.\u001b[39mdtype)\n",
      "File \u001b[0;32m/opt/homebrew/anaconda3/lib/python3.9/site-packages/sklearn/base.py:581\u001b[0m, in \u001b[0;36mBaseEstimator._validate_data\u001b[0;34m(self, X, y, reset, validate_separately, **check_params)\u001b[0m\n\u001b[1;32m    579\u001b[0m         y \u001b[38;5;241m=\u001b[39m check_array(y, \u001b[38;5;241m*\u001b[39m\u001b[38;5;241m*\u001b[39mcheck_y_params)\n\u001b[1;32m    580\u001b[0m     \u001b[38;5;28;01melse\u001b[39;00m:\n\u001b[0;32m--> 581\u001b[0m         X, y \u001b[38;5;241m=\u001b[39m \u001b[43mcheck_X_y\u001b[49m\u001b[43m(\u001b[49m\u001b[43mX\u001b[49m\u001b[43m,\u001b[49m\u001b[43m \u001b[49m\u001b[43my\u001b[49m\u001b[43m,\u001b[49m\u001b[43m \u001b[49m\u001b[38;5;241;43m*\u001b[39;49m\u001b[38;5;241;43m*\u001b[39;49m\u001b[43mcheck_params\u001b[49m\u001b[43m)\u001b[49m\n\u001b[1;32m    582\u001b[0m     out \u001b[38;5;241m=\u001b[39m X, y\n\u001b[1;32m    584\u001b[0m \u001b[38;5;28;01mif\u001b[39;00m \u001b[38;5;129;01mnot\u001b[39;00m no_val_X \u001b[38;5;129;01mand\u001b[39;00m check_params\u001b[38;5;241m.\u001b[39mget(\u001b[38;5;124m\"\u001b[39m\u001b[38;5;124mensure_2d\u001b[39m\u001b[38;5;124m\"\u001b[39m, \u001b[38;5;28;01mTrue\u001b[39;00m):\n",
      "File \u001b[0;32m/opt/homebrew/anaconda3/lib/python3.9/site-packages/sklearn/utils/validation.py:964\u001b[0m, in \u001b[0;36mcheck_X_y\u001b[0;34m(X, y, accept_sparse, accept_large_sparse, dtype, order, copy, force_all_finite, ensure_2d, allow_nd, multi_output, ensure_min_samples, ensure_min_features, y_numeric, estimator)\u001b[0m\n\u001b[1;32m    961\u001b[0m \u001b[38;5;28;01mif\u001b[39;00m y \u001b[38;5;129;01mis\u001b[39;00m \u001b[38;5;28;01mNone\u001b[39;00m:\n\u001b[1;32m    962\u001b[0m     \u001b[38;5;28;01mraise\u001b[39;00m \u001b[38;5;167;01mValueError\u001b[39;00m(\u001b[38;5;124m\"\u001b[39m\u001b[38;5;124my cannot be None\u001b[39m\u001b[38;5;124m\"\u001b[39m)\n\u001b[0;32m--> 964\u001b[0m X \u001b[38;5;241m=\u001b[39m \u001b[43mcheck_array\u001b[49m\u001b[43m(\u001b[49m\n\u001b[1;32m    965\u001b[0m \u001b[43m    \u001b[49m\u001b[43mX\u001b[49m\u001b[43m,\u001b[49m\n\u001b[1;32m    966\u001b[0m \u001b[43m    \u001b[49m\u001b[43maccept_sparse\u001b[49m\u001b[38;5;241;43m=\u001b[39;49m\u001b[43maccept_sparse\u001b[49m\u001b[43m,\u001b[49m\n\u001b[1;32m    967\u001b[0m \u001b[43m    \u001b[49m\u001b[43maccept_large_sparse\u001b[49m\u001b[38;5;241;43m=\u001b[39;49m\u001b[43maccept_large_sparse\u001b[49m\u001b[43m,\u001b[49m\n\u001b[1;32m    968\u001b[0m \u001b[43m    \u001b[49m\u001b[43mdtype\u001b[49m\u001b[38;5;241;43m=\u001b[39;49m\u001b[43mdtype\u001b[49m\u001b[43m,\u001b[49m\n\u001b[1;32m    969\u001b[0m \u001b[43m    \u001b[49m\u001b[43morder\u001b[49m\u001b[38;5;241;43m=\u001b[39;49m\u001b[43morder\u001b[49m\u001b[43m,\u001b[49m\n\u001b[1;32m    970\u001b[0m \u001b[43m    \u001b[49m\u001b[43mcopy\u001b[49m\u001b[38;5;241;43m=\u001b[39;49m\u001b[43mcopy\u001b[49m\u001b[43m,\u001b[49m\n\u001b[1;32m    971\u001b[0m \u001b[43m    \u001b[49m\u001b[43mforce_all_finite\u001b[49m\u001b[38;5;241;43m=\u001b[39;49m\u001b[43mforce_all_finite\u001b[49m\u001b[43m,\u001b[49m\n\u001b[1;32m    972\u001b[0m \u001b[43m    \u001b[49m\u001b[43mensure_2d\u001b[49m\u001b[38;5;241;43m=\u001b[39;49m\u001b[43mensure_2d\u001b[49m\u001b[43m,\u001b[49m\n\u001b[1;32m    973\u001b[0m \u001b[43m    \u001b[49m\u001b[43mallow_nd\u001b[49m\u001b[38;5;241;43m=\u001b[39;49m\u001b[43mallow_nd\u001b[49m\u001b[43m,\u001b[49m\n\u001b[1;32m    974\u001b[0m \u001b[43m    \u001b[49m\u001b[43mensure_min_samples\u001b[49m\u001b[38;5;241;43m=\u001b[39;49m\u001b[43mensure_min_samples\u001b[49m\u001b[43m,\u001b[49m\n\u001b[1;32m    975\u001b[0m \u001b[43m    \u001b[49m\u001b[43mensure_min_features\u001b[49m\u001b[38;5;241;43m=\u001b[39;49m\u001b[43mensure_min_features\u001b[49m\u001b[43m,\u001b[49m\n\u001b[1;32m    976\u001b[0m \u001b[43m    \u001b[49m\u001b[43mestimator\u001b[49m\u001b[38;5;241;43m=\u001b[39;49m\u001b[43mestimator\u001b[49m\u001b[43m,\u001b[49m\n\u001b[1;32m    977\u001b[0m \u001b[43m\u001b[49m\u001b[43m)\u001b[49m\n\u001b[1;32m    979\u001b[0m y \u001b[38;5;241m=\u001b[39m _check_y(y, multi_output\u001b[38;5;241m=\u001b[39mmulti_output, y_numeric\u001b[38;5;241m=\u001b[39my_numeric)\n\u001b[1;32m    981\u001b[0m check_consistent_length(X, y)\n",
      "File \u001b[0;32m/opt/homebrew/anaconda3/lib/python3.9/site-packages/sklearn/utils/validation.py:746\u001b[0m, in \u001b[0;36mcheck_array\u001b[0;34m(array, accept_sparse, accept_large_sparse, dtype, order, copy, force_all_finite, ensure_2d, allow_nd, ensure_min_samples, ensure_min_features, estimator)\u001b[0m\n\u001b[1;32m    744\u001b[0m         array \u001b[38;5;241m=\u001b[39m array\u001b[38;5;241m.\u001b[39mastype(dtype, casting\u001b[38;5;241m=\u001b[39m\u001b[38;5;124m\"\u001b[39m\u001b[38;5;124munsafe\u001b[39m\u001b[38;5;124m\"\u001b[39m, copy\u001b[38;5;241m=\u001b[39m\u001b[38;5;28;01mFalse\u001b[39;00m)\n\u001b[1;32m    745\u001b[0m     \u001b[38;5;28;01melse\u001b[39;00m:\n\u001b[0;32m--> 746\u001b[0m         array \u001b[38;5;241m=\u001b[39m \u001b[43mnp\u001b[49m\u001b[38;5;241;43m.\u001b[39;49m\u001b[43masarray\u001b[49m\u001b[43m(\u001b[49m\u001b[43marray\u001b[49m\u001b[43m,\u001b[49m\u001b[43m \u001b[49m\u001b[43morder\u001b[49m\u001b[38;5;241;43m=\u001b[39;49m\u001b[43morder\u001b[49m\u001b[43m,\u001b[49m\u001b[43m \u001b[49m\u001b[43mdtype\u001b[49m\u001b[38;5;241;43m=\u001b[39;49m\u001b[43mdtype\u001b[49m\u001b[43m)\u001b[49m\n\u001b[1;32m    747\u001b[0m \u001b[38;5;28;01mexcept\u001b[39;00m ComplexWarning \u001b[38;5;28;01mas\u001b[39;00m complex_warning:\n\u001b[1;32m    748\u001b[0m     \u001b[38;5;28;01mraise\u001b[39;00m \u001b[38;5;167;01mValueError\u001b[39;00m(\n\u001b[1;32m    749\u001b[0m         \u001b[38;5;124m\"\u001b[39m\u001b[38;5;124mComplex data not supported\u001b[39m\u001b[38;5;130;01m\\n\u001b[39;00m\u001b[38;5;132;01m{}\u001b[39;00m\u001b[38;5;130;01m\\n\u001b[39;00m\u001b[38;5;124m\"\u001b[39m\u001b[38;5;241m.\u001b[39mformat(array)\n\u001b[1;32m    750\u001b[0m     ) \u001b[38;5;28;01mfrom\u001b[39;00m \u001b[38;5;21;01mcomplex_warning\u001b[39;00m\n",
      "File \u001b[0;32m/opt/homebrew/anaconda3/lib/python3.9/site-packages/pandas/core/generic.py:2064\u001b[0m, in \u001b[0;36mNDFrame.__array__\u001b[0;34m(self, dtype)\u001b[0m\n\u001b[1;32m   2063\u001b[0m \u001b[38;5;28;01mdef\u001b[39;00m \u001b[38;5;21m__array__\u001b[39m(\u001b[38;5;28mself\u001b[39m, dtype: npt\u001b[38;5;241m.\u001b[39mDTypeLike \u001b[38;5;241m|\u001b[39m \u001b[38;5;28;01mNone\u001b[39;00m \u001b[38;5;241m=\u001b[39m \u001b[38;5;28;01mNone\u001b[39;00m) \u001b[38;5;241m-\u001b[39m\u001b[38;5;241m>\u001b[39m np\u001b[38;5;241m.\u001b[39mndarray:\n\u001b[0;32m-> 2064\u001b[0m     \u001b[38;5;28;01mreturn\u001b[39;00m \u001b[43mnp\u001b[49m\u001b[38;5;241;43m.\u001b[39;49m\u001b[43masarray\u001b[49m\u001b[43m(\u001b[49m\u001b[38;5;28;43mself\u001b[39;49m\u001b[38;5;241;43m.\u001b[39;49m\u001b[43m_values\u001b[49m\u001b[43m,\u001b[49m\u001b[43m \u001b[49m\u001b[43mdtype\u001b[49m\u001b[38;5;241;43m=\u001b[39;49m\u001b[43mdtype\u001b[49m\u001b[43m)\u001b[49m\n",
      "\u001b[0;31mValueError\u001b[0m: could not convert string to float: '010C'"
     ]
    }
   ],
   "source": [
    "linear_regression(X_train,y_train,X_validate,y_validate)"
   ]
  },
  {
   "cell_type": "markdown",
   "id": "2390bf6a",
   "metadata": {},
   "source": [
    "### Lasso_lars"
   ]
  },
  {
   "cell_type": "code",
   "execution_count": null,
   "id": "60b287ed",
   "metadata": {},
   "outputs": [],
   "source": [
    "def lasso_lars(X_train, y_train, X_validate, y_validate, alpha):\n",
    "    \n",
    "    # create the model object\n",
    "    lars = LassoLars(alpha)\n",
    "\n",
    "    # fit the model.\n",
    "    lars.fit(X_train, y_train.logerror)\n",
    "\n",
    "    # predict train\n",
    "    y_train['logerror_pred_lars'] = lars.predict(X_train)\n",
    "    # predict validate\n",
    "    y_validate['logerror_pred_lars'] = lars.predict(X_validate)\n",
    "    # evaluate: train rmse\n",
    "    rmse_train = mean_squared_error(y_train.logerror, y_train.logerror_pred_lars)**(1/2)\n",
    "\n",
    "    # evaluate: validate rmse\n",
    "    rmse_validate = mean_squared_error(y_validate.logerror, y_validate.logerror_pred_lars)**(1/2)\n",
    "\n",
    "    print(\"RMSE for Lasso + Lars, alpha = \", i, \"\\nTraining/In-Sample: \", round(rmse_train, 8), \n",
    "        \"\\nValidation/Out-of-Sample: \", round(rmse_validate, 8))"
   ]
  },
  {
   "cell_type": "code",
   "execution_count": null,
   "id": "7acb3fc1",
   "metadata": {},
   "outputs": [],
   "source": [
    "for i in range(0,5):\n",
    "    lasso_lars(X_train, y_train, X_validate, y_validate, alpha = i)\n",
    "    print()"
   ]
  },
  {
   "cell_type": "markdown",
   "id": "d2d65a5f",
   "metadata": {},
   "source": [
    "#### GLM"
   ]
  },
  {
   "cell_type": "code",
   "execution_count": null,
   "id": "63be10db",
   "metadata": {},
   "outputs": [],
   "source": [
    "def Tweedie_regressor(X_train, y_train, X_validate, y_validate, power, alpha):\n",
    "\n",
    "    # create the model object\n",
    "    glm = TweedieRegressor(power=power, alpha=alpha)\n",
    "\n",
    "    # fit the model to our training data.\n",
    "    glm.fit(X_train, y_train.logerror)\n",
    "\n",
    "    # predict train\n",
    "    y_train['logerror_pred_glm'] = glm.predict(X_train)\n",
    "    # predict validate\n",
    "    y_validate['logerror_pred_glm'] = glm.predict(X_validate)\n",
    "    # evaluate: train rmse\n",
    "    rmse_train = mean_squared_error(y_train.logerror, y_train.logerror_pred_glm)**(1/2)\n",
    "    # evaluate: validate rmse\n",
    "    rmse_validate = mean_squared_error(y_validate.logerror, y_validate.logerror_pred_glm)**(1/2)\n",
    "\n",
    "    print(\"RMSE for GLM using Tweedie, power=\", power, \" & alpha=\", alpha, \n",
    "        \"\\nTraining/In-Sample: \", round(rmse_train, 8), \n",
    "        \"\\nValidation/Out-of-Sample: \", round(rmse_validate, 8))"
   ]
  },
  {
   "cell_type": "code",
   "execution_count": null,
   "id": "faf5fa81",
   "metadata": {},
   "outputs": [],
   "source": [
    "Tweedie_regressor(X_train, y_train, X_validate, y_validate, power = 0, alpha=1)\n"
   ]
  },
  {
   "cell_type": "code",
   "execution_count": null,
   "id": "f20c7cbe",
   "metadata": {},
   "outputs": [],
   "source": [
    "Tweedie_regressor(X_train, y_train, X_validate, y_validate, power = 0, alpha = 0)"
   ]
  },
  {
   "cell_type": "markdown",
   "id": "fd2e10c8",
   "metadata": {},
   "source": [
    "### Polynomial Regression"
   ]
  },
  {
   "cell_type": "code",
   "execution_count": null,
   "id": "f67c8d04",
   "metadata": {},
   "outputs": [],
   "source": [
    "def polynomial_regression(X_train, y_train, X_validate, y_validate, degree):\n",
    "    # make the polynomial features to get a new set of features\n",
    "    pf = PolynomialFeatures(degree= degree)\n",
    "    \n",
    "    # fit and transform X_train_scaled\n",
    "    X_train_degree2 = pf.fit_transform(X_train)\n",
    "    \n",
    "\n",
    "    # transform X_validate_scaled \n",
    "    X_validate_degree2 = pf.transform(X_validate)\n",
    "\n",
    "    # create the model object\n",
    "    lm2 = LinearRegression(normalize=True)\n",
    "\n",
    "    # fit the model to our training data. We must specify the column in y_train, \n",
    "    # since we have converted it to a dataframe from a series! \n",
    "    lm2.fit(X_train_degree2, y_train.logerror)\n",
    "\n",
    "    # predict train\n",
    "    y_train['logerror_pred_lm2'] = lm2.predict(X_train_degree2)\n",
    "\n",
    "    # evaluate: train rmse\n",
    "    rmse_train = mean_squared_error(y_train.logerror, y_train.logerror_pred_lm2)**(1/2)\n",
    "\n",
    "    # predict validate\n",
    "    y_validate['logerror_pred_lm2'] = lm2.predict(X_validate_degree2)\n",
    "\n",
    "    # evaluate: validate rmse\n",
    "    rmse_validate = mean_squared_error(y_validate.logerror, y_validate.logerror_pred_lm2)**(1/2)\n",
    "\n",
    "    print(\"RMSE for Polynomial Model, degrees=\", degree, \"\\nTraining/In-Sample: \", round(rmse_train,8), \n",
    "        \"\\nValidation/Out-of-Sample: \", round(rmse_validate,8))"
   ]
  },
  {
   "cell_type": "code",
   "execution_count": 17,
   "id": "37ce0ce5",
   "metadata": {},
   "outputs": [
    {
     "ename": "NameError",
     "evalue": "name 'polynomial_regression' is not defined",
     "output_type": "error",
     "traceback": [
      "\u001b[0;31m---------------------------------------------------------------------------\u001b[0m",
      "\u001b[0;31mNameError\u001b[0m                                 Traceback (most recent call last)",
      "Input \u001b[0;32mIn [17]\u001b[0m, in \u001b[0;36m<cell line: 1>\u001b[0;34m()\u001b[0m\n\u001b[0;32m----> 1\u001b[0m \u001b[43mpolynomial_regression\u001b[49m(X_train, y_train, X_validate, y_validate, degree \u001b[38;5;241m=\u001b[39m \u001b[38;5;241m1\u001b[39m)\n",
      "\u001b[0;31mNameError\u001b[0m: name 'polynomial_regression' is not defined"
     ]
    }
   ],
   "source": [
    "polynomial_regression(X_train, y_train, X_validate, y_validate, degree = 1)"
   ]
  },
  {
   "cell_type": "code",
   "execution_count": 18,
   "id": "3ce697b3",
   "metadata": {},
   "outputs": [
    {
     "ename": "NameError",
     "evalue": "name 'polynomial_regression' is not defined",
     "output_type": "error",
     "traceback": [
      "\u001b[0;31m---------------------------------------------------------------------------\u001b[0m",
      "\u001b[0;31mNameError\u001b[0m                                 Traceback (most recent call last)",
      "Input \u001b[0;32mIn [18]\u001b[0m, in \u001b[0;36m<cell line: 1>\u001b[0;34m()\u001b[0m\n\u001b[0;32m----> 1\u001b[0m \u001b[43mpolynomial_regression\u001b[49m(X_train, y_train, X_validate, y_validate, degree \u001b[38;5;241m=\u001b[39m \u001b[38;5;241m2\u001b[39m)\n",
      "\u001b[0;31mNameError\u001b[0m: name 'polynomial_regression' is not defined"
     ]
    }
   ],
   "source": [
    "polynomial_regression(X_train, y_train, X_validate, y_validate, degree = 2)"
   ]
  },
  {
   "cell_type": "code",
   "execution_count": 19,
   "id": "1551aba0",
   "metadata": {},
   "outputs": [
    {
     "ename": "NameError",
     "evalue": "name 'polynomial_regression' is not defined",
     "output_type": "error",
     "traceback": [
      "\u001b[0;31m---------------------------------------------------------------------------\u001b[0m",
      "\u001b[0;31mNameError\u001b[0m                                 Traceback (most recent call last)",
      "Input \u001b[0;32mIn [19]\u001b[0m, in \u001b[0;36m<cell line: 1>\u001b[0;34m()\u001b[0m\n\u001b[0;32m----> 1\u001b[0m \u001b[43mpolynomial_regression\u001b[49m(X_train, y_train, X_validate, y_validate, degree \u001b[38;5;241m=\u001b[39m \u001b[38;5;241m3\u001b[39m)\n",
      "\u001b[0;31mNameError\u001b[0m: name 'polynomial_regression' is not defined"
     ]
    }
   ],
   "source": [
    "polynomial_regression(X_train, y_train, X_validate, y_validate, degree = 3)"
   ]
  },
  {
   "cell_type": "markdown",
   "id": "0bc82fd6",
   "metadata": {},
   "source": [
    "    Best model is Polynomial regression, degree 2\n",
    "    We will use this model in our unseen sample to predict logerror"
   ]
  },
  {
   "cell_type": "code",
   "execution_count": null,
   "id": "af8d3109",
   "metadata": {},
   "outputs": [],
   "source": [
    "def test_prediction(X_test,y_test):\n",
    "\n",
    "    lars = LassoLars(alpha=0)\n",
    "    lars.fit(X_test, y_test.logerror)\n",
    "    # fit the model to our training data. We must specify the column in y_train, \n",
    "    # since we have converted it to a dataframe from a series! \n",
    "    y_test['logerror_pred_lars'] = lars.predict(X_test)\n",
    "     # predict test\n",
    "\n",
    "    # evaluate: test rmse\n",
    "    rmse_test = mean_squared_error(y_test.logerror, y_test.logerror_pred_lars)**(1/2)\n",
    "\n",
    "    print(\"RMSE for Linear Regression Model,\",\"\\ntest: \", rmse_test, \"\\nr^2: \", explained_variance_score(y_test.logerror,\n",
    "                                           y_test.logerror_pred_lars))"
   ]
  },
  {
   "cell_type": "code",
   "execution_count": null,
   "id": "01a18037",
   "metadata": {},
   "outputs": [],
   "source": [
    "#test predict\n",
    "\n",
    "test_prediction(X_test,y_test)"
   ]
  },
  {
   "cell_type": "code",
   "execution_count": null,
   "id": "3762e11c",
   "metadata": {},
   "outputs": [],
   "source": []
  },
  {
   "cell_type": "code",
   "execution_count": null,
   "id": "71125436",
   "metadata": {},
   "outputs": [],
   "source": []
  }
 ],
 "metadata": {
  "kernelspec": {
   "display_name": "Python 3 (ipykernel)",
   "language": "python",
   "name": "python3"
  },
  "language_info": {
   "codemirror_mode": {
    "name": "ipython",
    "version": 3
   },
   "file_extension": ".py",
   "mimetype": "text/x-python",
   "name": "python",
   "nbconvert_exporter": "python",
   "pygments_lexer": "ipython3",
   "version": "3.9.12"
  }
 },
 "nbformat": 4,
 "nbformat_minor": 5
}
